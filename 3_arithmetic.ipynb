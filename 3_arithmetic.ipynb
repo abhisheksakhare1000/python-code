{
 "cells": [
  {
   "cell_type": "code",
   "execution_count": 5,
   "id": "19f986d9-7830-4ec6-9f71-a4e31ceb051b",
   "metadata": {},
   "outputs": [
    {
     "name": "stdout",
     "output_type": "stream",
     "text": [
      "2.5\n",
      "2\n"
     ]
    }
   ],
   "source": [
    "a = 10\n",
    "b =4\n",
    "c= a/b  # true divisison\n",
    "print(c)\n",
    "c = a//b # integer division\n",
    "print(c)"
   ]
  },
  {
   "cell_type": "code",
   "execution_count": 8,
   "id": "05543396-d51b-4b2d-bdfb-2b77d6c3024e",
   "metadata": {},
   "outputs": [
    {
     "name": "stdout",
     "output_type": "stream",
     "text": [
      " 68 get divided by 34 and remained is 0\n"
     ]
    }
   ],
   "source": [
    "a = 68\n",
    "b =34\n",
    "c = a%b\n",
    "if a%b == 0:\n",
    "    print(f\" {a} get divided by {b} and remained is 0\")\n",
    "else:\n",
    "    print(f\"{a} get divided by {b} and remained is {c}\")"
   ]
  },
  {
   "cell_type": "code",
   "execution_count": null,
   "id": "4751e211-78ff-4748-9fa1-3a061a45cb88",
   "metadata": {},
   "outputs": [],
   "source": []
  }
 ],
 "metadata": {
  "kernelspec": {
   "display_name": "Python 3 (ipykernel)",
   "language": "python",
   "name": "python3"
  },
  "language_info": {
   "codemirror_mode": {
    "name": "ipython",
    "version": 3
   },
   "file_extension": ".py",
   "mimetype": "text/x-python",
   "name": "python",
   "nbconvert_exporter": "python",
   "pygments_lexer": "ipython3",
   "version": "3.10.6"
  }
 },
 "nbformat": 4,
 "nbformat_minor": 5
}
