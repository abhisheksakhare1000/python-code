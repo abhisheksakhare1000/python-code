{
 "cells": [
  {
   "cell_type": "code",
   "execution_count": 1,
   "id": "4c3e702c-ef2f-4361-8d60-d0c8e22747cc",
   "metadata": {},
   "outputs": [],
   "source": [
    "def test(a,b,c,d,e):\n",
    "    return a,b,c,d,e"
   ]
  },
  {
   "cell_type": "code",
   "execution_count": 2,
   "id": "ed41bffc-e470-492e-8d3d-053edea4fe47",
   "metadata": {},
   "outputs": [],
   "source": [
    "def test1(*args): # *static means any number of argument can be pass\n",
    "    return args # args is not reserved keyword"
   ]
  },
  {
   "cell_type": "code",
   "execution_count": 4,
   "id": "495639e3-83a3-4df7-8182-0fe34cdf0a90",
   "metadata": {},
   "outputs": [
    {
     "data": {
      "text/plain": [
       "(54, 346)"
      ]
     },
     "execution_count": 4,
     "metadata": {},
     "output_type": "execute_result"
    }
   ],
   "source": [
    "test1(54,346)"
   ]
  },
  {
   "cell_type": "code",
   "execution_count": 5,
   "id": "ad73da39-cce2-412c-aee9-eaed9df1a1da",
   "metadata": {},
   "outputs": [
    {
     "data": {
      "text/plain": [
       "(35, 'ddsf', 4567)"
      ]
     },
     "execution_count": 5,
     "metadata": {},
     "output_type": "execute_result"
    }
   ],
   "source": [
    "test1(35,\"ddsf\",4567)"
   ]
  },
  {
   "cell_type": "code",
   "execution_count": 6,
   "id": "0ba30827-a2d8-4b68-96c9-e656cdb65b17",
   "metadata": {},
   "outputs": [
    {
     "data": {
      "text/plain": [
       "([5645], 564, 'suhdhdjd', 3, 5, 75)"
      ]
     },
     "execution_count": 6,
     "metadata": {},
     "output_type": "execute_result"
    }
   ],
   "source": [
    "test1([5645],564,\"suhdhdjd\",3,5,75)"
   ]
  },
  {
   "cell_type": "code",
   "execution_count": 8,
   "id": "515cc761-722c-4388-9cca-65b217d061d6",
   "metadata": {},
   "outputs": [],
   "source": [
    "def test2(*abhi):\n",
    "    return abhi"
   ]
  },
  {
   "cell_type": "code",
   "execution_count": 10,
   "id": "6d6d3e6b-ef83-4a55-8ef6-329a5df9bbbb",
   "metadata": {},
   "outputs": [
    {
     "data": {
      "text/plain": [
       "(224, 3, 5, 4, '355')"
      ]
     },
     "execution_count": 10,
     "metadata": {},
     "output_type": "execute_result"
    }
   ],
   "source": [
    "test2(224,3,5,4,\"355\")"
   ]
  },
  {
   "cell_type": "code",
   "execution_count": 15,
   "id": "95e55672-9fc8-44cd-9785-261321aced03",
   "metadata": {},
   "outputs": [],
   "source": [
    "def test3(* abhi,a:\n",
    "    return abhi, a"
   ]
  },
  {
   "cell_type": "code",
   "execution_count": 17,
   "id": "43013a99-6395-4623-92e9-f51c152ab0a6",
   "metadata": {},
   "outputs": [
    {
     "data": {
      "text/plain": [
       "((345, 3, 55), 56)"
      ]
     },
     "execution_count": 17,
     "metadata": {},
     "output_type": "execute_result"
    }
   ],
   "source": [
    "test3(345,3,a = 55)"
   ]
  },
  {
   "cell_type": "code",
   "execution_count": 20,
   "id": "c21f754b-1898-42c8-a307-701f6b476f84",
   "metadata": {},
   "outputs": [],
   "source": [
    "def test4(a,*abhi , e,b,c ,d): # a is postion by default & after *abhi you have mention findig in while calling function\n",
    "    return a,*abhi , e,b,c ,d"
   ]
  },
  {
   "cell_type": "code",
   "execution_count": 22,
   "id": "8175b720-12e3-4a76-ab9b-0898923d23ef",
   "metadata": {},
   "outputs": [
    {
     "data": {
      "text/plain": [
       "(454, 5, 4, 6, 5, 8, 5, 34, 34, 86)"
      ]
     },
     "execution_count": 22,
     "metadata": {},
     "output_type": "execute_result"
    }
   ],
   "source": [
    "test4(454,5,4,6,5,8, e=5,b=34,c=34,d=86)"
   ]
  },
  {
   "cell_type": "code",
   "execution_count": 25,
   "id": "35f64919-0df5-4dda-a930-666e11e15200",
   "metadata": {},
   "outputs": [],
   "source": [
    "#wrtie function which will return list only \n",
    "def test5(*args):\n",
    "    l = []\n",
    "    for i in args:\n",
    "        if type(i) == list:\n",
    "            l.append(i)\n",
    "    return l"
   ]
  },
  {
   "cell_type": "code",
   "execution_count": 26,
   "id": "cfec0e19-7421-4f91-9fdc-b2208e207f71",
   "metadata": {},
   "outputs": [
    {
     "data": {
      "text/plain": [
       "[[54, 3, 6, 3, 6], [456, 4, 5, 5, 7]]"
      ]
     },
     "execution_count": 26,
     "metadata": {},
     "output_type": "execute_result"
    }
   ],
   "source": [
    "test5([54,3,6,3,6],464,7,5,56,8,4,[456,4,5,5,7,])"
   ]
  },
  {
   "cell_type": "code",
   "execution_count": 27,
   "id": "dd6c4060-a5f3-4112-8205-dff180e2a309",
   "metadata": {},
   "outputs": [],
   "source": [
    "def test6(**kwdargs ): # we gives in pair (dictionary)\n",
    "    return args"
   ]
  },
  {
   "cell_type": "code",
   "execution_count": 28,
   "id": "bd1b730b-55d1-462f-8002-71cdc6db6782",
   "metadata": {},
   "outputs": [
    {
     "data": {
      "text/plain": [
       "{'a': 45, 'dd': 356}"
      ]
     },
     "execution_count": 28,
     "metadata": {},
     "output_type": "execute_result"
    }
   ],
   "source": [
    "test6(a=45, dd= 356) # output will be dictionary"
   ]
  },
  {
   "cell_type": "code",
   "execution_count": 29,
   "id": "011211d6-e1f6-431a-84d2-a9c07c079d7d",
   "metadata": {},
   "outputs": [
    {
     "ename": "SyntaxError",
     "evalue": "expression cannot contain assignment, perhaps you meant \"==\"? (166056316.py, line 1)",
     "output_type": "error",
     "traceback": [
      "\u001b[0;36m  Cell \u001b[0;32mIn [29], line 1\u001b[0;36m\u001b[0m\n\u001b[0;31m    test6(\"v\" = \" dfsdfds0\")\u001b[0m\n\u001b[0m          ^\u001b[0m\n\u001b[0;31mSyntaxError\u001b[0m\u001b[0;31m:\u001b[0m expression cannot contain assignment, perhaps you meant \"==\"?\n"
     ]
    }
   ],
   "source": [
    "test6(\"v\" = \" dfsdfds0\") #beoz both are variable"
   ]
  },
  {
   "cell_type": "code",
   "execution_count": 30,
   "id": "9c66700c-e834-43a4-862e-1ce4362d3638",
   "metadata": {},
   "outputs": [
    {
     "data": {
      "text/plain": [
       "{'v': ' dfsdfds0'}"
      ]
     },
     "execution_count": 30,
     "metadata": {},
     "output_type": "execute_result"
    }
   ],
   "source": [
    "test6(v= \" dfsdfds0\") "
   ]
  },
  {
   "cell_type": "code",
   "execution_count": 32,
   "id": "400dde01-ae4f-416d-b471-350dba58301f",
   "metadata": {},
   "outputs": [
    {
     "ename": "SyntaxError",
     "evalue": "invalid syntax (121819355.py, line 1)",
     "output_type": "error",
     "traceback": [
      "\u001b[0;36m  Cell \u001b[0;32mIn [32], line 1\u001b[0;36m\u001b[0m\n\u001b[0;31m    test6(4: \" dfsdfds0\")  #always give varible (key and valude pair)\u001b[0m\n\u001b[0m           ^\u001b[0m\n\u001b[0;31mSyntaxError\u001b[0m\u001b[0;31m:\u001b[0m invalid syntax\n"
     ]
    }
   ],
   "source": [
    "test6(4 = \" dfsdfds0\")  #always give varible (key and valude pair)"
   ]
  },
  {
   "cell_type": "code",
   "execution_count": 33,
   "id": "44f8d690-20e7-459e-95be-12591755ce9c",
   "metadata": {},
   "outputs": [],
   "source": [
    "def test7(a, **args):\n",
    "    return a , args"
   ]
  },
  {
   "cell_type": "code",
   "execution_count": 35,
   "id": "8ea0a5e1-a563-4115-a87f-c800e3bf7adf",
   "metadata": {},
   "outputs": [
    {
     "data": {
      "text/plain": [
       "(35, {'c': 5, 'b': 467})"
      ]
     },
     "execution_count": 35,
     "metadata": {},
     "output_type": "execute_result"
    }
   ],
   "source": [
    "test7(35, c= 5, b = 467)"
   ]
  },
  {
   "cell_type": "code",
   "execution_count": 36,
   "id": "973a17c8-0aae-4404-b7e1-a5df60928881",
   "metadata": {},
   "outputs": [
    {
     "ename": "SyntaxError",
     "evalue": "invalid syntax (719346443.py, line 1)",
     "output_type": "error",
     "traceback": [
      "\u001b[0;36m  Cell \u001b[0;32mIn [36], line 1\u001b[0;36m\u001b[0m\n\u001b[0;31m    def test7(a, **args, *args1 ): # using *args after **args will give you error\u001b[0m\n\u001b[0m                         ^\u001b[0m\n\u001b[0;31mSyntaxError\u001b[0m\u001b[0;31m:\u001b[0m invalid syntax\n"
     ]
    }
   ],
   "source": [
    "def test7(a, **args, *args1 ): # using *args after **args will give you error\n",
    "    return a , args, args1  # single static after double static will give you syntax error"
   ]
  },
  {
   "cell_type": "code",
   "execution_count": 38,
   "id": "4311bd72-8528-4766-b5ba-60d4aa1dcc78",
   "metadata": {},
   "outputs": [],
   "source": [
    "def test8(a, *args, **kwdargs ): # using *args after **args will give you error\n",
    "    return a , args, kwdargs"
   ]
  },
  {
   "cell_type": "code",
   "execution_count": 41,
   "id": "2ece33a2-a00c-43d3-884c-f08aa8ecb099",
   "metadata": {},
   "outputs": [
    {
     "data": {
      "text/plain": [
       "(45, (34, 4, 6, 6, 67, 7, 7, 7), {'c': 456, 'b': 545, 'e': 454})"
      ]
     },
     "execution_count": 41,
     "metadata": {},
     "output_type": "execute_result"
    }
   ],
   "source": [
    "test8(45, 34,4,6,6,67,7,7,7, c=456,b=545,e =454)"
   ]
  },
  {
   "cell_type": "code",
   "execution_count": 42,
   "id": "5994e8db-5e0c-4a74-b44d-75b403f3b9d9",
   "metadata": {},
   "outputs": [],
   "source": [
    "a = lambda a,b  : a*b\n"
   ]
  },
  {
   "cell_type": "code",
   "execution_count": 43,
   "id": "d15f8541-bca0-4927-bd6f-bc24da834f20",
   "metadata": {},
   "outputs": [
    {
     "data": {
      "text/plain": [
       "230"
      ]
     },
     "execution_count": 43,
     "metadata": {},
     "output_type": "execute_result"
    }
   ],
   "source": [
    "a(5,46)"
   ]
  },
  {
   "cell_type": "code",
   "execution_count": 51,
   "id": "2149f8e8-1a4e-4b63-9ba9-02e34db1aaab",
   "metadata": {},
   "outputs": [],
   "source": [
    " # multiple varible dont return by lambda\n",
    "b = lambda *a : a"
   ]
  },
  {
   "cell_type": "code",
   "execution_count": 52,
   "id": "c2927616-eb4f-4ef1-ab18-6bbc13b404aa",
   "metadata": {},
   "outputs": [
    {
     "data": {
      "text/plain": [
       "(45, 5, 5, 3, 67)"
      ]
     },
     "execution_count": 52,
     "metadata": {},
     "output_type": "execute_result"
    }
   ],
   "source": [
    "b(45,5,5,3,67)"
   ]
  },
  {
   "cell_type": "code",
   "execution_count": 60,
   "id": "907afb92-d3d8-4feb-b03b-7768a686c497",
   "metadata": {},
   "outputs": [],
   "source": [
    "a = lambda a,b,c: (a+b)+(c+b)"
   ]
  },
  {
   "cell_type": "code",
   "execution_count": 61,
   "id": "dadc57e9-f350-4d68-8eb3-07557f4aa94c",
   "metadata": {},
   "outputs": [
    {
     "data": {
      "text/plain": [
       "204"
      ]
     },
     "execution_count": 61,
     "metadata": {},
     "output_type": "execute_result"
    }
   ],
   "source": [
    "a(35,67,35)"
   ]
  },
  {
   "cell_type": "code",
   "execution_count": 62,
   "id": "95536e27-e0a7-400d-9d9c-80daf76dcce2",
   "metadata": {},
   "outputs": [],
   "source": [
    "x = lambda x: [print(i) for i in x]"
   ]
  },
  {
   "cell_type": "code",
   "execution_count": 63,
   "id": "8af600c4-4c7a-4d5d-b1ca-a2ba2c7339b4",
   "metadata": {},
   "outputs": [
    {
     "name": "stdout",
     "output_type": "stream",
     "text": [
      "565\n",
      "5\n",
      "7\n",
      "4\n",
      "78\n"
     ]
    },
    {
     "data": {
      "text/plain": [
       "[None, None, None, None, None]"
      ]
     },
     "execution_count": 63,
     "metadata": {},
     "output_type": "execute_result"
    }
   ],
   "source": [
    "x([565,5,7,4,78])"
   ]
  },
  {
   "cell_type": "code",
   "execution_count": 64,
   "id": "01810490-9547-4721-9594-a04ef9f8937d",
   "metadata": {},
   "outputs": [],
   "source": [
    "x = lambda x: [i for i in x]"
   ]
  },
  {
   "cell_type": "code",
   "execution_count": 65,
   "id": "82dc412e-1208-4789-8186-4be213eba6f2",
   "metadata": {},
   "outputs": [
    {
     "data": {
      "text/plain": [
       "[565, 5, 7, 4, 78]"
      ]
     },
     "execution_count": 65,
     "metadata": {},
     "output_type": "execute_result"
    }
   ],
   "source": [
    "x([565,5,7,4,78])"
   ]
  },
  {
   "cell_type": "code",
   "execution_count": 66,
   "id": "9c2188f3-28d3-469f-9704-54c23e249be2",
   "metadata": {},
   "outputs": [],
   "source": [
    "a = 10\n",
    "def test16(c,d):\n",
    "    a = 3\n",
    "    return c*d"
   ]
  },
  {
   "cell_type": "code",
   "execution_count": 69,
   "id": "7a05b25e-6a97-4812-9cb9-cd9e5ba6f6b3",
   "metadata": {},
   "outputs": [
    {
     "data": {
      "text/plain": [
       "100"
      ]
     },
     "execution_count": 69,
     "metadata": {},
     "output_type": "execute_result"
    }
   ],
   "source": [
    "test16(a,10)"
   ]
  },
  {
   "cell_type": "code",
   "execution_count": 70,
   "id": "b84c065c-a4a5-48c0-b605-1a6169df69d0",
   "metadata": {},
   "outputs": [],
   "source": [
    "a = lambda a: [i+2 for i in a]"
   ]
  },
  {
   "cell_type": "code",
   "execution_count": 71,
   "id": "42afdd13-8107-494e-ab37-6246cccc257b",
   "metadata": {},
   "outputs": [
    {
     "data": {
      "text/plain": [
       "<function __main__.<lambda>(a)>"
      ]
     },
     "execution_count": 71,
     "metadata": {},
     "output_type": "execute_result"
    }
   ],
   "source": [
    "a"
   ]
  },
  {
   "cell_type": "code",
   "execution_count": 74,
   "id": "7f1cf849-ecf9-45c4-9f59-b10ec9dad9d1",
   "metadata": {},
   "outputs": [],
   "source": [
    "l = [3,5,4,5,67,34,5,4,6,7]\n",
    "l1 = []\n",
    "for i in l:\n",
    "    l1.append(i)\n"
   ]
  },
  {
   "cell_type": "code",
   "execution_count": 75,
   "id": "cef61f6c-5711-490d-a7b8-44ede334e561",
   "metadata": {},
   "outputs": [
    {
     "data": {
      "text/plain": [
       "[3, 5, 4, 5, 67, 34, 5, 4, 6, 7]"
      ]
     },
     "execution_count": 75,
     "metadata": {},
     "output_type": "execute_result"
    }
   ],
   "source": [
    "l1"
   ]
  },
  {
   "cell_type": "code",
   "execution_count": 76,
   "id": "2d336b5f-947b-431a-b448-9ed851ef54d6",
   "metadata": {},
   "outputs": [],
   "source": [
    "def test17(a):\n",
    "    l1 = []\n",
    "    for i in a :\n",
    "        l1.append(i+2)\n",
    "    return l1"
   ]
  },
  {
   "cell_type": "code",
   "execution_count": 78,
   "id": "decb4a53-7f6e-4821-aa8c-aaeba938306d",
   "metadata": {},
   "outputs": [
    {
     "data": {
      "text/plain": [
       "[5, 7, 6, 7, 69, 36, 7, 6, 8, 9]"
      ]
     },
     "execution_count": 78,
     "metadata": {},
     "output_type": "execute_result"
    }
   ],
   "source": [
    "test17(l1)"
   ]
  },
  {
   "cell_type": "code",
   "execution_count": 80,
   "id": "aba4d489-4aac-4e9c-a02b-4a92ed40c00b",
   "metadata": {},
   "outputs": [],
   "source": [
    "a = lambda a: [i+2 for i in a]"
   ]
  },
  {
   "cell_type": "code",
   "execution_count": 81,
   "id": "dcf95d0c-5af8-4ed6-bd31-5c6e2f0268bf",
   "metadata": {},
   "outputs": [
    {
     "data": {
      "text/plain": [
       "[5, 7, 6, 7, 69, 36, 7, 6, 8, 9]"
      ]
     },
     "execution_count": 81,
     "metadata": {},
     "output_type": "execute_result"
    }
   ],
   "source": [
    "a(l)"
   ]
  },
  {
   "cell_type": "code",
   "execution_count": 82,
   "id": "15ef941f-8352-4583-994f-076815f2d57a",
   "metadata": {},
   "outputs": [
    {
     "data": {
      "text/plain": [
       "[(9, 4)]"
      ]
     },
     "execution_count": 82,
     "metadata": {},
     "output_type": "execute_result"
    }
   ],
   "source": [
    "#list omprehension\n",
    "[ (i**2,i+1) for i in l if i<4] "
   ]
  },
  {
   "cell_type": "code",
   "execution_count": 89,
   "id": "4a2050e4-321e-425c-88a6-9972d5633eb3",
   "metadata": {},
   "outputs": [],
   "source": [
    "d1 = { 1:1, 2:4,3:9}"
   ]
  },
  {
   "cell_type": "code",
   "execution_count": 90,
   "id": "1b561ff8-96e7-4cfa-9bc8-a8f42609bfca",
   "metadata": {},
   "outputs": [
    {
     "data": {
      "text/plain": [
       "{1: 1, 2: 4, 3: 9}"
      ]
     },
     "execution_count": 90,
     "metadata": {},
     "output_type": "execute_result"
    }
   ],
   "source": [
    "{i:i**2 for i in d1}"
   ]
  },
  {
   "cell_type": "code",
   "execution_count": 94,
   "id": "8161b32c-79ad-4d33-bb09-4aa2f91e6ab5",
   "metadata": {},
   "outputs": [],
   "source": [
    "d1 = {}\n",
    "for i in range (10):\n",
    "    d1[i] = i**2"
   ]
  },
  {
   "cell_type": "code",
   "execution_count": 95,
   "id": "31f65ae7-1aef-46c3-ae8d-129daab450ef",
   "metadata": {},
   "outputs": [
    {
     "data": {
      "text/plain": [
       "{0: 0, 1: 1, 2: 4, 3: 9, 4: 16, 5: 25, 6: 36, 7: 49, 8: 64, 9: 81}"
      ]
     },
     "execution_count": 95,
     "metadata": {},
     "output_type": "execute_result"
    }
   ],
   "source": [
    "d1"
   ]
  },
  {
   "cell_type": "code",
   "execution_count": 96,
   "id": "16f63a59-f4e9-46fb-ae9b-b4348f891bbb",
   "metadata": {},
   "outputs": [
    {
     "data": {
      "text/plain": [
       "<generator object <genexpr> at 0x7f7d3f25cd60>"
      ]
     },
     "execution_count": 96,
     "metadata": {},
     "output_type": "execute_result"
    }
   ],
   "source": [
    "# tuple compreshension\n",
    "(i for i in range(10))"
   ]
  },
  {
   "cell_type": "code",
   "execution_count": 97,
   "id": "dc35a950-61f2-48ca-874b-e8cc859dcd3b",
   "metadata": {},
   "outputs": [],
   "source": [
    "#generator object "
   ]
  },
  {
   "cell_type": "code",
   "execution_count": 98,
   "id": "85cd3b61-0067-44d8-a3a4-e20746e4a628",
   "metadata": {},
   "outputs": [
    {
     "data": {
      "text/plain": [
       "(0, 1, 2, 3, 4, 5, 6, 7, 8, 9)"
      ]
     },
     "execution_count": 98,
     "metadata": {},
     "output_type": "execute_result"
    }
   ],
   "source": [
    "tuple(i for i in range(10))"
   ]
  },
  {
   "cell_type": "code",
   "execution_count": 99,
   "id": "afafee45-ebb4-4e9d-b4b0-a83f843fb2e1",
   "metadata": {},
   "outputs": [
    {
     "ename": "TypeError",
     "evalue": "'str' object is not an iterator",
     "output_type": "error",
     "traceback": [
      "\u001b[0;31m---------------------------------------------------------------------------\u001b[0m",
      "\u001b[0;31mTypeError\u001b[0m                                 Traceback (most recent call last)",
      "Cell \u001b[0;32mIn [99], line 3\u001b[0m\n\u001b[1;32m      1\u001b[0m \u001b[38;5;66;03m#iterable and iterator\u001b[39;00m\n\u001b[1;32m      2\u001b[0m s \u001b[38;5;241m=\u001b[39m \u001b[38;5;124m\"\u001b[39m\u001b[38;5;124mabhi\u001b[39m\u001b[38;5;124m\"\u001b[39m\n\u001b[0;32m----> 3\u001b[0m \u001b[38;5;28;43mnext\u001b[39;49m\u001b[43m(\u001b[49m\u001b[43ms\u001b[49m\u001b[43m)\u001b[49m\n",
      "\u001b[0;31mTypeError\u001b[0m: 'str' object is not an iterator"
     ]
    }
   ],
   "source": [
    "#iterable and iterator\n",
    "s = \"abhi\"\n",
    "next(s)"
   ]
  },
  {
   "cell_type": "code",
   "execution_count": 100,
   "id": "88d54db0-03d8-4daa-babe-55ddd854952c",
   "metadata": {},
   "outputs": [],
   "source": [
    "# error : 'str' object is not an iterator\n",
    "#string is iterable but we need to convert into iteraotor\n",
    "s =iter(s)"
   ]
  },
  {
   "cell_type": "code",
   "execution_count": 101,
   "id": "d12d5ab7-634b-4805-9c9d-41b07153bb3b",
   "metadata": {},
   "outputs": [
    {
     "data": {
      "text/plain": [
       "'a'"
      ]
     },
     "execution_count": 101,
     "metadata": {},
     "output_type": "execute_result"
    }
   ],
   "source": [
    "next(s)"
   ]
  },
  {
   "cell_type": "code",
   "execution_count": 103,
   "id": "0cf8072a-87ba-410d-9ab5-bde1cdb3c644",
   "metadata": {},
   "outputs": [
    {
     "ename": "TypeError",
     "evalue": "'list' object is not an iterator",
     "output_type": "error",
     "traceback": [
      "\u001b[0;31m---------------------------------------------------------------------------\u001b[0m",
      "\u001b[0;31mTypeError\u001b[0m                                 Traceback (most recent call last)",
      "Cell \u001b[0;32mIn [103], line 2\u001b[0m\n\u001b[1;32m      1\u001b[0m l \u001b[38;5;241m=\u001b[39m [\u001b[38;5;241m3\u001b[39m,\u001b[38;5;241m4\u001b[39m,\u001b[38;5;241m2\u001b[39m,\u001b[38;5;241m4\u001b[39m,\u001b[38;5;241m2\u001b[39m]\n\u001b[0;32m----> 2\u001b[0m \u001b[38;5;28;43mnext\u001b[39;49m\u001b[43m(\u001b[49m\u001b[43ml\u001b[49m\u001b[43m)\u001b[49m\n",
      "\u001b[0;31mTypeError\u001b[0m: 'list' object is not an iterator"
     ]
    }
   ],
   "source": [
    "l = [3,4,2,4,2]\n",
    "next(l)"
   ]
  },
  {
   "cell_type": "code",
   "execution_count": 104,
   "id": "ff917749-03be-4855-8b12-ff49a887ee9a",
   "metadata": {},
   "outputs": [],
   "source": [
    "l = iter(l)"
   ]
  },
  {
   "cell_type": "code",
   "execution_count": 105,
   "id": "afb48101-629f-426e-aebc-691a6a153456",
   "metadata": {},
   "outputs": [
    {
     "data": {
      "text/plain": [
       "3"
      ]
     },
     "execution_count": 105,
     "metadata": {},
     "output_type": "execute_result"
    }
   ],
   "source": [
    "next(l)"
   ]
  },
  {
   "cell_type": "code",
   "execution_count": 106,
   "id": "2fb65d8a-7b83-4b38-bd05-f7c9095ac6d9",
   "metadata": {},
   "outputs": [
    {
     "data": {
      "text/plain": [
       "4"
      ]
     },
     "execution_count": 106,
     "metadata": {},
     "output_type": "execute_result"
    }
   ],
   "source": [
    "next(l)"
   ]
  },
  {
   "cell_type": "code",
   "execution_count": null,
   "id": "bd6b7ed3-a3ec-4e08-9c00-e3d943850460",
   "metadata": {},
   "outputs": [],
   "source": []
  }
 ],
 "metadata": {
  "kernelspec": {
   "display_name": "Python 3 (ipykernel)",
   "language": "python",
   "name": "python3"
  },
  "language_info": {
   "codemirror_mode": {
    "name": "ipython",
    "version": 3
   },
   "file_extension": ".py",
   "mimetype": "text/x-python",
   "name": "python",
   "nbconvert_exporter": "python",
   "pygments_lexer": "ipython3",
   "version": "3.10.6"
  }
 },
 "nbformat": 4,
 "nbformat_minor": 5
}
