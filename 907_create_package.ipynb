{
 "cells": [
  {
   "cell_type": "code",
   "execution_count": 6,
   "id": "5a718ae1-834d-460e-9112-124808d80149",
   "metadata": {},
   "outputs": [],
   "source": [
    "import mydict\n",
    "from mydict import dict_parse # dict_parse class\n"
   ]
  },
  {
   "cell_type": "code",
   "execution_count": 7,
   "id": "716ee40f-8ec9-454b-96c3-4e4c132163c0",
   "metadata": {},
   "outputs": [
    {
     "data": {
      "text/plain": [
       "mydict.dict_parse"
      ]
     },
     "execution_count": 7,
     "metadata": {},
     "output_type": "execute_result"
    }
   ],
   "source": [
    "mydict.dict_parse"
   ]
  },
  {
   "cell_type": "code",
   "execution_count": 9,
   "id": "2575d4aa-6ea3-407c-bbf9-ac65a70a2f62",
   "metadata": {},
   "outputs": [],
   "source": [
    "d = mydict.dict_parse({\"k1\":\"2333\"}) # created obje \"mydict\" is module"
   ]
  },
  {
   "cell_type": "code",
   "execution_count": 11,
   "id": "8b3aea25-6e92-4805-9c33-2da165fce44f",
   "metadata": {},
   "outputs": [
    {
     "name": "stdout",
     "output_type": "stream",
     "text": [
      "k1\n"
     ]
    }
   ],
   "source": [
    "d.key_dict()"
   ]
  },
  {
   "cell_type": "code",
   "execution_count": 12,
   "id": "94a228cc-a48f-4f92-a4d7-f44a3e4de7ca",
   "metadata": {},
   "outputs": [
    {
     "name": "stdout",
     "output_type": "stream",
     "text": [
      "2333\n"
     ]
    }
   ],
   "source": [
    "d.value_dict()"
   ]
  },
  {
   "cell_type": "code",
   "execution_count": null,
   "id": "a2222889-8414-4400-bb12-58ec34b5106d",
   "metadata": {},
   "outputs": [],
   "source": []
  }
 ],
 "metadata": {
  "kernelspec": {
   "display_name": "Python 3 (ipykernel)",
   "language": "python",
   "name": "python3"
  },
  "language_info": {
   "codemirror_mode": {
    "name": "ipython",
    "version": 3
   },
   "file_extension": ".py",
   "mimetype": "text/x-python",
   "name": "python",
   "nbconvert_exporter": "python",
   "pygments_lexer": "ipython3",
   "version": "3.10.6"
  }
 },
 "nbformat": 4,
 "nbformat_minor": 5
}
