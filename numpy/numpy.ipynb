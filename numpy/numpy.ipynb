{
 "cells": [
  {
   "cell_type": "code",
   "execution_count": 1,
   "id": "dab0e035",
   "metadata": {},
   "outputs": [],
   "source": [
    "import pandas as pd\n",
    "import numpy as np"
   ]
  },
  {
   "cell_type": "code",
   "execution_count": 2,
   "id": "32edf576",
   "metadata": {},
   "outputs": [],
   "source": [
    "l = [\"abhishek\",3,4,3,5,7]"
   ]
  },
  {
   "cell_type": "code",
   "execution_count": 3,
   "id": "3af5c3e4",
   "metadata": {},
   "outputs": [
    {
     "data": {
      "text/plain": [
       "array(['abhishek', '3', '4', '3', '5', '7'], dtype='<U11')"
      ]
     },
     "execution_count": 3,
     "metadata": {},
     "output_type": "execute_result"
    }
   ],
   "source": [
    "np.array(l)"
   ]
  },
  {
   "cell_type": "code",
   "execution_count": 4,
   "id": "26567029",
   "metadata": {},
   "outputs": [
    {
     "data": {
      "text/plain": [
       "numpy.ndarray"
      ]
     },
     "execution_count": 4,
     "metadata": {},
     "output_type": "execute_result"
    }
   ],
   "source": [
    "type(np.array(l))"
   ]
  },
  {
   "cell_type": "code",
   "execution_count": 5,
   "id": "f7db4e1c",
   "metadata": {},
   "outputs": [],
   "source": [
    "a1 = np.array([2,356,7,5,6])\n"
   ]
  },
  {
   "cell_type": "code",
   "execution_count": 6,
   "id": "a5b2f933",
   "metadata": {},
   "outputs": [],
   "source": [
    "a = np.array([[1,2],[6,4]])"
   ]
  },
  {
   "cell_type": "code",
   "execution_count": 7,
   "id": "7545d85d",
   "metadata": {},
   "outputs": [
    {
     "data": {
      "text/plain": [
       "array([[1, 2],\n",
       "       [6, 4]])"
      ]
     },
     "execution_count": 7,
     "metadata": {},
     "output_type": "execute_result"
    }
   ],
   "source": [
    "a"
   ]
  },
  {
   "cell_type": "code",
   "execution_count": 8,
   "id": "6647b0e8",
   "metadata": {},
   "outputs": [
    {
     "data": {
      "text/plain": [
       "4"
      ]
     },
     "execution_count": 8,
     "metadata": {},
     "output_type": "execute_result"
    }
   ],
   "source": [
    "a[1][1]"
   ]
  },
  {
   "cell_type": "code",
   "execution_count": 9,
   "id": "0b8205c7",
   "metadata": {},
   "outputs": [
    {
     "data": {
      "text/plain": [
       "array([  2, 356,   7,   5,   6])"
      ]
     },
     "execution_count": 9,
     "metadata": {},
     "output_type": "execute_result"
    }
   ],
   "source": [
    "a1"
   ]
  },
  {
   "cell_type": "code",
   "execution_count": 10,
   "id": "b85c984f",
   "metadata": {},
   "outputs": [
    {
     "data": {
      "text/plain": [
       "6"
      ]
     },
     "execution_count": 10,
     "metadata": {},
     "output_type": "execute_result"
    }
   ],
   "source": [
    "a1[4]"
   ]
  },
  {
   "cell_type": "code",
   "execution_count": 11,
   "id": "29633362",
   "metadata": {},
   "outputs": [],
   "source": [
    "a2 = np.array([3,4,5,3,5], ndmin =4) # how much dimensions you want"
   ]
  },
  {
   "cell_type": "code",
   "execution_count": 12,
   "id": "79992ddc",
   "metadata": {},
   "outputs": [
    {
     "data": {
      "text/plain": [
       "array([[[[3, 4, 5, 3, 5]]]])"
      ]
     },
     "execution_count": 12,
     "metadata": {},
     "output_type": "execute_result"
    }
   ],
   "source": [
    "a2"
   ]
  },
  {
   "cell_type": "code",
   "execution_count": 13,
   "id": "c9afcc4d",
   "metadata": {},
   "outputs": [
    {
     "data": {
      "text/plain": [
       "array([[[3, 4, 5, 3, 5]]])"
      ]
     },
     "execution_count": 13,
     "metadata": {},
     "output_type": "execute_result"
    }
   ],
   "source": [
    "a2[0]"
   ]
  },
  {
   "cell_type": "code",
   "execution_count": 14,
   "id": "cfda0706",
   "metadata": {},
   "outputs": [
    {
     "data": {
      "text/plain": [
       "array([[[3, 4, 5, 3, 5]]])"
      ]
     },
     "execution_count": 14,
     "metadata": {},
     "output_type": "execute_result"
    }
   ],
   "source": [
    "a2[0]"
   ]
  },
  {
   "cell_type": "code",
   "execution_count": 15,
   "id": "06ca5e6c",
   "metadata": {},
   "outputs": [
    {
     "data": {
      "text/plain": [
       "3"
      ]
     },
     "execution_count": 15,
     "metadata": {},
     "output_type": "execute_result"
    }
   ],
   "source": [
    "a2[0][0][0][0]"
   ]
  },
  {
   "cell_type": "code",
   "execution_count": 16,
   "id": "01aa320f",
   "metadata": {},
   "outputs": [
    {
     "data": {
      "text/plain": [
       "array([[1, 2],\n",
       "       [6, 4]])"
      ]
     },
     "execution_count": 16,
     "metadata": {},
     "output_type": "execute_result"
    }
   ],
   "source": [
    "a"
   ]
  },
  {
   "cell_type": "code",
   "execution_count": 17,
   "id": "21e6e3b9",
   "metadata": {},
   "outputs": [
    {
     "data": {
      "text/plain": [
       "array([345678,   2345,     67,   6543,     45])"
      ]
     },
     "execution_count": 17,
     "metadata": {},
     "output_type": "execute_result"
    }
   ],
   "source": [
    "np.asanyarray([345678,2345,67,6543,45]) # function"
   ]
  },
  {
   "cell_type": "code",
   "execution_count": 18,
   "id": "d61010fb",
   "metadata": {},
   "outputs": [
    {
     "data": {
      "text/plain": [
       "array([3, 4, 6, 4, 6, 4])"
      ]
     },
     "execution_count": 18,
     "metadata": {},
     "output_type": "execute_result"
    }
   ],
   "source": [
    "np.asarray([3,4,6,4,6,4]) # function"
   ]
  },
  {
   "cell_type": "code",
   "execution_count": 19,
   "id": "42823e56",
   "metadata": {},
   "outputs": [
    {
     "data": {
      "text/plain": [
       "matrix([[2, 2, 3, 5]])"
      ]
     },
     "execution_count": 19,
     "metadata": {},
     "output_type": "execute_result"
    }
   ],
   "source": [
    "np.mat([2,2,3,5,])"
   ]
  },
  {
   "cell_type": "code",
   "execution_count": 20,
   "id": "b29f3df8",
   "metadata": {},
   "outputs": [
    {
     "data": {
      "text/plain": [
       "matrix([[ 3,  3,  4,  6, 87,  9,  5]])"
      ]
     },
     "execution_count": 20,
     "metadata": {},
     "output_type": "execute_result"
    }
   ],
   "source": [
    "a = [3,3,4,6,87,9,5]\n",
    "np.mat(a)"
   ]
  },
  {
   "cell_type": "code",
   "execution_count": 21,
   "id": "98761773",
   "metadata": {},
   "outputs": [
    {
     "data": {
      "text/plain": [
       "array([ 3,  3,  4,  6, 87,  9,  5])"
      ]
     },
     "execution_count": 21,
     "metadata": {},
     "output_type": "execute_result"
    }
   ],
   "source": [
    "np.asarray(a)"
   ]
  },
  {
   "cell_type": "code",
   "execution_count": 22,
   "id": "ae6c75f0",
   "metadata": {},
   "outputs": [
    {
     "data": {
      "text/plain": [
       "matrix([[ 3,  3,  4,  6, 87,  9,  5]])"
      ]
     },
     "execution_count": 22,
     "metadata": {},
     "output_type": "execute_result"
    }
   ],
   "source": [
    "np.mat(a)"
   ]
  },
  {
   "cell_type": "code",
   "execution_count": 23,
   "id": "e91c89bb",
   "metadata": {},
   "outputs": [
    {
     "data": {
      "text/plain": [
       "matrix([[ 3,  3,  4,  6, 87,  9,  5]])"
      ]
     },
     "execution_count": 23,
     "metadata": {},
     "output_type": "execute_result"
    }
   ],
   "source": [
    "np.asanyarray(np.mat(a))"
   ]
  },
  {
   "cell_type": "code",
   "execution_count": 24,
   "id": "bed53bb8",
   "metadata": {},
   "outputs": [
    {
     "data": {
      "text/plain": [
       "array([[ 3,  3,  4,  6, 87,  9,  5]])"
      ]
     },
     "execution_count": 24,
     "metadata": {},
     "output_type": "execute_result"
    }
   ],
   "source": [
    "np.asarray(np.mat(a))"
   ]
  },
  {
   "cell_type": "code",
   "execution_count": 25,
   "id": "708b0d4f",
   "metadata": {},
   "outputs": [
    {
     "data": {
      "text/plain": [
       "array([[ True, False, False],\n",
       "       [False,  True, False],\n",
       "       [False, False,  True]])"
      ]
     },
     "execution_count": 25,
     "metadata": {},
     "output_type": "execute_result"
    }
   ],
   "source": [
    "np.fromfunction(lambda i, j : i==j, (3,3))"
   ]
  },
  {
   "cell_type": "code",
   "execution_count": 26,
   "id": "5888f590",
   "metadata": {},
   "outputs": [
    {
     "data": {
      "text/plain": [
       "array([[[[0, 0],\n",
       "         [0, 0]],\n",
       "\n",
       "        [[0, 0],\n",
       "         [0, 0]],\n",
       "\n",
       "        [[0, 0],\n",
       "         [0, 0]]],\n",
       "\n",
       "\n",
       "       [[[0, 0],\n",
       "         [0, 0]],\n",
       "\n",
       "        [[0, 0],\n",
       "         [0, 1]],\n",
       "\n",
       "        [[0, 0],\n",
       "         [0, 2]]],\n",
       "\n",
       "\n",
       "       [[[0, 0],\n",
       "         [0, 0]],\n",
       "\n",
       "        [[0, 0],\n",
       "         [0, 2]],\n",
       "\n",
       "        [[0, 0],\n",
       "         [0, 4]]],\n",
       "\n",
       "\n",
       "       [[[0, 0],\n",
       "         [0, 0]],\n",
       "\n",
       "        [[0, 0],\n",
       "         [0, 3]],\n",
       "\n",
       "        [[0, 0],\n",
       "         [0, 6]]]])"
      ]
     },
     "execution_count": 26,
     "metadata": {},
     "output_type": "execute_result"
    }
   ],
   "source": [
    "np.fromfunction(lambda  i,j,z,p: i*j*z*p , (4,3,2,2),dtype=int)"
   ]
  },
  {
   "cell_type": "code",
   "execution_count": 27,
   "id": "32c00ae8",
   "metadata": {},
   "outputs": [],
   "source": [
    "a = np.fromfunction(lambda i , j ,z : i*j*z , (4,3,2),dtype = int)"
   ]
  },
  {
   "cell_type": "code",
   "execution_count": 28,
   "id": "ad8332fc",
   "metadata": {},
   "outputs": [
    {
     "data": {
      "text/plain": [
       "array([[[0, 0, 0],\n",
       "        [0, 0, 0],\n",
       "        [0, 0, 0],\n",
       "        [1, 0, 2]],\n",
       "\n",
       "       [[0, 0, 0],\n",
       "        [2, 0, 4],\n",
       "        [0, 0, 0],\n",
       "        [3, 0, 6]]])"
      ]
     },
     "execution_count": 28,
     "metadata": {},
     "output_type": "execute_result"
    }
   ],
   "source": [
    "a.reshape(2,4,-234) # reshape is used to change dimensions"
   ]
  },
  {
   "cell_type": "code",
   "execution_count": 29,
   "id": "77763b3e",
   "metadata": {},
   "outputs": [
    {
     "data": {
      "text/plain": [
       "array([[[0, 0, 0],\n",
       "        [0, 0, 0],\n",
       "        [0, 0, 0],\n",
       "        [1, 0, 2]],\n",
       "\n",
       "       [[0, 0, 0],\n",
       "        [2, 0, 4],\n",
       "        [0, 0, 0],\n",
       "        [3, 0, 6]]])"
      ]
     },
     "execution_count": 29,
     "metadata": {},
     "output_type": "execute_result"
    }
   ],
   "source": [
    "a.reshape(2,4,-1)"
   ]
  },
  {
   "cell_type": "code",
   "execution_count": 30,
   "id": "d107472e",
   "metadata": {},
   "outputs": [
    {
     "data": {
      "text/plain": [
       "array([[[0, 0],\n",
       "        [0, 0],\n",
       "        [0, 0]],\n",
       "\n",
       "       [[0, 0],\n",
       "        [0, 1],\n",
       "        [0, 2]],\n",
       "\n",
       "       [[0, 0],\n",
       "        [0, 2],\n",
       "        [0, 4]],\n",
       "\n",
       "       [[0, 0],\n",
       "        [0, 3],\n",
       "        [0, 6]]])"
      ]
     },
     "execution_count": 30,
     "metadata": {},
     "output_type": "execute_result"
    }
   ],
   "source": [
    "a"
   ]
  },
  {
   "cell_type": "code",
   "execution_count": 31,
   "id": "fb9d32fe",
   "metadata": {},
   "outputs": [
    {
     "data": {
      "text/plain": [
       "3"
      ]
     },
     "execution_count": 31,
     "metadata": {},
     "output_type": "execute_result"
    }
   ],
   "source": [
    "a.ndim # to get how much dimensions are present"
   ]
  },
  {
   "cell_type": "code",
   "execution_count": 32,
   "id": "04e749c7",
   "metadata": {},
   "outputs": [
    {
     "data": {
      "text/plain": [
       "24"
      ]
     },
     "execution_count": 32,
     "metadata": {},
     "output_type": "execute_result"
    }
   ],
   "source": [
    "a.size # how much element are present"
   ]
  },
  {
   "cell_type": "code",
   "execution_count": 33,
   "id": "30fb798d",
   "metadata": {},
   "outputs": [
    {
     "data": {
      "text/plain": [
       "(4, 3, 2)"
      ]
     },
     "execution_count": 33,
     "metadata": {},
     "output_type": "execute_result"
    }
   ],
   "source": [
    "a.shape"
   ]
  },
  {
   "cell_type": "code",
   "execution_count": 34,
   "id": "6c648f71",
   "metadata": {},
   "outputs": [
    {
     "data": {
      "text/plain": [
       "dtype('int32')"
      ]
     },
     "execution_count": 34,
     "metadata": {},
     "output_type": "execute_result"
    }
   ],
   "source": [
    "a.dtype"
   ]
  },
  {
   "cell_type": "code",
   "execution_count": 35,
   "id": "b75d4295",
   "metadata": {},
   "outputs": [
    {
     "data": {
      "text/plain": [
       "array([[[0, 0],\n",
       "        [0, 0],\n",
       "        [0, 0]],\n",
       "\n",
       "       [[0, 0],\n",
       "        [0, 1],\n",
       "        [0, 2]],\n",
       "\n",
       "       [[0, 0],\n",
       "        [0, 2],\n",
       "        [0, 4]],\n",
       "\n",
       "       [[0, 0],\n",
       "        [0, 3],\n",
       "        [0, 6]]])"
      ]
     },
     "execution_count": 35,
     "metadata": {},
     "output_type": "execute_result"
    }
   ],
   "source": [
    "a"
   ]
  },
  {
   "cell_type": "code",
   "execution_count": 36,
   "id": "379d88b8",
   "metadata": {},
   "outputs": [
    {
     "ename": "ValueError",
     "evalue": "Must pass 2-d input. shape=(4, 3, 2)",
     "output_type": "error",
     "traceback": [
      "\u001b[1;31m---------------------------------------------------------------------------\u001b[0m",
      "\u001b[1;31mValueError\u001b[0m                                Traceback (most recent call last)",
      "Input \u001b[1;32mIn [36]\u001b[0m, in \u001b[0;36m<cell line: 1>\u001b[1;34m()\u001b[0m\n\u001b[1;32m----> 1\u001b[0m \u001b[43mpd\u001b[49m\u001b[38;5;241;43m.\u001b[39;49m\u001b[43mDataFrame\u001b[49m\u001b[43m(\u001b[49m\u001b[43ma\u001b[49m\u001b[43m)\u001b[49m\n",
      "File \u001b[1;32m~\\AppData\\Roaming\\Python\\Python39\\site-packages\\pandas\\core\\frame.py:722\u001b[0m, in \u001b[0;36mDataFrame.__init__\u001b[1;34m(self, data, index, columns, dtype, copy)\u001b[0m\n\u001b[0;32m    712\u001b[0m         mgr \u001b[38;5;241m=\u001b[39m dict_to_mgr(\n\u001b[0;32m    713\u001b[0m             \u001b[38;5;66;03m# error: Item \"ndarray\" of \"Union[ndarray, Series, Index]\" has no\u001b[39;00m\n\u001b[0;32m    714\u001b[0m             \u001b[38;5;66;03m# attribute \"name\"\u001b[39;00m\n\u001b[1;32m   (...)\u001b[0m\n\u001b[0;32m    719\u001b[0m             typ\u001b[38;5;241m=\u001b[39mmanager,\n\u001b[0;32m    720\u001b[0m         )\n\u001b[0;32m    721\u001b[0m     \u001b[38;5;28;01melse\u001b[39;00m:\n\u001b[1;32m--> 722\u001b[0m         mgr \u001b[38;5;241m=\u001b[39m \u001b[43mndarray_to_mgr\u001b[49m\u001b[43m(\u001b[49m\n\u001b[0;32m    723\u001b[0m \u001b[43m            \u001b[49m\u001b[43mdata\u001b[49m\u001b[43m,\u001b[49m\n\u001b[0;32m    724\u001b[0m \u001b[43m            \u001b[49m\u001b[43mindex\u001b[49m\u001b[43m,\u001b[49m\n\u001b[0;32m    725\u001b[0m \u001b[43m            \u001b[49m\u001b[43mcolumns\u001b[49m\u001b[43m,\u001b[49m\n\u001b[0;32m    726\u001b[0m \u001b[43m            \u001b[49m\u001b[43mdtype\u001b[49m\u001b[38;5;241;43m=\u001b[39;49m\u001b[43mdtype\u001b[49m\u001b[43m,\u001b[49m\n\u001b[0;32m    727\u001b[0m \u001b[43m            \u001b[49m\u001b[43mcopy\u001b[49m\u001b[38;5;241;43m=\u001b[39;49m\u001b[43mcopy\u001b[49m\u001b[43m,\u001b[49m\n\u001b[0;32m    728\u001b[0m \u001b[43m            \u001b[49m\u001b[43mtyp\u001b[49m\u001b[38;5;241;43m=\u001b[39;49m\u001b[43mmanager\u001b[49m\u001b[43m,\u001b[49m\n\u001b[0;32m    729\u001b[0m \u001b[43m        \u001b[49m\u001b[43m)\u001b[49m\n\u001b[0;32m    731\u001b[0m \u001b[38;5;66;03m# For data is list-like, or Iterable (will consume into list)\u001b[39;00m\n\u001b[0;32m    732\u001b[0m \u001b[38;5;28;01melif\u001b[39;00m is_list_like(data):\n",
      "File \u001b[1;32m~\\AppData\\Roaming\\Python\\Python39\\site-packages\\pandas\\core\\internals\\construction.py:329\u001b[0m, in \u001b[0;36mndarray_to_mgr\u001b[1;34m(values, index, columns, dtype, copy, typ)\u001b[0m\n\u001b[0;32m    324\u001b[0m         values \u001b[38;5;241m=\u001b[39m values\u001b[38;5;241m.\u001b[39mreshape(\u001b[38;5;241m-\u001b[39m\u001b[38;5;241m1\u001b[39m, \u001b[38;5;241m1\u001b[39m)\n\u001b[0;32m    326\u001b[0m \u001b[38;5;28;01melse\u001b[39;00m:\n\u001b[0;32m    327\u001b[0m     \u001b[38;5;66;03m# by definition an array here\u001b[39;00m\n\u001b[0;32m    328\u001b[0m     \u001b[38;5;66;03m# the dtypes will be coerced to a single dtype\u001b[39;00m\n\u001b[1;32m--> 329\u001b[0m     values \u001b[38;5;241m=\u001b[39m \u001b[43m_prep_ndarraylike\u001b[49m\u001b[43m(\u001b[49m\u001b[43mvalues\u001b[49m\u001b[43m,\u001b[49m\u001b[43m \u001b[49m\u001b[43mcopy\u001b[49m\u001b[38;5;241;43m=\u001b[39;49m\u001b[43mcopy_on_sanitize\u001b[49m\u001b[43m)\u001b[49m\n\u001b[0;32m    331\u001b[0m \u001b[38;5;28;01mif\u001b[39;00m dtype \u001b[38;5;129;01mis\u001b[39;00m \u001b[38;5;129;01mnot\u001b[39;00m \u001b[38;5;28;01mNone\u001b[39;00m \u001b[38;5;129;01mand\u001b[39;00m \u001b[38;5;129;01mnot\u001b[39;00m is_dtype_equal(values\u001b[38;5;241m.\u001b[39mdtype, dtype):\n\u001b[0;32m    332\u001b[0m     \u001b[38;5;66;03m# GH#40110 see similar check inside sanitize_array\u001b[39;00m\n\u001b[0;32m    333\u001b[0m     rcf \u001b[38;5;241m=\u001b[39m \u001b[38;5;129;01mnot\u001b[39;00m (is_integer_dtype(dtype) \u001b[38;5;129;01mand\u001b[39;00m values\u001b[38;5;241m.\u001b[39mdtype\u001b[38;5;241m.\u001b[39mkind \u001b[38;5;241m==\u001b[39m \u001b[38;5;124m\"\u001b[39m\u001b[38;5;124mf\u001b[39m\u001b[38;5;124m\"\u001b[39m)\n",
      "File \u001b[1;32m~\\AppData\\Roaming\\Python\\Python39\\site-packages\\pandas\\core\\internals\\construction.py:583\u001b[0m, in \u001b[0;36m_prep_ndarraylike\u001b[1;34m(values, copy)\u001b[0m\n\u001b[0;32m    581\u001b[0m     values \u001b[38;5;241m=\u001b[39m values\u001b[38;5;241m.\u001b[39mreshape((values\u001b[38;5;241m.\u001b[39mshape[\u001b[38;5;241m0\u001b[39m], \u001b[38;5;241m1\u001b[39m))\n\u001b[0;32m    582\u001b[0m \u001b[38;5;28;01melif\u001b[39;00m values\u001b[38;5;241m.\u001b[39mndim \u001b[38;5;241m!=\u001b[39m \u001b[38;5;241m2\u001b[39m:\n\u001b[1;32m--> 583\u001b[0m     \u001b[38;5;28;01mraise\u001b[39;00m \u001b[38;5;167;01mValueError\u001b[39;00m(\u001b[38;5;124mf\u001b[39m\u001b[38;5;124m\"\u001b[39m\u001b[38;5;124mMust pass 2-d input. shape=\u001b[39m\u001b[38;5;132;01m{\u001b[39;00mvalues\u001b[38;5;241m.\u001b[39mshape\u001b[38;5;132;01m}\u001b[39;00m\u001b[38;5;124m\"\u001b[39m)\n\u001b[0;32m    585\u001b[0m \u001b[38;5;28;01mreturn\u001b[39;00m values\n",
      "\u001b[1;31mValueError\u001b[0m: Must pass 2-d input. shape=(4, 3, 2)"
     ]
    }
   ],
   "source": [
    "pd.DataFrame(a)"
   ]
  },
  {
   "cell_type": "code",
   "execution_count": null,
   "id": "34acaa56",
   "metadata": {},
   "outputs": [],
   "source": [
    "a = np.fromfunction(lambda i, j: i*j, (400,100),dtype=int)"
   ]
  },
  {
   "cell_type": "code",
   "execution_count": null,
   "id": "8a6b0992",
   "metadata": {},
   "outputs": [],
   "source": [
    "a"
   ]
  },
  {
   "cell_type": "code",
   "execution_count": null,
   "id": "a80fd5c8",
   "metadata": {},
   "outputs": [],
   "source": [
    "pd.DataFrame(a)"
   ]
  },
  {
   "cell_type": "code",
   "execution_count": null,
   "id": "a1982bb1",
   "metadata": {},
   "outputs": [],
   "source": [
    "np.random.rand(100,4)"
   ]
  },
  {
   "cell_type": "code",
   "execution_count": null,
   "id": "a3b85bcb",
   "metadata": {},
   "outputs": [],
   "source": [
    "np.random.randint(4,50) # gives randon between  4 and 50"
   ]
  },
  {
   "cell_type": "code",
   "execution_count": null,
   "id": "57922aef",
   "metadata": {},
   "outputs": [],
   "source": [
    "pd.DataFrame(np.random.randn(4,5))"
   ]
  },
  {
   "cell_type": "code",
   "execution_count": null,
   "id": "00fcefdc",
   "metadata": {},
   "outputs": [],
   "source": [
    "list(range(410,5,.2)) # no float values for steps"
   ]
  },
  {
   "cell_type": "code",
   "execution_count": null,
   "id": "6fef20e7",
   "metadata": {},
   "outputs": [],
   "source": [
    "# FLOAT VALUES CAN BE USED  IN NUMPY range function\n",
    "a1 = np.arange(4,10,.2)"
   ]
  },
  {
   "cell_type": "code",
   "execution_count": null,
   "id": "786da0f6",
   "metadata": {},
   "outputs": [],
   "source": [
    "a1"
   ]
  },
  {
   "cell_type": "code",
   "execution_count": null,
   "id": "ca68aef8",
   "metadata": {},
   "outputs": [],
   "source": [
    "a1[4:10]"
   ]
  },
  {
   "cell_type": "code",
   "execution_count": null,
   "id": "cae1cf65",
   "metadata": {},
   "outputs": [],
   "source": [
    "arr = np.random.rand(4,5)"
   ]
  },
  {
   "cell_type": "code",
   "execution_count": null,
   "id": "eac5e93b",
   "metadata": {},
   "outputs": [],
   "source": [
    "arr"
   ]
  },
  {
   "cell_type": "code",
   "execution_count": null,
   "id": "570d3abb",
   "metadata": {},
   "outputs": [],
   "source": [
    "arr[ arr > .5]"
   ]
  },
  {
   "cell_type": "code",
   "execution_count": null,
   "id": "066faefd",
   "metadata": {},
   "outputs": [],
   "source": [
    "arr"
   ]
  },
  {
   "cell_type": "code",
   "execution_count": null,
   "id": "979844f4",
   "metadata": {},
   "outputs": [],
   "source": [
    "arr[[1,2],[2]]"
   ]
  },
  {
   "cell_type": "code",
   "execution_count": null,
   "id": "9885301d",
   "metadata": {},
   "outputs": [],
   "source": [
    "arr = np.random.rand(8,5)"
   ]
  },
  {
   "cell_type": "code",
   "execution_count": null,
   "id": "29ed4d67",
   "metadata": {},
   "outputs": [],
   "source": [
    "arr"
   ]
  },
  {
   "cell_type": "code",
   "execution_count": null,
   "id": "75a6c2de",
   "metadata": {},
   "outputs": [],
   "source": [
    "arr[1:8, 0:3]"
   ]
  },
  {
   "cell_type": "code",
   "execution_count": null,
   "id": "ac48c89e",
   "metadata": {},
   "outputs": [],
   "source": [
    "a2 = arr[1:8, [0,1,2]]"
   ]
  },
  {
   "cell_type": "code",
   "execution_count": null,
   "id": "70e55c5f",
   "metadata": {},
   "outputs": [],
   "source": [
    "a2"
   ]
  },
  {
   "cell_type": "code",
   "execution_count": null,
   "id": "04161b66",
   "metadata": {},
   "outputs": [],
   "source": [
    "a2[0][0] = 100"
   ]
  },
  {
   "cell_type": "code",
   "execution_count": null,
   "id": "0f5b02f4",
   "metadata": {},
   "outputs": [],
   "source": [
    "a2"
   ]
  },
  {
   "cell_type": "code",
   "execution_count": null,
   "id": "74495690",
   "metadata": {},
   "outputs": [],
   "source": [
    "a = np.array([[2,4],[45,45]])\n",
    "b = np.array([[56,4],[35,56]])"
   ]
  },
  {
   "cell_type": "code",
   "execution_count": null,
   "id": "dbe0899d",
   "metadata": {},
   "outputs": [],
   "source": [
    "a"
   ]
  },
  {
   "cell_type": "code",
   "execution_count": null,
   "id": "a6855b6a",
   "metadata": {},
   "outputs": [],
   "source": [
    "b"
   ]
  },
  {
   "cell_type": "code",
   "execution_count": null,
   "id": "3da14514",
   "metadata": {},
   "outputs": [],
   "source": [
    "a*b # element wise multiplication not matrix mupltiplication"
   ]
  },
  {
   "cell_type": "code",
   "execution_count": null,
   "id": "bcec745a",
   "metadata": {},
   "outputs": [],
   "source": [
    "# for matrix multiplication\n",
    "m = a@b"
   ]
  },
  {
   "cell_type": "code",
   "execution_count": null,
   "id": "f1d1e1d9",
   "metadata": {},
   "outputs": [],
   "source": [
    "m"
   ]
  },
  {
   "cell_type": "code",
   "execution_count": null,
   "id": "91eef72f",
   "metadata": {},
   "outputs": [],
   "source": [
    "m/0 # o/p is inf"
   ]
  },
  {
   "cell_type": "code",
   "execution_count": null,
   "id": "2fce737a",
   "metadata": {},
   "outputs": [],
   "source": [
    "np.zeros(5)"
   ]
  },
  {
   "cell_type": "code",
   "execution_count": null,
   "id": "ce36cda7",
   "metadata": {},
   "outputs": [],
   "source": [
    "np.zeros((3,4))"
   ]
  },
  {
   "cell_type": "code",
   "execution_count": null,
   "id": "4643f772",
   "metadata": {},
   "outputs": [],
   "source": [
    "np.zeros((3,4,5))"
   ]
  },
  {
   "cell_type": "code",
   "execution_count": null,
   "id": "ac1e62bd",
   "metadata": {},
   "outputs": [],
   "source": [
    "np.ones(5)"
   ]
  },
  {
   "cell_type": "code",
   "execution_count": null,
   "id": "61981312",
   "metadata": {},
   "outputs": [],
   "source": [
    "np.ones((4,5,6))"
   ]
  },
  {
   "cell_type": "code",
   "execution_count": null,
   "id": "d75823c2",
   "metadata": {},
   "outputs": [],
   "source": [
    "5+np.zeros((3,4))"
   ]
  },
  {
   "cell_type": "code",
   "execution_count": null,
   "id": "de38d305",
   "metadata": {},
   "outputs": [],
   "source": [
    "np.empty((4,5))"
   ]
  },
  {
   "cell_type": "code",
   "execution_count": null,
   "id": "89dd2d56",
   "metadata": {},
   "outputs": [],
   "source": [
    "np.empty((4,5,2))"
   ]
  },
  {
   "cell_type": "code",
   "execution_count": null,
   "id": "a993b483",
   "metadata": {},
   "outputs": [],
   "source": [
    "np.empty((5,4,2))"
   ]
  },
  {
   "cell_type": "code",
   "execution_count": null,
   "id": "60f87b0e",
   "metadata": {},
   "outputs": [],
   "source": [
    "np.linspace(2,6, 10) # start number and end number it gives number in between them"
   ]
  },
  {
   "cell_type": "code",
   "execution_count": null,
   "id": "163bbad2",
   "metadata": {},
   "outputs": [],
   "source": [
    "np.linspace(2,6, 100)"
   ]
  },
  {
   "cell_type": "code",
   "execution_count": null,
   "id": "1dd92a98",
   "metadata": {},
   "outputs": [],
   "source": [
    "np.linspace(2,6, 10,endpoint=False).reshape(5,2) # it will not consider number 6"
   ]
  },
  {
   "cell_type": "code",
   "execution_count": null,
   "id": "9ed64cca",
   "metadata": {},
   "outputs": [],
   "source": [
    "np.linspace(2,6, 10,endpoint=False, retstep=True) # it will not consider number 6"
   ]
  },
  {
   "cell_type": "code",
   "execution_count": null,
   "id": "c421efbf",
   "metadata": {},
   "outputs": [],
   "source": [
    "np.logspace(2,4,10, base=10)"
   ]
  },
  {
   "cell_type": "code",
   "execution_count": null,
   "id": "4dfee664",
   "metadata": {},
   "outputs": [],
   "source": [
    "a = np.arange(4,40).reshape(3,6,2)"
   ]
  },
  {
   "cell_type": "code",
   "execution_count": null,
   "id": "6d392f8c",
   "metadata": {},
   "outputs": [],
   "source": [
    "a"
   ]
  },
  {
   "cell_type": "code",
   "execution_count": null,
   "id": "23372e55",
   "metadata": {},
   "outputs": [],
   "source": [
    "a.max()"
   ]
  },
  {
   "cell_type": "code",
   "execution_count": null,
   "id": "095e1d0d",
   "metadata": {},
   "outputs": [],
   "source": [
    "a.min()"
   ]
  },
  {
   "cell_type": "code",
   "execution_count": null,
   "id": "08def06a",
   "metadata": {},
   "outputs": [],
   "source": [
    "a.max(axis = 1)"
   ]
  },
  {
   "cell_type": "code",
   "execution_count": null,
   "id": "ee408cb1",
   "metadata": {},
   "outputs": [],
   "source": [
    "a.max(axis =0 )"
   ]
  },
  {
   "cell_type": "code",
   "execution_count": 37,
   "id": "4d489fcc",
   "metadata": {},
   "outputs": [
    {
     "data": {
      "text/plain": [
       "array([[[0, 0],\n",
       "        [0, 0],\n",
       "        [0, 0]],\n",
       "\n",
       "       [[0, 0],\n",
       "        [0, 1],\n",
       "        [0, 2]],\n",
       "\n",
       "       [[0, 0],\n",
       "        [0, 2],\n",
       "        [0, 4]],\n",
       "\n",
       "       [[0, 0],\n",
       "        [0, 3],\n",
       "        [0, 6]]])"
      ]
     },
     "execution_count": 37,
     "metadata": {},
     "output_type": "execute_result"
    }
   ],
   "source": [
    "a"
   ]
  },
  {
   "cell_type": "code",
   "execution_count": 38,
   "id": "4376f6de",
   "metadata": {},
   "outputs": [
    {
     "data": {
      "text/plain": [
       "array([[[  0,   0],\n",
       "        [  0,   0],\n",
       "        [  0,   0]],\n",
       "\n",
       "       [[  0,   0],\n",
       "        [  0,   1],\n",
       "        [  0,   8]],\n",
       "\n",
       "       [[  0,   0],\n",
       "        [  0,   8],\n",
       "        [  0,  64]],\n",
       "\n",
       "       [[  0,   0],\n",
       "        [  0,  27],\n",
       "        [  0, 216]]], dtype=int32)"
      ]
     },
     "execution_count": 38,
     "metadata": {},
     "output_type": "execute_result"
    }
   ],
   "source": [
    "a**3"
   ]
  },
  {
   "cell_type": "code",
   "execution_count": 39,
   "id": "63fc0a2c",
   "metadata": {},
   "outputs": [
    {
     "data": {
      "text/plain": [
       "array([[[  0,   0],\n",
       "        [  0,   0],\n",
       "        [  0,   0]],\n",
       "\n",
       "       [[  0,   0],\n",
       "        [  0,   1],\n",
       "        [  0,   8]],\n",
       "\n",
       "       [[  0,   0],\n",
       "        [  0,   8],\n",
       "        [  0,  64]],\n",
       "\n",
       "       [[  0,   0],\n",
       "        [  0,  27],\n",
       "        [  0, 216]]], dtype=int32)"
      ]
     },
     "execution_count": 39,
     "metadata": {},
     "output_type": "execute_result"
    }
   ],
   "source": [
    "pow(a,3)"
   ]
  },
  {
   "cell_type": "code",
   "execution_count": 43,
   "id": "75b34586",
   "metadata": {},
   "outputs": [],
   "source": [
    "b = np.array([3,4,4,34,3,34,4,5,6,7,8,8])"
   ]
  },
  {
   "cell_type": "code",
   "execution_count": 45,
   "id": "58efd226",
   "metadata": {},
   "outputs": [
    {
     "data": {
      "text/plain": [
       "array([[ 3,  4,  4, 34],\n",
       "       [ 3, 34,  4,  5],\n",
       "       [ 6,  7,  8,  8]])"
      ]
     },
     "execution_count": 45,
     "metadata": {},
     "output_type": "execute_result"
    }
   ],
   "source": [
    "b.reshape(3,4)"
   ]
  },
  {
   "cell_type": "code",
   "execution_count": 46,
   "id": "7af753d1",
   "metadata": {},
   "outputs": [
    {
     "data": {
      "text/plain": [
       "array([ 3,  4,  4, 34,  3, 34,  4,  5,  6,  7,  8,  8])"
      ]
     },
     "execution_count": 46,
     "metadata": {},
     "output_type": "execute_result"
    }
   ],
   "source": [
    "b.T  # transpose"
   ]
  },
  {
   "cell_type": "code",
   "execution_count": 47,
   "id": "c8ac3157",
   "metadata": {},
   "outputs": [
    {
     "data": {
      "text/plain": [
       "array([ 3,  4,  4, 34,  3, 34,  4,  5,  6,  7,  8,  8])"
      ]
     },
     "execution_count": 47,
     "metadata": {},
     "output_type": "execute_result"
    }
   ],
   "source": [
    "b"
   ]
  },
  {
   "cell_type": "code",
   "execution_count": 48,
   "id": "33b3e5a6",
   "metadata": {},
   "outputs": [
    {
     "data": {
      "text/plain": [
       "array([13, 14, 14, 44, 13, 44, 14, 15, 16, 17, 18, 18])"
      ]
     },
     "execution_count": 48,
     "metadata": {},
     "output_type": "execute_result"
    }
   ],
   "source": [
    "b+10"
   ]
  },
  {
   "cell_type": "code",
   "execution_count": 49,
   "id": "3fc7a494",
   "metadata": {},
   "outputs": [],
   "source": [
    "a = np.array([3,4,4,34,53,34,84,5,56,57,58,45])"
   ]
  },
  {
   "cell_type": "code",
   "execution_count": 50,
   "id": "48854930",
   "metadata": {},
   "outputs": [
    {
     "data": {
      "text/plain": [
       "array([ 6,  8,  8, 68, 56, 68, 88, 10, 62, 64, 66, 53])"
      ]
     },
     "execution_count": 50,
     "metadata": {},
     "output_type": "execute_result"
    }
   ],
   "source": [
    "a+b"
   ]
  },
  {
   "cell_type": "code",
   "execution_count": 51,
   "id": "78e929eb",
   "metadata": {},
   "outputs": [
    {
     "data": {
      "text/plain": [
       "array([1.73205081, 2.        , 2.        , 5.83095189, 1.73205081,\n",
       "       5.83095189, 2.        , 2.23606798, 2.44948974, 2.64575131,\n",
       "       2.82842712, 2.82842712])"
      ]
     },
     "execution_count": 51,
     "metadata": {},
     "output_type": "execute_result"
    }
   ],
   "source": [
    "np.sqrt(b)  # to get square root"
   ]
  },
  {
   "cell_type": "code",
   "execution_count": 52,
   "id": "21e22492",
   "metadata": {},
   "outputs": [
    {
     "data": {
      "text/plain": [
       "array([0.47712125, 0.60205999, 0.60205999, 1.53147892, 1.72427587,\n",
       "       1.53147892, 1.92427929, 0.69897   , 1.74818803, 1.75587486,\n",
       "       1.76342799, 1.65321251])"
      ]
     },
     "execution_count": 52,
     "metadata": {},
     "output_type": "execute_result"
    }
   ],
   "source": [
    "np.log10(a)"
   ]
  },
  {
   "cell_type": "code",
   "execution_count": 53,
   "id": "2d5aa659",
   "metadata": {},
   "outputs": [],
   "source": [
    "x = np.array([2,3,4])"
   ]
  },
  {
   "cell_type": "code",
   "execution_count": 54,
   "id": "3ec56bfa",
   "metadata": {},
   "outputs": [],
   "source": [
    "y = x"
   ]
  },
  {
   "cell_type": "code",
   "execution_count": 56,
   "id": "62a781cf",
   "metadata": {},
   "outputs": [
    {
     "data": {
      "text/plain": [
       "2427328516336"
      ]
     },
     "execution_count": 56,
     "metadata": {},
     "output_type": "execute_result"
    }
   ],
   "source": [
    "id(x)"
   ]
  },
  {
   "cell_type": "code",
   "execution_count": 57,
   "id": "e07bf3d3",
   "metadata": {},
   "outputs": [
    {
     "data": {
      "text/plain": [
       "2427328516336"
      ]
     },
     "execution_count": 57,
     "metadata": {},
     "output_type": "execute_result"
    }
   ],
   "source": [
    "id(y)"
   ]
  },
  {
   "cell_type": "code",
   "execution_count": 58,
   "id": "ecffc6e1",
   "metadata": {},
   "outputs": [],
   "source": [
    "z = np.copy(x) # deep copy"
   ]
  },
  {
   "cell_type": "code",
   "execution_count": 59,
   "id": "b6e505b4",
   "metadata": {},
   "outputs": [
    {
     "data": {
      "text/plain": [
       "array([2, 3, 4])"
      ]
     },
     "execution_count": 59,
     "metadata": {},
     "output_type": "execute_result"
    }
   ],
   "source": [
    "z"
   ]
  },
  {
   "cell_type": "code",
   "execution_count": 62,
   "id": "d07a37c5",
   "metadata": {},
   "outputs": [],
   "source": [
    "k = x  #shallow copy"
   ]
  },
  {
   "cell_type": "code",
   "execution_count": 63,
   "id": "69012b0b",
   "metadata": {},
   "outputs": [
    {
     "data": {
      "text/plain": [
       "array([2, 3, 4])"
      ]
     },
     "execution_count": 63,
     "metadata": {},
     "output_type": "execute_result"
    }
   ],
   "source": [
    "k"
   ]
  },
  {
   "cell_type": "code",
   "execution_count": 64,
   "id": "c8949c50",
   "metadata": {},
   "outputs": [],
   "source": [
    "k[0] = 44"
   ]
  },
  {
   "cell_type": "code",
   "execution_count": 65,
   "id": "47cd9070",
   "metadata": {},
   "outputs": [
    {
     "data": {
      "text/plain": [
       "array([44,  3,  4])"
      ]
     },
     "execution_count": 65,
     "metadata": {},
     "output_type": "execute_result"
    }
   ],
   "source": [
    "x"
   ]
  },
  {
   "cell_type": "code",
   "execution_count": null,
   "id": "b3d197ba",
   "metadata": {},
   "outputs": [],
   "source": []
  }
 ],
 "metadata": {
  "kernelspec": {
   "display_name": "Python 3 (ipykernel)",
   "language": "python",
   "name": "python3"
  },
  "language_info": {
   "codemirror_mode": {
    "name": "ipython",
    "version": 3
   },
   "file_extension": ".py",
   "mimetype": "text/x-python",
   "name": "python",
   "nbconvert_exporter": "python",
   "pygments_lexer": "ipython3",
   "version": "3.9.12"
  }
 },
 "nbformat": 4,
 "nbformat_minor": 5
}
