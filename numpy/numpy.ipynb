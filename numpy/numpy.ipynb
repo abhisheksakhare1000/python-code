{
 "cells": [
  {
   "cell_type": "code",
   "execution_count": 1,
   "id": "dab0e035",
   "metadata": {},
   "outputs": [],
   "source": [
    "import pandas as pd\n",
    "import numpy as np"
   ]
  },
  {
   "cell_type": "code",
   "execution_count": 2,
   "id": "32edf576",
   "metadata": {},
   "outputs": [],
   "source": [
    "l = [\"abhishek\",3,4,3,5,7]"
   ]
  },
  {
   "cell_type": "code",
   "execution_count": 3,
   "id": "3af5c3e4",
   "metadata": {},
   "outputs": [
    {
     "data": {
      "text/plain": [
       "array(['abhishek', '3', '4', '3', '5', '7'], dtype='<U11')"
      ]
     },
     "execution_count": 3,
     "metadata": {},
     "output_type": "execute_result"
    }
   ],
   "source": [
    "np.array(l)"
   ]
  },
  {
   "cell_type": "code",
   "execution_count": 5,
   "id": "26567029",
   "metadata": {},
   "outputs": [
    {
     "data": {
      "text/plain": [
       "numpy.ndarray"
      ]
     },
     "execution_count": 5,
     "metadata": {},
     "output_type": "execute_result"
    }
   ],
   "source": [
    "type(np.array(l))"
   ]
  },
  {
   "cell_type": "code",
   "execution_count": 6,
   "id": "f7db4e1c",
   "metadata": {},
   "outputs": [],
   "source": [
    "a1 = np.array([2,356,7,5,6])\n"
   ]
  },
  {
   "cell_type": "code",
   "execution_count": 8,
   "id": "a5b2f933",
   "metadata": {},
   "outputs": [],
   "source": [
    "a = np.array([[1,2],[6,4]])"
   ]
  },
  {
   "cell_type": "code",
   "execution_count": 9,
   "id": "7545d85d",
   "metadata": {},
   "outputs": [
    {
     "data": {
      "text/plain": [
       "array([[1, 2],\n",
       "       [6, 4]])"
      ]
     },
     "execution_count": 9,
     "metadata": {},
     "output_type": "execute_result"
    }
   ],
   "source": [
    "a"
   ]
  },
  {
   "cell_type": "code",
   "execution_count": 10,
   "id": "6647b0e8",
   "metadata": {},
   "outputs": [
    {
     "data": {
      "text/plain": [
       "4"
      ]
     },
     "execution_count": 10,
     "metadata": {},
     "output_type": "execute_result"
    }
   ],
   "source": [
    "a[1][1]"
   ]
  },
  {
   "cell_type": "code",
   "execution_count": 11,
   "id": "0b8205c7",
   "metadata": {},
   "outputs": [
    {
     "data": {
      "text/plain": [
       "array([  2, 356,   7,   5,   6])"
      ]
     },
     "execution_count": 11,
     "metadata": {},
     "output_type": "execute_result"
    }
   ],
   "source": [
    "a1"
   ]
  },
  {
   "cell_type": "code",
   "execution_count": 12,
   "id": "b85c984f",
   "metadata": {},
   "outputs": [
    {
     "data": {
      "text/plain": [
       "6"
      ]
     },
     "execution_count": 12,
     "metadata": {},
     "output_type": "execute_result"
    }
   ],
   "source": [
    "a1[4]"
   ]
  },
  {
   "cell_type": "code",
   "execution_count": 14,
   "id": "29633362",
   "metadata": {},
   "outputs": [],
   "source": [
    "a2 = np.array([3,4,5,3,5], ndmin =4) # how much dimensions you want"
   ]
  },
  {
   "cell_type": "code",
   "execution_count": 15,
   "id": "79992ddc",
   "metadata": {},
   "outputs": [
    {
     "data": {
      "text/plain": [
       "array([[[[3, 4, 5, 3, 5]]]])"
      ]
     },
     "execution_count": 15,
     "metadata": {},
     "output_type": "execute_result"
    }
   ],
   "source": [
    "a2"
   ]
  },
  {
   "cell_type": "code",
   "execution_count": 16,
   "id": "c9afcc4d",
   "metadata": {},
   "outputs": [
    {
     "data": {
      "text/plain": [
       "array([[[3, 4, 5, 3, 5]]])"
      ]
     },
     "execution_count": 16,
     "metadata": {},
     "output_type": "execute_result"
    }
   ],
   "source": [
    "a2[0]"
   ]
  },
  {
   "cell_type": "code",
   "execution_count": 18,
   "id": "cfda0706",
   "metadata": {},
   "outputs": [
    {
     "data": {
      "text/plain": [
       "array([[[3, 4, 5, 3, 5]]])"
      ]
     },
     "execution_count": 18,
     "metadata": {},
     "output_type": "execute_result"
    }
   ],
   "source": [
    "a2[0]"
   ]
  },
  {
   "cell_type": "code",
   "execution_count": 20,
   "id": "06ca5e6c",
   "metadata": {},
   "outputs": [
    {
     "data": {
      "text/plain": [
       "3"
      ]
     },
     "execution_count": 20,
     "metadata": {},
     "output_type": "execute_result"
    }
   ],
   "source": [
    "a2[0][0][0][0]"
   ]
  },
  {
   "cell_type": "code",
   "execution_count": 21,
   "id": "01aa320f",
   "metadata": {},
   "outputs": [
    {
     "data": {
      "text/plain": [
       "array([[1, 2],\n",
       "       [6, 4]])"
      ]
     },
     "execution_count": 21,
     "metadata": {},
     "output_type": "execute_result"
    }
   ],
   "source": [
    "a"
   ]
  },
  {
   "cell_type": "code",
   "execution_count": 22,
   "id": "21e6e3b9",
   "metadata": {},
   "outputs": [
    {
     "data": {
      "text/plain": [
       "array([345678,   2345,     67,   6543,     45])"
      ]
     },
     "execution_count": 22,
     "metadata": {},
     "output_type": "execute_result"
    }
   ],
   "source": [
    "np.asanyarray([345678,2345,67,6543,45]) # function"
   ]
  },
  {
   "cell_type": "code",
   "execution_count": 24,
   "id": "d61010fb",
   "metadata": {},
   "outputs": [
    {
     "data": {
      "text/plain": [
       "array([3, 4, 6, 4, 6, 4])"
      ]
     },
     "execution_count": 24,
     "metadata": {},
     "output_type": "execute_result"
    }
   ],
   "source": [
    "np.asarray([3,4,6,4,6,4]) # function"
   ]
  },
  {
   "cell_type": "code",
   "execution_count": 25,
   "id": "42823e56",
   "metadata": {},
   "outputs": [
    {
     "data": {
      "text/plain": [
       "matrix([[2, 2, 3, 5]])"
      ]
     },
     "execution_count": 25,
     "metadata": {},
     "output_type": "execute_result"
    }
   ],
   "source": [
    "np.mat([2,2,3,5,])"
   ]
  },
  {
   "cell_type": "code",
   "execution_count": 27,
   "id": "b29f3df8",
   "metadata": {},
   "outputs": [
    {
     "data": {
      "text/plain": [
       "matrix([[ 3,  3,  4,  6, 87,  9,  5]])"
      ]
     },
     "execution_count": 27,
     "metadata": {},
     "output_type": "execute_result"
    }
   ],
   "source": [
    "a = [3,3,4,6,87,9,5]\n",
    "np.mat(a)"
   ]
  },
  {
   "cell_type": "code",
   "execution_count": 28,
   "id": "98761773",
   "metadata": {},
   "outputs": [
    {
     "data": {
      "text/plain": [
       "array([ 3,  3,  4,  6, 87,  9,  5])"
      ]
     },
     "execution_count": 28,
     "metadata": {},
     "output_type": "execute_result"
    }
   ],
   "source": [
    "np.asarray(a)"
   ]
  },
  {
   "cell_type": "code",
   "execution_count": 29,
   "id": "ae6c75f0",
   "metadata": {},
   "outputs": [
    {
     "data": {
      "text/plain": [
       "matrix([[ 3,  3,  4,  6, 87,  9,  5]])"
      ]
     },
     "execution_count": 29,
     "metadata": {},
     "output_type": "execute_result"
    }
   ],
   "source": [
    "np.mat(a)"
   ]
  },
  {
   "cell_type": "code",
   "execution_count": 34,
   "id": "e91c89bb",
   "metadata": {},
   "outputs": [
    {
     "data": {
      "text/plain": [
       "matrix([[ 3,  3,  4,  6, 87,  9,  5]])"
      ]
     },
     "execution_count": 34,
     "metadata": {},
     "output_type": "execute_result"
    }
   ],
   "source": [
    "np.asanyarray(np.mat(a))"
   ]
  },
  {
   "cell_type": "code",
   "execution_count": 35,
   "id": "bed53bb8",
   "metadata": {},
   "outputs": [
    {
     "data": {
      "text/plain": [
       "array([[ 3,  3,  4,  6, 87,  9,  5]])"
      ]
     },
     "execution_count": 35,
     "metadata": {},
     "output_type": "execute_result"
    }
   ],
   "source": [
    "np.asarray(np.mat(a))"
   ]
  },
  {
   "cell_type": "code",
   "execution_count": 36,
   "id": "708b0d4f",
   "metadata": {},
   "outputs": [
    {
     "data": {
      "text/plain": [
       "array([[ True, False, False],\n",
       "       [False,  True, False],\n",
       "       [False, False,  True]])"
      ]
     },
     "execution_count": 36,
     "metadata": {},
     "output_type": "execute_result"
    }
   ],
   "source": [
    "np.fromfunction(lambda i, j : i==j, (3,3))"
   ]
  },
  {
   "cell_type": "code",
   "execution_count": 38,
   "id": "5888f590",
   "metadata": {},
   "outputs": [
    {
     "data": {
      "text/plain": [
       "array([[[[0, 0],\n",
       "         [0, 0]],\n",
       "\n",
       "        [[0, 0],\n",
       "         [0, 0]],\n",
       "\n",
       "        [[0, 0],\n",
       "         [0, 0]]],\n",
       "\n",
       "\n",
       "       [[[0, 0],\n",
       "         [0, 0]],\n",
       "\n",
       "        [[0, 0],\n",
       "         [0, 1]],\n",
       "\n",
       "        [[0, 0],\n",
       "         [0, 2]]],\n",
       "\n",
       "\n",
       "       [[[0, 0],\n",
       "         [0, 0]],\n",
       "\n",
       "        [[0, 0],\n",
       "         [0, 2]],\n",
       "\n",
       "        [[0, 0],\n",
       "         [0, 4]]],\n",
       "\n",
       "\n",
       "       [[[0, 0],\n",
       "         [0, 0]],\n",
       "\n",
       "        [[0, 0],\n",
       "         [0, 3]],\n",
       "\n",
       "        [[0, 0],\n",
       "         [0, 6]]]])"
      ]
     },
     "execution_count": 38,
     "metadata": {},
     "output_type": "execute_result"
    }
   ],
   "source": [
    "np.fromfunction(lambda  i,j,z,p: i*j*z*p , (4,3,2,2),dtype=int)"
   ]
  },
  {
   "cell_type": "code",
   "execution_count": 39,
   "id": "32c00ae8",
   "metadata": {},
   "outputs": [],
   "source": [
    "a = np.fromfunction(lambda i , j ,z : i*j*z , (4,3,2),dtype = int)"
   ]
  },
  {
   "cell_type": "code",
   "execution_count": 40,
   "id": "ad8332fc",
   "metadata": {},
   "outputs": [
    {
     "data": {
      "text/plain": [
       "array([[[0, 0, 0],\n",
       "        [0, 0, 0],\n",
       "        [0, 0, 0],\n",
       "        [1, 0, 2]],\n",
       "\n",
       "       [[0, 0, 0],\n",
       "        [2, 0, 4],\n",
       "        [0, 0, 0],\n",
       "        [3, 0, 6]]])"
      ]
     },
     "execution_count": 40,
     "metadata": {},
     "output_type": "execute_result"
    }
   ],
   "source": [
    "a.reshape(2,4,-234) # reshape is used to change dimensions"
   ]
  },
  {
   "cell_type": "code",
   "execution_count": 42,
   "id": "77763b3e",
   "metadata": {},
   "outputs": [
    {
     "data": {
      "text/plain": [
       "array([[[0, 0, 0],\n",
       "        [0, 0, 0],\n",
       "        [0, 0, 0],\n",
       "        [1, 0, 2]],\n",
       "\n",
       "       [[0, 0, 0],\n",
       "        [2, 0, 4],\n",
       "        [0, 0, 0],\n",
       "        [3, 0, 6]]])"
      ]
     },
     "execution_count": 42,
     "metadata": {},
     "output_type": "execute_result"
    }
   ],
   "source": [
    "a.reshape(2,4,-1)"
   ]
  },
  {
   "cell_type": "code",
   "execution_count": 43,
   "id": "d107472e",
   "metadata": {},
   "outputs": [
    {
     "data": {
      "text/plain": [
       "array([[[0, 0],\n",
       "        [0, 0],\n",
       "        [0, 0]],\n",
       "\n",
       "       [[0, 0],\n",
       "        [0, 1],\n",
       "        [0, 2]],\n",
       "\n",
       "       [[0, 0],\n",
       "        [0, 2],\n",
       "        [0, 4]],\n",
       "\n",
       "       [[0, 0],\n",
       "        [0, 3],\n",
       "        [0, 6]]])"
      ]
     },
     "execution_count": 43,
     "metadata": {},
     "output_type": "execute_result"
    }
   ],
   "source": [
    "a"
   ]
  },
  {
   "cell_type": "code",
   "execution_count": 44,
   "id": "fb9d32fe",
   "metadata": {},
   "outputs": [
    {
     "data": {
      "text/plain": [
       "3"
      ]
     },
     "execution_count": 44,
     "metadata": {},
     "output_type": "execute_result"
    }
   ],
   "source": [
    "a.ndim # to get how much dimensions are present"
   ]
  },
  {
   "cell_type": "code",
   "execution_count": 45,
   "id": "04e749c7",
   "metadata": {},
   "outputs": [
    {
     "data": {
      "text/plain": [
       "24"
      ]
     },
     "execution_count": 45,
     "metadata": {},
     "output_type": "execute_result"
    }
   ],
   "source": [
    "a.size # how much element are present"
   ]
  },
  {
   "cell_type": "code",
   "execution_count": 46,
   "id": "30fb798d",
   "metadata": {},
   "outputs": [
    {
     "data": {
      "text/plain": [
       "(4, 3, 2)"
      ]
     },
     "execution_count": 46,
     "metadata": {},
     "output_type": "execute_result"
    }
   ],
   "source": [
    "a.shape"
   ]
  },
  {
   "cell_type": "code",
   "execution_count": 47,
   "id": "6c648f71",
   "metadata": {},
   "outputs": [
    {
     "data": {
      "text/plain": [
       "dtype('int32')"
      ]
     },
     "execution_count": 47,
     "metadata": {},
     "output_type": "execute_result"
    }
   ],
   "source": [
    "a.dtype"
   ]
  },
  {
   "cell_type": "code",
   "execution_count": 48,
   "id": "b75d4295",
   "metadata": {},
   "outputs": [
    {
     "data": {
      "text/plain": [
       "array([[[0, 0],\n",
       "        [0, 0],\n",
       "        [0, 0]],\n",
       "\n",
       "       [[0, 0],\n",
       "        [0, 1],\n",
       "        [0, 2]],\n",
       "\n",
       "       [[0, 0],\n",
       "        [0, 2],\n",
       "        [0, 4]],\n",
       "\n",
       "       [[0, 0],\n",
       "        [0, 3],\n",
       "        [0, 6]]])"
      ]
     },
     "execution_count": 48,
     "metadata": {},
     "output_type": "execute_result"
    }
   ],
   "source": [
    "a"
   ]
  },
  {
   "cell_type": "code",
   "execution_count": 50,
   "id": "379d88b8",
   "metadata": {},
   "outputs": [
    {
     "ename": "ValueError",
     "evalue": "Must pass 2-d input. shape=(4, 3, 2)",
     "output_type": "error",
     "traceback": [
      "\u001b[1;31m---------------------------------------------------------------------------\u001b[0m",
      "\u001b[1;31mValueError\u001b[0m                                Traceback (most recent call last)",
      "Input \u001b[1;32mIn [50]\u001b[0m, in \u001b[0;36m<cell line: 1>\u001b[1;34m()\u001b[0m\n\u001b[1;32m----> 1\u001b[0m \u001b[43mpd\u001b[49m\u001b[38;5;241;43m.\u001b[39;49m\u001b[43mDataFrame\u001b[49m\u001b[43m(\u001b[49m\u001b[43ma\u001b[49m\u001b[43m)\u001b[49m\n",
      "File \u001b[1;32m~\\AppData\\Roaming\\Python\\Python39\\site-packages\\pandas\\core\\frame.py:722\u001b[0m, in \u001b[0;36mDataFrame.__init__\u001b[1;34m(self, data, index, columns, dtype, copy)\u001b[0m\n\u001b[0;32m    712\u001b[0m         mgr \u001b[38;5;241m=\u001b[39m dict_to_mgr(\n\u001b[0;32m    713\u001b[0m             \u001b[38;5;66;03m# error: Item \"ndarray\" of \"Union[ndarray, Series, Index]\" has no\u001b[39;00m\n\u001b[0;32m    714\u001b[0m             \u001b[38;5;66;03m# attribute \"name\"\u001b[39;00m\n\u001b[1;32m   (...)\u001b[0m\n\u001b[0;32m    719\u001b[0m             typ\u001b[38;5;241m=\u001b[39mmanager,\n\u001b[0;32m    720\u001b[0m         )\n\u001b[0;32m    721\u001b[0m     \u001b[38;5;28;01melse\u001b[39;00m:\n\u001b[1;32m--> 722\u001b[0m         mgr \u001b[38;5;241m=\u001b[39m \u001b[43mndarray_to_mgr\u001b[49m\u001b[43m(\u001b[49m\n\u001b[0;32m    723\u001b[0m \u001b[43m            \u001b[49m\u001b[43mdata\u001b[49m\u001b[43m,\u001b[49m\n\u001b[0;32m    724\u001b[0m \u001b[43m            \u001b[49m\u001b[43mindex\u001b[49m\u001b[43m,\u001b[49m\n\u001b[0;32m    725\u001b[0m \u001b[43m            \u001b[49m\u001b[43mcolumns\u001b[49m\u001b[43m,\u001b[49m\n\u001b[0;32m    726\u001b[0m \u001b[43m            \u001b[49m\u001b[43mdtype\u001b[49m\u001b[38;5;241;43m=\u001b[39;49m\u001b[43mdtype\u001b[49m\u001b[43m,\u001b[49m\n\u001b[0;32m    727\u001b[0m \u001b[43m            \u001b[49m\u001b[43mcopy\u001b[49m\u001b[38;5;241;43m=\u001b[39;49m\u001b[43mcopy\u001b[49m\u001b[43m,\u001b[49m\n\u001b[0;32m    728\u001b[0m \u001b[43m            \u001b[49m\u001b[43mtyp\u001b[49m\u001b[38;5;241;43m=\u001b[39;49m\u001b[43mmanager\u001b[49m\u001b[43m,\u001b[49m\n\u001b[0;32m    729\u001b[0m \u001b[43m        \u001b[49m\u001b[43m)\u001b[49m\n\u001b[0;32m    731\u001b[0m \u001b[38;5;66;03m# For data is list-like, or Iterable (will consume into list)\u001b[39;00m\n\u001b[0;32m    732\u001b[0m \u001b[38;5;28;01melif\u001b[39;00m is_list_like(data):\n",
      "File \u001b[1;32m~\\AppData\\Roaming\\Python\\Python39\\site-packages\\pandas\\core\\internals\\construction.py:329\u001b[0m, in \u001b[0;36mndarray_to_mgr\u001b[1;34m(values, index, columns, dtype, copy, typ)\u001b[0m\n\u001b[0;32m    324\u001b[0m         values \u001b[38;5;241m=\u001b[39m values\u001b[38;5;241m.\u001b[39mreshape(\u001b[38;5;241m-\u001b[39m\u001b[38;5;241m1\u001b[39m, \u001b[38;5;241m1\u001b[39m)\n\u001b[0;32m    326\u001b[0m \u001b[38;5;28;01melse\u001b[39;00m:\n\u001b[0;32m    327\u001b[0m     \u001b[38;5;66;03m# by definition an array here\u001b[39;00m\n\u001b[0;32m    328\u001b[0m     \u001b[38;5;66;03m# the dtypes will be coerced to a single dtype\u001b[39;00m\n\u001b[1;32m--> 329\u001b[0m     values \u001b[38;5;241m=\u001b[39m \u001b[43m_prep_ndarraylike\u001b[49m\u001b[43m(\u001b[49m\u001b[43mvalues\u001b[49m\u001b[43m,\u001b[49m\u001b[43m \u001b[49m\u001b[43mcopy\u001b[49m\u001b[38;5;241;43m=\u001b[39;49m\u001b[43mcopy_on_sanitize\u001b[49m\u001b[43m)\u001b[49m\n\u001b[0;32m    331\u001b[0m \u001b[38;5;28;01mif\u001b[39;00m dtype \u001b[38;5;129;01mis\u001b[39;00m \u001b[38;5;129;01mnot\u001b[39;00m \u001b[38;5;28;01mNone\u001b[39;00m \u001b[38;5;129;01mand\u001b[39;00m \u001b[38;5;129;01mnot\u001b[39;00m is_dtype_equal(values\u001b[38;5;241m.\u001b[39mdtype, dtype):\n\u001b[0;32m    332\u001b[0m     \u001b[38;5;66;03m# GH#40110 see similar check inside sanitize_array\u001b[39;00m\n\u001b[0;32m    333\u001b[0m     rcf \u001b[38;5;241m=\u001b[39m \u001b[38;5;129;01mnot\u001b[39;00m (is_integer_dtype(dtype) \u001b[38;5;129;01mand\u001b[39;00m values\u001b[38;5;241m.\u001b[39mdtype\u001b[38;5;241m.\u001b[39mkind \u001b[38;5;241m==\u001b[39m \u001b[38;5;124m\"\u001b[39m\u001b[38;5;124mf\u001b[39m\u001b[38;5;124m\"\u001b[39m)\n",
      "File \u001b[1;32m~\\AppData\\Roaming\\Python\\Python39\\site-packages\\pandas\\core\\internals\\construction.py:583\u001b[0m, in \u001b[0;36m_prep_ndarraylike\u001b[1;34m(values, copy)\u001b[0m\n\u001b[0;32m    581\u001b[0m     values \u001b[38;5;241m=\u001b[39m values\u001b[38;5;241m.\u001b[39mreshape((values\u001b[38;5;241m.\u001b[39mshape[\u001b[38;5;241m0\u001b[39m], \u001b[38;5;241m1\u001b[39m))\n\u001b[0;32m    582\u001b[0m \u001b[38;5;28;01melif\u001b[39;00m values\u001b[38;5;241m.\u001b[39mndim \u001b[38;5;241m!=\u001b[39m \u001b[38;5;241m2\u001b[39m:\n\u001b[1;32m--> 583\u001b[0m     \u001b[38;5;28;01mraise\u001b[39;00m \u001b[38;5;167;01mValueError\u001b[39;00m(\u001b[38;5;124mf\u001b[39m\u001b[38;5;124m\"\u001b[39m\u001b[38;5;124mMust pass 2-d input. shape=\u001b[39m\u001b[38;5;132;01m{\u001b[39;00mvalues\u001b[38;5;241m.\u001b[39mshape\u001b[38;5;132;01m}\u001b[39;00m\u001b[38;5;124m\"\u001b[39m)\n\u001b[0;32m    585\u001b[0m \u001b[38;5;28;01mreturn\u001b[39;00m values\n",
      "\u001b[1;31mValueError\u001b[0m: Must pass 2-d input. shape=(4, 3, 2)"
     ]
    }
   ],
   "source": [
    "pd.DataFrame(a)"
   ]
  },
  {
   "cell_type": "code",
   "execution_count": 51,
   "id": "34acaa56",
   "metadata": {},
   "outputs": [],
   "source": [
    "a = np.fromfunction(lambda i, j: i*j, (400,100),dtype=int)"
   ]
  },
  {
   "cell_type": "code",
   "execution_count": 52,
   "id": "8a6b0992",
   "metadata": {},
   "outputs": [
    {
     "data": {
      "text/plain": [
       "array([[    0,     0,     0, ...,     0,     0,     0],\n",
       "       [    0,     1,     2, ...,    97,    98,    99],\n",
       "       [    0,     2,     4, ...,   194,   196,   198],\n",
       "       ...,\n",
       "       [    0,   397,   794, ..., 38509, 38906, 39303],\n",
       "       [    0,   398,   796, ..., 38606, 39004, 39402],\n",
       "       [    0,   399,   798, ..., 38703, 39102, 39501]])"
      ]
     },
     "execution_count": 52,
     "metadata": {},
     "output_type": "execute_result"
    }
   ],
   "source": [
    "a"
   ]
  },
  {
   "cell_type": "code",
   "execution_count": 53,
   "id": "a80fd5c8",
   "metadata": {},
   "outputs": [
    {
     "data": {
      "text/html": [
       "<div>\n",
       "<style scoped>\n",
       "    .dataframe tbody tr th:only-of-type {\n",
       "        vertical-align: middle;\n",
       "    }\n",
       "\n",
       "    .dataframe tbody tr th {\n",
       "        vertical-align: top;\n",
       "    }\n",
       "\n",
       "    .dataframe thead th {\n",
       "        text-align: right;\n",
       "    }\n",
       "</style>\n",
       "<table border=\"1\" class=\"dataframe\">\n",
       "  <thead>\n",
       "    <tr style=\"text-align: right;\">\n",
       "      <th></th>\n",
       "      <th>0</th>\n",
       "      <th>1</th>\n",
       "      <th>2</th>\n",
       "      <th>3</th>\n",
       "      <th>4</th>\n",
       "      <th>5</th>\n",
       "      <th>6</th>\n",
       "      <th>7</th>\n",
       "      <th>8</th>\n",
       "      <th>9</th>\n",
       "      <th>...</th>\n",
       "      <th>90</th>\n",
       "      <th>91</th>\n",
       "      <th>92</th>\n",
       "      <th>93</th>\n",
       "      <th>94</th>\n",
       "      <th>95</th>\n",
       "      <th>96</th>\n",
       "      <th>97</th>\n",
       "      <th>98</th>\n",
       "      <th>99</th>\n",
       "    </tr>\n",
       "  </thead>\n",
       "  <tbody>\n",
       "    <tr>\n",
       "      <th>0</th>\n",
       "      <td>0</td>\n",
       "      <td>0</td>\n",
       "      <td>0</td>\n",
       "      <td>0</td>\n",
       "      <td>0</td>\n",
       "      <td>0</td>\n",
       "      <td>0</td>\n",
       "      <td>0</td>\n",
       "      <td>0</td>\n",
       "      <td>0</td>\n",
       "      <td>...</td>\n",
       "      <td>0</td>\n",
       "      <td>0</td>\n",
       "      <td>0</td>\n",
       "      <td>0</td>\n",
       "      <td>0</td>\n",
       "      <td>0</td>\n",
       "      <td>0</td>\n",
       "      <td>0</td>\n",
       "      <td>0</td>\n",
       "      <td>0</td>\n",
       "    </tr>\n",
       "    <tr>\n",
       "      <th>1</th>\n",
       "      <td>0</td>\n",
       "      <td>1</td>\n",
       "      <td>2</td>\n",
       "      <td>3</td>\n",
       "      <td>4</td>\n",
       "      <td>5</td>\n",
       "      <td>6</td>\n",
       "      <td>7</td>\n",
       "      <td>8</td>\n",
       "      <td>9</td>\n",
       "      <td>...</td>\n",
       "      <td>90</td>\n",
       "      <td>91</td>\n",
       "      <td>92</td>\n",
       "      <td>93</td>\n",
       "      <td>94</td>\n",
       "      <td>95</td>\n",
       "      <td>96</td>\n",
       "      <td>97</td>\n",
       "      <td>98</td>\n",
       "      <td>99</td>\n",
       "    </tr>\n",
       "    <tr>\n",
       "      <th>2</th>\n",
       "      <td>0</td>\n",
       "      <td>2</td>\n",
       "      <td>4</td>\n",
       "      <td>6</td>\n",
       "      <td>8</td>\n",
       "      <td>10</td>\n",
       "      <td>12</td>\n",
       "      <td>14</td>\n",
       "      <td>16</td>\n",
       "      <td>18</td>\n",
       "      <td>...</td>\n",
       "      <td>180</td>\n",
       "      <td>182</td>\n",
       "      <td>184</td>\n",
       "      <td>186</td>\n",
       "      <td>188</td>\n",
       "      <td>190</td>\n",
       "      <td>192</td>\n",
       "      <td>194</td>\n",
       "      <td>196</td>\n",
       "      <td>198</td>\n",
       "    </tr>\n",
       "    <tr>\n",
       "      <th>3</th>\n",
       "      <td>0</td>\n",
       "      <td>3</td>\n",
       "      <td>6</td>\n",
       "      <td>9</td>\n",
       "      <td>12</td>\n",
       "      <td>15</td>\n",
       "      <td>18</td>\n",
       "      <td>21</td>\n",
       "      <td>24</td>\n",
       "      <td>27</td>\n",
       "      <td>...</td>\n",
       "      <td>270</td>\n",
       "      <td>273</td>\n",
       "      <td>276</td>\n",
       "      <td>279</td>\n",
       "      <td>282</td>\n",
       "      <td>285</td>\n",
       "      <td>288</td>\n",
       "      <td>291</td>\n",
       "      <td>294</td>\n",
       "      <td>297</td>\n",
       "    </tr>\n",
       "    <tr>\n",
       "      <th>4</th>\n",
       "      <td>0</td>\n",
       "      <td>4</td>\n",
       "      <td>8</td>\n",
       "      <td>12</td>\n",
       "      <td>16</td>\n",
       "      <td>20</td>\n",
       "      <td>24</td>\n",
       "      <td>28</td>\n",
       "      <td>32</td>\n",
       "      <td>36</td>\n",
       "      <td>...</td>\n",
       "      <td>360</td>\n",
       "      <td>364</td>\n",
       "      <td>368</td>\n",
       "      <td>372</td>\n",
       "      <td>376</td>\n",
       "      <td>380</td>\n",
       "      <td>384</td>\n",
       "      <td>388</td>\n",
       "      <td>392</td>\n",
       "      <td>396</td>\n",
       "    </tr>\n",
       "    <tr>\n",
       "      <th>...</th>\n",
       "      <td>...</td>\n",
       "      <td>...</td>\n",
       "      <td>...</td>\n",
       "      <td>...</td>\n",
       "      <td>...</td>\n",
       "      <td>...</td>\n",
       "      <td>...</td>\n",
       "      <td>...</td>\n",
       "      <td>...</td>\n",
       "      <td>...</td>\n",
       "      <td>...</td>\n",
       "      <td>...</td>\n",
       "      <td>...</td>\n",
       "      <td>...</td>\n",
       "      <td>...</td>\n",
       "      <td>...</td>\n",
       "      <td>...</td>\n",
       "      <td>...</td>\n",
       "      <td>...</td>\n",
       "      <td>...</td>\n",
       "      <td>...</td>\n",
       "    </tr>\n",
       "    <tr>\n",
       "      <th>395</th>\n",
       "      <td>0</td>\n",
       "      <td>395</td>\n",
       "      <td>790</td>\n",
       "      <td>1185</td>\n",
       "      <td>1580</td>\n",
       "      <td>1975</td>\n",
       "      <td>2370</td>\n",
       "      <td>2765</td>\n",
       "      <td>3160</td>\n",
       "      <td>3555</td>\n",
       "      <td>...</td>\n",
       "      <td>35550</td>\n",
       "      <td>35945</td>\n",
       "      <td>36340</td>\n",
       "      <td>36735</td>\n",
       "      <td>37130</td>\n",
       "      <td>37525</td>\n",
       "      <td>37920</td>\n",
       "      <td>38315</td>\n",
       "      <td>38710</td>\n",
       "      <td>39105</td>\n",
       "    </tr>\n",
       "    <tr>\n",
       "      <th>396</th>\n",
       "      <td>0</td>\n",
       "      <td>396</td>\n",
       "      <td>792</td>\n",
       "      <td>1188</td>\n",
       "      <td>1584</td>\n",
       "      <td>1980</td>\n",
       "      <td>2376</td>\n",
       "      <td>2772</td>\n",
       "      <td>3168</td>\n",
       "      <td>3564</td>\n",
       "      <td>...</td>\n",
       "      <td>35640</td>\n",
       "      <td>36036</td>\n",
       "      <td>36432</td>\n",
       "      <td>36828</td>\n",
       "      <td>37224</td>\n",
       "      <td>37620</td>\n",
       "      <td>38016</td>\n",
       "      <td>38412</td>\n",
       "      <td>38808</td>\n",
       "      <td>39204</td>\n",
       "    </tr>\n",
       "    <tr>\n",
       "      <th>397</th>\n",
       "      <td>0</td>\n",
       "      <td>397</td>\n",
       "      <td>794</td>\n",
       "      <td>1191</td>\n",
       "      <td>1588</td>\n",
       "      <td>1985</td>\n",
       "      <td>2382</td>\n",
       "      <td>2779</td>\n",
       "      <td>3176</td>\n",
       "      <td>3573</td>\n",
       "      <td>...</td>\n",
       "      <td>35730</td>\n",
       "      <td>36127</td>\n",
       "      <td>36524</td>\n",
       "      <td>36921</td>\n",
       "      <td>37318</td>\n",
       "      <td>37715</td>\n",
       "      <td>38112</td>\n",
       "      <td>38509</td>\n",
       "      <td>38906</td>\n",
       "      <td>39303</td>\n",
       "    </tr>\n",
       "    <tr>\n",
       "      <th>398</th>\n",
       "      <td>0</td>\n",
       "      <td>398</td>\n",
       "      <td>796</td>\n",
       "      <td>1194</td>\n",
       "      <td>1592</td>\n",
       "      <td>1990</td>\n",
       "      <td>2388</td>\n",
       "      <td>2786</td>\n",
       "      <td>3184</td>\n",
       "      <td>3582</td>\n",
       "      <td>...</td>\n",
       "      <td>35820</td>\n",
       "      <td>36218</td>\n",
       "      <td>36616</td>\n",
       "      <td>37014</td>\n",
       "      <td>37412</td>\n",
       "      <td>37810</td>\n",
       "      <td>38208</td>\n",
       "      <td>38606</td>\n",
       "      <td>39004</td>\n",
       "      <td>39402</td>\n",
       "    </tr>\n",
       "    <tr>\n",
       "      <th>399</th>\n",
       "      <td>0</td>\n",
       "      <td>399</td>\n",
       "      <td>798</td>\n",
       "      <td>1197</td>\n",
       "      <td>1596</td>\n",
       "      <td>1995</td>\n",
       "      <td>2394</td>\n",
       "      <td>2793</td>\n",
       "      <td>3192</td>\n",
       "      <td>3591</td>\n",
       "      <td>...</td>\n",
       "      <td>35910</td>\n",
       "      <td>36309</td>\n",
       "      <td>36708</td>\n",
       "      <td>37107</td>\n",
       "      <td>37506</td>\n",
       "      <td>37905</td>\n",
       "      <td>38304</td>\n",
       "      <td>38703</td>\n",
       "      <td>39102</td>\n",
       "      <td>39501</td>\n",
       "    </tr>\n",
       "  </tbody>\n",
       "</table>\n",
       "<p>400 rows × 100 columns</p>\n",
       "</div>"
      ],
      "text/plain": [
       "     0    1    2     3     4     5     6     7     8     9   ...     90  \\\n",
       "0     0    0    0     0     0     0     0     0     0     0  ...      0   \n",
       "1     0    1    2     3     4     5     6     7     8     9  ...     90   \n",
       "2     0    2    4     6     8    10    12    14    16    18  ...    180   \n",
       "3     0    3    6     9    12    15    18    21    24    27  ...    270   \n",
       "4     0    4    8    12    16    20    24    28    32    36  ...    360   \n",
       "..   ..  ...  ...   ...   ...   ...   ...   ...   ...   ...  ...    ...   \n",
       "395   0  395  790  1185  1580  1975  2370  2765  3160  3555  ...  35550   \n",
       "396   0  396  792  1188  1584  1980  2376  2772  3168  3564  ...  35640   \n",
       "397   0  397  794  1191  1588  1985  2382  2779  3176  3573  ...  35730   \n",
       "398   0  398  796  1194  1592  1990  2388  2786  3184  3582  ...  35820   \n",
       "399   0  399  798  1197  1596  1995  2394  2793  3192  3591  ...  35910   \n",
       "\n",
       "        91     92     93     94     95     96     97     98     99  \n",
       "0        0      0      0      0      0      0      0      0      0  \n",
       "1       91     92     93     94     95     96     97     98     99  \n",
       "2      182    184    186    188    190    192    194    196    198  \n",
       "3      273    276    279    282    285    288    291    294    297  \n",
       "4      364    368    372    376    380    384    388    392    396  \n",
       "..     ...    ...    ...    ...    ...    ...    ...    ...    ...  \n",
       "395  35945  36340  36735  37130  37525  37920  38315  38710  39105  \n",
       "396  36036  36432  36828  37224  37620  38016  38412  38808  39204  \n",
       "397  36127  36524  36921  37318  37715  38112  38509  38906  39303  \n",
       "398  36218  36616  37014  37412  37810  38208  38606  39004  39402  \n",
       "399  36309  36708  37107  37506  37905  38304  38703  39102  39501  \n",
       "\n",
       "[400 rows x 100 columns]"
      ]
     },
     "execution_count": 53,
     "metadata": {},
     "output_type": "execute_result"
    }
   ],
   "source": [
    "pd.DataFrame(a)"
   ]
  },
  {
   "cell_type": "code",
   "execution_count": 54,
   "id": "a1982bb1",
   "metadata": {},
   "outputs": [
    {
     "data": {
      "text/plain": [
       "array([[0.34170729, 0.43811007, 0.48887876, 0.8248727 ],\n",
       "       [0.80425051, 0.97970246, 0.46746229, 0.01248774],\n",
       "       [0.93169252, 0.9114203 , 0.02085854, 0.71548931],\n",
       "       [0.27624638, 0.91714881, 0.7712582 , 0.33201874],\n",
       "       [0.3070311 , 0.01139237, 0.55769484, 0.468788  ],\n",
       "       [0.32335274, 0.94097988, 0.40055287, 0.6643544 ],\n",
       "       [0.89382475, 0.78357358, 0.48976972, 0.03706581],\n",
       "       [0.12447998, 0.2509121 , 0.23448164, 0.38041015],\n",
       "       [0.480434  , 0.27260649, 0.69277497, 0.43474439],\n",
       "       [0.21379183, 0.85126549, 0.87728979, 0.31355578],\n",
       "       [0.19805625, 0.57390482, 0.84453706, 0.2871338 ],\n",
       "       [0.25507984, 0.63134092, 0.43543041, 0.13060896],\n",
       "       [0.95886785, 0.2734402 , 0.96592663, 0.17169038],\n",
       "       [0.01919447, 0.63891854, 0.90350624, 0.22771753],\n",
       "       [0.0129883 , 0.14617282, 0.46720715, 0.86553803],\n",
       "       [0.6562902 , 0.13137383, 0.06584719, 0.87216689],\n",
       "       [0.90510952, 0.95695403, 0.8881801 , 0.40989336],\n",
       "       [0.39147319, 0.20447033, 0.40144061, 0.17761485],\n",
       "       [0.55517636, 0.95771399, 0.56763639, 0.34742678],\n",
       "       [0.95631607, 0.13014684, 0.99253595, 0.18899021],\n",
       "       [0.00468766, 0.81953123, 0.56413459, 0.54422988],\n",
       "       [0.0838122 , 0.73510708, 0.47106359, 0.70063585],\n",
       "       [0.2121551 , 0.36777152, 0.90615039, 0.18341328],\n",
       "       [0.85097928, 0.10379496, 0.89252711, 0.48343852],\n",
       "       [0.88798431, 0.90302156, 0.26873456, 0.2485632 ],\n",
       "       [0.0660297 , 0.01107149, 0.38928144, 0.91353368],\n",
       "       [0.87339703, 0.57966171, 0.57605184, 0.16897113],\n",
       "       [0.20787225, 0.22672954, 0.17751426, 0.57083794],\n",
       "       [0.98901016, 0.18406825, 0.43604756, 0.3874293 ],\n",
       "       [0.93362772, 0.28406621, 0.3440096 , 0.57655975],\n",
       "       [0.68310875, 0.83362263, 0.83041067, 0.95055106],\n",
       "       [0.22992623, 0.76408939, 0.68119754, 0.04901524],\n",
       "       [0.82184913, 0.48550108, 0.01282942, 0.2771687 ],\n",
       "       [0.43934394, 0.94277823, 0.0257164 , 0.0165975 ],\n",
       "       [0.06326079, 0.28380918, 0.60579989, 0.37515046],\n",
       "       [0.77632781, 0.69580554, 0.17546622, 0.42874373],\n",
       "       [0.83763629, 0.26134372, 0.75196199, 0.75571331],\n",
       "       [0.19051009, 0.20337441, 0.15145887, 0.83051273],\n",
       "       [0.81616049, 0.99278787, 0.32044588, 0.67781054],\n",
       "       [0.79811245, 0.99723657, 0.47504757, 0.27950782],\n",
       "       [0.23596924, 0.01490115, 0.91975243, 0.43224981],\n",
       "       [0.92135936, 0.77274326, 0.41327   , 0.25339915],\n",
       "       [0.45063844, 0.74137229, 0.77535388, 0.36111265],\n",
       "       [0.5661595 , 0.47181613, 0.17563285, 0.10912216],\n",
       "       [0.0067058 , 0.71558864, 0.01028349, 0.83236722],\n",
       "       [0.95431849, 0.38908526, 0.49689749, 0.64489145],\n",
       "       [0.3121995 , 0.96552292, 0.49597308, 0.15833667],\n",
       "       [0.90766704, 0.99263033, 0.59762538, 0.95749857],\n",
       "       [0.1315441 , 0.84804754, 0.17761712, 0.50890893],\n",
       "       [0.84984968, 0.57732873, 0.08407649, 0.86582487],\n",
       "       [0.35303971, 0.50020941, 0.3526892 , 0.01929825],\n",
       "       [0.12050687, 0.60383206, 0.89475722, 0.10812968],\n",
       "       [0.95853999, 0.62699131, 0.53396688, 0.26092383],\n",
       "       [0.08693418, 0.81835688, 0.36708662, 0.17527507],\n",
       "       [0.02269143, 0.77758302, 0.6919856 , 0.99837946],\n",
       "       [0.98062808, 0.82629965, 0.1341591 , 0.26475576],\n",
       "       [0.03757161, 0.24589524, 0.85715073, 0.75713221],\n",
       "       [0.0965342 , 0.66832256, 0.88152281, 0.77120175],\n",
       "       [0.26894763, 0.16200817, 0.9742567 , 0.44111806],\n",
       "       [0.46327849, 0.85698391, 0.75663819, 0.09214423],\n",
       "       [0.34432672, 0.54197513, 0.13279891, 0.86666189],\n",
       "       [0.72653739, 0.75241159, 0.40847374, 0.12264769],\n",
       "       [0.91609705, 0.35531218, 0.13145242, 0.38658483],\n",
       "       [0.03585428, 0.32377111, 0.75137213, 0.95874477],\n",
       "       [0.29577429, 0.77371361, 0.35422559, 0.21820536],\n",
       "       [0.46329644, 0.2392527 , 0.11573204, 0.01415232],\n",
       "       [0.2312107 , 0.35832436, 0.10170361, 0.86453572],\n",
       "       [0.47264236, 0.05670927, 0.00898787, 0.47974298],\n",
       "       [0.37711072, 0.44610321, 0.77055479, 0.68722251],\n",
       "       [0.66089231, 0.23829603, 0.86721421, 0.80243923],\n",
       "       [0.26780648, 0.16129274, 0.82042291, 0.76163133],\n",
       "       [0.6086812 , 0.74014651, 0.36468056, 0.10703231],\n",
       "       [0.25091793, 0.90138841, 0.37638504, 0.1989605 ],\n",
       "       [0.40786717, 0.15745764, 0.50346664, 0.27895798],\n",
       "       [0.76571273, 0.67746477, 0.41818705, 0.83842906],\n",
       "       [0.61860773, 0.49779578, 0.51731702, 0.56972094],\n",
       "       [0.2307287 , 0.65741945, 0.44230872, 0.03756024],\n",
       "       [0.44676712, 0.44881362, 0.11694559, 0.64975047],\n",
       "       [0.8153428 , 0.42687768, 0.9830274 , 0.09194745],\n",
       "       [0.30490217, 0.204994  , 0.73241784, 0.3138892 ],\n",
       "       [0.67281187, 0.10980974, 0.81901704, 0.89178882],\n",
       "       [0.55686136, 0.17417604, 0.39391721, 0.81636157],\n",
       "       [0.73872984, 0.2435804 , 0.50449402, 0.83175846],\n",
       "       [0.55301299, 0.6289385 , 0.32197409, 0.50318633],\n",
       "       [0.87892232, 0.24433426, 0.54600636, 0.70471845],\n",
       "       [0.32799524, 0.03386302, 0.50706611, 0.16728869],\n",
       "       [0.15007606, 0.66493861, 0.81903348, 0.08272574],\n",
       "       [0.53665383, 0.62117978, 0.94221161, 0.98856738],\n",
       "       [0.70592024, 0.86792416, 0.57156264, 0.56823358],\n",
       "       [0.81619672, 0.0739516 , 0.1751588 , 0.36313885],\n",
       "       [0.27384015, 0.67160705, 0.12335138, 0.91997569],\n",
       "       [0.27449504, 0.22787906, 0.78748566, 0.21254149],\n",
       "       [0.06996457, 0.1969337 , 0.96975274, 0.78420233],\n",
       "       [0.29952039, 0.54842975, 0.20789744, 0.05612227],\n",
       "       [0.3041651 , 0.25810897, 0.71724713, 0.87480122],\n",
       "       [0.81308188, 0.10535165, 0.39320968, 0.2513347 ],\n",
       "       [0.06050971, 0.33327454, 0.26223223, 0.59280122],\n",
       "       [0.34278656, 0.71735208, 0.85417504, 0.61885585],\n",
       "       [0.004065  , 0.03498974, 0.4708619 , 0.78249525],\n",
       "       [0.66453361, 0.75913365, 0.0588389 , 0.01901596]])"
      ]
     },
     "execution_count": 54,
     "metadata": {},
     "output_type": "execute_result"
    }
   ],
   "source": [
    "np.random.rand(100,4)"
   ]
  },
  {
   "cell_type": "code",
   "execution_count": 57,
   "id": "a3b85bcb",
   "metadata": {},
   "outputs": [
    {
     "data": {
      "text/plain": [
       "12"
      ]
     },
     "execution_count": 57,
     "metadata": {},
     "output_type": "execute_result"
    }
   ],
   "source": [
    "np.random.randint(4,50) # gives randon between  4 and 50"
   ]
  },
  {
   "cell_type": "code",
   "execution_count": 58,
   "id": "57922aef",
   "metadata": {},
   "outputs": [
    {
     "data": {
      "text/html": [
       "<div>\n",
       "<style scoped>\n",
       "    .dataframe tbody tr th:only-of-type {\n",
       "        vertical-align: middle;\n",
       "    }\n",
       "\n",
       "    .dataframe tbody tr th {\n",
       "        vertical-align: top;\n",
       "    }\n",
       "\n",
       "    .dataframe thead th {\n",
       "        text-align: right;\n",
       "    }\n",
       "</style>\n",
       "<table border=\"1\" class=\"dataframe\">\n",
       "  <thead>\n",
       "    <tr style=\"text-align: right;\">\n",
       "      <th></th>\n",
       "      <th>0</th>\n",
       "      <th>1</th>\n",
       "      <th>2</th>\n",
       "      <th>3</th>\n",
       "      <th>4</th>\n",
       "    </tr>\n",
       "  </thead>\n",
       "  <tbody>\n",
       "    <tr>\n",
       "      <th>0</th>\n",
       "      <td>-0.969568</td>\n",
       "      <td>-0.548119</td>\n",
       "      <td>1.194032</td>\n",
       "      <td>-1.030993</td>\n",
       "      <td>1.488315</td>\n",
       "    </tr>\n",
       "    <tr>\n",
       "      <th>1</th>\n",
       "      <td>-0.438822</td>\n",
       "      <td>1.429787</td>\n",
       "      <td>-1.720014</td>\n",
       "      <td>-0.841955</td>\n",
       "      <td>1.173847</td>\n",
       "    </tr>\n",
       "    <tr>\n",
       "      <th>2</th>\n",
       "      <td>-1.423569</td>\n",
       "      <td>0.190118</td>\n",
       "      <td>-0.256403</td>\n",
       "      <td>1.380047</td>\n",
       "      <td>-1.023635</td>\n",
       "    </tr>\n",
       "    <tr>\n",
       "      <th>3</th>\n",
       "      <td>0.207178</td>\n",
       "      <td>1.146926</td>\n",
       "      <td>0.092054</td>\n",
       "      <td>-0.041675</td>\n",
       "      <td>0.091856</td>\n",
       "    </tr>\n",
       "  </tbody>\n",
       "</table>\n",
       "</div>"
      ],
      "text/plain": [
       "          0         1         2         3         4\n",
       "0 -0.969568 -0.548119  1.194032 -1.030993  1.488315\n",
       "1 -0.438822  1.429787 -1.720014 -0.841955  1.173847\n",
       "2 -1.423569  0.190118 -0.256403  1.380047 -1.023635\n",
       "3  0.207178  1.146926  0.092054 -0.041675  0.091856"
      ]
     },
     "execution_count": 58,
     "metadata": {},
     "output_type": "execute_result"
    }
   ],
   "source": [
    "pd.DataFrame(np.random.randn(4,5))"
   ]
  },
  {
   "cell_type": "code",
   "execution_count": 60,
   "id": "00fcefdc",
   "metadata": {},
   "outputs": [
    {
     "ename": "TypeError",
     "evalue": "'float' object cannot be interpreted as an integer",
     "output_type": "error",
     "traceback": [
      "\u001b[1;31m---------------------------------------------------------------------------\u001b[0m",
      "\u001b[1;31mTypeError\u001b[0m                                 Traceback (most recent call last)",
      "Input \u001b[1;32mIn [60]\u001b[0m, in \u001b[0;36m<cell line: 1>\u001b[1;34m()\u001b[0m\n\u001b[1;32m----> 1\u001b[0m \u001b[38;5;28mlist\u001b[39m(\u001b[38;5;28;43mrange\u001b[39;49m\u001b[43m(\u001b[49m\u001b[38;5;241;43m410\u001b[39;49m\u001b[43m,\u001b[49m\u001b[38;5;241;43m5\u001b[39;49m\u001b[43m,\u001b[49m\u001b[38;5;241;43m.2\u001b[39;49m\u001b[43m)\u001b[49m)\n",
      "\u001b[1;31mTypeError\u001b[0m: 'float' object cannot be interpreted as an integer"
     ]
    }
   ],
   "source": [
    "list(range(410,5,.2)) # no float values for steps"
   ]
  },
  {
   "cell_type": "code",
   "execution_count": 62,
   "id": "6fef20e7",
   "metadata": {},
   "outputs": [],
   "source": [
    "# FLOAT VALUES CAN BE USED  IN NUMPY range function\n",
    "a1 = np.arange(4,10,.2)"
   ]
  },
  {
   "cell_type": "code",
   "execution_count": 63,
   "id": "786da0f6",
   "metadata": {},
   "outputs": [
    {
     "data": {
      "text/plain": [
       "array([4. , 4.2, 4.4, 4.6, 4.8, 5. , 5.2, 5.4, 5.6, 5.8, 6. , 6.2, 6.4,\n",
       "       6.6, 6.8, 7. , 7.2, 7.4, 7.6, 7.8, 8. , 8.2, 8.4, 8.6, 8.8, 9. ,\n",
       "       9.2, 9.4, 9.6, 9.8])"
      ]
     },
     "execution_count": 63,
     "metadata": {},
     "output_type": "execute_result"
    }
   ],
   "source": [
    "a1"
   ]
  },
  {
   "cell_type": "code",
   "execution_count": 64,
   "id": "ca68aef8",
   "metadata": {},
   "outputs": [
    {
     "data": {
      "text/plain": [
       "array([4.8, 5. , 5.2, 5.4, 5.6, 5.8])"
      ]
     },
     "execution_count": 64,
     "metadata": {},
     "output_type": "execute_result"
    }
   ],
   "source": [
    "a1[4:10]"
   ]
  },
  {
   "cell_type": "code",
   "execution_count": 65,
   "id": "cae1cf65",
   "metadata": {},
   "outputs": [],
   "source": [
    "arr = np.random.rand(4,5)"
   ]
  },
  {
   "cell_type": "code",
   "execution_count": 66,
   "id": "eac5e93b",
   "metadata": {},
   "outputs": [
    {
     "data": {
      "text/plain": [
       "array([[0.52365523, 0.42524489, 0.54704624, 0.18600574, 0.05914884],\n",
       "       [0.34967174, 0.55833028, 0.21865196, 0.46309257, 0.50765322],\n",
       "       [0.08469205, 0.73174593, 0.35671237, 0.25985938, 0.93063073],\n",
       "       [0.60941726, 0.06615489, 0.96682372, 0.25269645, 0.85866697]])"
      ]
     },
     "execution_count": 66,
     "metadata": {},
     "output_type": "execute_result"
    }
   ],
   "source": [
    "arr"
   ]
  },
  {
   "cell_type": "code",
   "execution_count": 67,
   "id": "570d3abb",
   "metadata": {},
   "outputs": [
    {
     "data": {
      "text/plain": [
       "array([0.52365523, 0.54704624, 0.55833028, 0.50765322, 0.73174593,\n",
       "       0.93063073, 0.60941726, 0.96682372, 0.85866697])"
      ]
     },
     "execution_count": 67,
     "metadata": {},
     "output_type": "execute_result"
    }
   ],
   "source": [
    "arr[ arr > .5]"
   ]
  },
  {
   "cell_type": "code",
   "execution_count": 68,
   "id": "066faefd",
   "metadata": {},
   "outputs": [
    {
     "data": {
      "text/plain": [
       "array([[0.52365523, 0.42524489, 0.54704624, 0.18600574, 0.05914884],\n",
       "       [0.34967174, 0.55833028, 0.21865196, 0.46309257, 0.50765322],\n",
       "       [0.08469205, 0.73174593, 0.35671237, 0.25985938, 0.93063073],\n",
       "       [0.60941726, 0.06615489, 0.96682372, 0.25269645, 0.85866697]])"
      ]
     },
     "execution_count": 68,
     "metadata": {},
     "output_type": "execute_result"
    }
   ],
   "source": [
    "arr"
   ]
  },
  {
   "cell_type": "code",
   "execution_count": 69,
   "id": "979844f4",
   "metadata": {},
   "outputs": [
    {
     "data": {
      "text/plain": [
       "array([0.21865196, 0.35671237])"
      ]
     },
     "execution_count": 69,
     "metadata": {},
     "output_type": "execute_result"
    }
   ],
   "source": [
    "arr[[1,2],[2]]"
   ]
  },
  {
   "cell_type": "code",
   "execution_count": 70,
   "id": "9885301d",
   "metadata": {},
   "outputs": [],
   "source": [
    "arr = np.random.rand(8,5)"
   ]
  },
  {
   "cell_type": "code",
   "execution_count": 71,
   "id": "29ed4d67",
   "metadata": {},
   "outputs": [
    {
     "data": {
      "text/plain": [
       "array([[0.37852674, 0.90128925, 0.75282563, 0.9000214 , 0.39971929],\n",
       "       [0.71311882, 0.93936727, 0.09104082, 0.49756247, 0.41893977],\n",
       "       [0.84955447, 0.65600573, 0.46252031, 0.46116034, 0.54910983],\n",
       "       [0.32794815, 0.64718464, 0.92993337, 0.82026062, 0.03897116],\n",
       "       [0.47128831, 0.41799221, 0.47274406, 0.02001917, 0.53129498],\n",
       "       [0.19587587, 0.56285312, 0.21895619, 0.8610599 , 0.4984621 ],\n",
       "       [0.77641705, 0.58885806, 0.93831709, 0.60367169, 0.99204703],\n",
       "       [0.5878494 , 0.91543578, 0.12536532, 0.95803844, 0.73882291]])"
      ]
     },
     "execution_count": 71,
     "metadata": {},
     "output_type": "execute_result"
    }
   ],
   "source": [
    "arr"
   ]
  },
  {
   "cell_type": "code",
   "execution_count": 73,
   "id": "75a6c2de",
   "metadata": {},
   "outputs": [
    {
     "data": {
      "text/plain": [
       "array([[0.71311882, 0.93936727, 0.09104082],\n",
       "       [0.84955447, 0.65600573, 0.46252031],\n",
       "       [0.32794815, 0.64718464, 0.92993337],\n",
       "       [0.47128831, 0.41799221, 0.47274406],\n",
       "       [0.19587587, 0.56285312, 0.21895619],\n",
       "       [0.77641705, 0.58885806, 0.93831709],\n",
       "       [0.5878494 , 0.91543578, 0.12536532]])"
      ]
     },
     "execution_count": 73,
     "metadata": {},
     "output_type": "execute_result"
    }
   ],
   "source": [
    "arr[1:8, 0:3]"
   ]
  },
  {
   "cell_type": "code",
   "execution_count": 74,
   "id": "ac48c89e",
   "metadata": {},
   "outputs": [],
   "source": [
    "a2 = arr[1:8, [0,1,2]]"
   ]
  },
  {
   "cell_type": "code",
   "execution_count": 75,
   "id": "70e55c5f",
   "metadata": {},
   "outputs": [
    {
     "data": {
      "text/plain": [
       "array([[0.71311882, 0.93936727, 0.09104082],\n",
       "       [0.84955447, 0.65600573, 0.46252031],\n",
       "       [0.32794815, 0.64718464, 0.92993337],\n",
       "       [0.47128831, 0.41799221, 0.47274406],\n",
       "       [0.19587587, 0.56285312, 0.21895619],\n",
       "       [0.77641705, 0.58885806, 0.93831709],\n",
       "       [0.5878494 , 0.91543578, 0.12536532]])"
      ]
     },
     "execution_count": 75,
     "metadata": {},
     "output_type": "execute_result"
    }
   ],
   "source": [
    "a2"
   ]
  },
  {
   "cell_type": "code",
   "execution_count": 78,
   "id": "04161b66",
   "metadata": {},
   "outputs": [],
   "source": [
    "a2[0][0] = 100"
   ]
  },
  {
   "cell_type": "code",
   "execution_count": 79,
   "id": "0f5b02f4",
   "metadata": {},
   "outputs": [
    {
     "data": {
      "text/plain": [
       "array([[1.00000000e+02, 9.39367265e-01, 9.10408192e-02],\n",
       "       [8.49554472e-01, 6.56005734e-01, 4.62520314e-01],\n",
       "       [3.27948153e-01, 6.47184642e-01, 9.29933371e-01],\n",
       "       [4.71288311e-01, 4.17992209e-01, 4.72744059e-01],\n",
       "       [1.95875865e-01, 5.62853120e-01, 2.18956191e-01],\n",
       "       [7.76417051e-01, 5.88858061e-01, 9.38317090e-01],\n",
       "       [5.87849395e-01, 9.15435780e-01, 1.25365317e-01]])"
      ]
     },
     "execution_count": 79,
     "metadata": {},
     "output_type": "execute_result"
    }
   ],
   "source": [
    "a2"
   ]
  },
  {
   "cell_type": "code",
   "execution_count": 82,
   "id": "74495690",
   "metadata": {},
   "outputs": [],
   "source": [
    "a = np.array([[2,4],[45,45]])\n",
    "b = np.array([[56,4],[35,56]])"
   ]
  },
  {
   "cell_type": "code",
   "execution_count": 83,
   "id": "dbe0899d",
   "metadata": {},
   "outputs": [
    {
     "data": {
      "text/plain": [
       "array([[ 2,  4],\n",
       "       [45, 45]])"
      ]
     },
     "execution_count": 83,
     "metadata": {},
     "output_type": "execute_result"
    }
   ],
   "source": [
    "a"
   ]
  },
  {
   "cell_type": "code",
   "execution_count": 84,
   "id": "a6855b6a",
   "metadata": {},
   "outputs": [
    {
     "data": {
      "text/plain": [
       "array([[56,  4],\n",
       "       [35, 56]])"
      ]
     },
     "execution_count": 84,
     "metadata": {},
     "output_type": "execute_result"
    }
   ],
   "source": [
    "b"
   ]
  },
  {
   "cell_type": "code",
   "execution_count": 85,
   "id": "3da14514",
   "metadata": {},
   "outputs": [
    {
     "data": {
      "text/plain": [
       "array([[ 112,   16],\n",
       "       [1575, 2520]])"
      ]
     },
     "execution_count": 85,
     "metadata": {},
     "output_type": "execute_result"
    }
   ],
   "source": [
    "a*b # element wise multiplication not matrix mupltiplication"
   ]
  },
  {
   "cell_type": "code",
   "execution_count": 86,
   "id": "bcec745a",
   "metadata": {},
   "outputs": [],
   "source": [
    "# for matrix multiplication\n",
    "m = a@b"
   ]
  },
  {
   "cell_type": "code",
   "execution_count": 87,
   "id": "f1d1e1d9",
   "metadata": {},
   "outputs": [
    {
     "data": {
      "text/plain": [
       "array([[ 252,  232],\n",
       "       [4095, 2700]])"
      ]
     },
     "execution_count": 87,
     "metadata": {},
     "output_type": "execute_result"
    }
   ],
   "source": [
    "m"
   ]
  },
  {
   "cell_type": "code",
   "execution_count": 88,
   "id": "91eef72f",
   "metadata": {},
   "outputs": [
    {
     "name": "stderr",
     "output_type": "stream",
     "text": [
      "C:\\Users\\Abhishek Sakhare\\AppData\\Local\\Temp\\ipykernel_12396\\3791875896.py:1: RuntimeWarning: divide by zero encountered in true_divide\n",
      "  m/0\n"
     ]
    },
    {
     "data": {
      "text/plain": [
       "array([[inf, inf],\n",
       "       [inf, inf]])"
      ]
     },
     "execution_count": 88,
     "metadata": {},
     "output_type": "execute_result"
    }
   ],
   "source": [
    "m/0 # o/p is inf"
   ]
  },
  {
   "cell_type": "code",
   "execution_count": 2,
   "id": "2fce737a",
   "metadata": {},
   "outputs": [
    {
     "data": {
      "text/plain": [
       "array([0., 0., 0., 0., 0.])"
      ]
     },
     "execution_count": 2,
     "metadata": {},
     "output_type": "execute_result"
    }
   ],
   "source": [
    "np.zeros(5)"
   ]
  },
  {
   "cell_type": "code",
   "execution_count": 4,
   "id": "ce36cda7",
   "metadata": {},
   "outputs": [
    {
     "data": {
      "text/plain": [
       "array([[0., 0., 0., 0.],\n",
       "       [0., 0., 0., 0.],\n",
       "       [0., 0., 0., 0.]])"
      ]
     },
     "execution_count": 4,
     "metadata": {},
     "output_type": "execute_result"
    }
   ],
   "source": [
    "np.zeros((3,4))"
   ]
  },
  {
   "cell_type": "code",
   "execution_count": 5,
   "id": "4643f772",
   "metadata": {},
   "outputs": [
    {
     "data": {
      "text/plain": [
       "array([[[0., 0., 0., 0., 0.],\n",
       "        [0., 0., 0., 0., 0.],\n",
       "        [0., 0., 0., 0., 0.],\n",
       "        [0., 0., 0., 0., 0.]],\n",
       "\n",
       "       [[0., 0., 0., 0., 0.],\n",
       "        [0., 0., 0., 0., 0.],\n",
       "        [0., 0., 0., 0., 0.],\n",
       "        [0., 0., 0., 0., 0.]],\n",
       "\n",
       "       [[0., 0., 0., 0., 0.],\n",
       "        [0., 0., 0., 0., 0.],\n",
       "        [0., 0., 0., 0., 0.],\n",
       "        [0., 0., 0., 0., 0.]]])"
      ]
     },
     "execution_count": 5,
     "metadata": {},
     "output_type": "execute_result"
    }
   ],
   "source": [
    "np.zeros((3,4,5))"
   ]
  },
  {
   "cell_type": "code",
   "execution_count": 6,
   "id": "ac1e62bd",
   "metadata": {},
   "outputs": [
    {
     "data": {
      "text/plain": [
       "array([1., 1., 1., 1., 1.])"
      ]
     },
     "execution_count": 6,
     "metadata": {},
     "output_type": "execute_result"
    }
   ],
   "source": [
    "np.ones(5)"
   ]
  },
  {
   "cell_type": "code",
   "execution_count": 8,
   "id": "61981312",
   "metadata": {},
   "outputs": [
    {
     "data": {
      "text/plain": [
       "array([[[1., 1., 1., 1., 1., 1.],\n",
       "        [1., 1., 1., 1., 1., 1.],\n",
       "        [1., 1., 1., 1., 1., 1.],\n",
       "        [1., 1., 1., 1., 1., 1.],\n",
       "        [1., 1., 1., 1., 1., 1.]],\n",
       "\n",
       "       [[1., 1., 1., 1., 1., 1.],\n",
       "        [1., 1., 1., 1., 1., 1.],\n",
       "        [1., 1., 1., 1., 1., 1.],\n",
       "        [1., 1., 1., 1., 1., 1.],\n",
       "        [1., 1., 1., 1., 1., 1.]],\n",
       "\n",
       "       [[1., 1., 1., 1., 1., 1.],\n",
       "        [1., 1., 1., 1., 1., 1.],\n",
       "        [1., 1., 1., 1., 1., 1.],\n",
       "        [1., 1., 1., 1., 1., 1.],\n",
       "        [1., 1., 1., 1., 1., 1.]],\n",
       "\n",
       "       [[1., 1., 1., 1., 1., 1.],\n",
       "        [1., 1., 1., 1., 1., 1.],\n",
       "        [1., 1., 1., 1., 1., 1.],\n",
       "        [1., 1., 1., 1., 1., 1.],\n",
       "        [1., 1., 1., 1., 1., 1.]]])"
      ]
     },
     "execution_count": 8,
     "metadata": {},
     "output_type": "execute_result"
    }
   ],
   "source": [
    "np.ones((4,5,6))"
   ]
  },
  {
   "cell_type": "code",
   "execution_count": 5,
   "id": "d75823c2",
   "metadata": {},
   "outputs": [
    {
     "data": {
      "text/plain": [
       "array([[5., 5., 5., 5.],\n",
       "       [5., 5., 5., 5.],\n",
       "       [5., 5., 5., 5.]])"
      ]
     },
     "execution_count": 5,
     "metadata": {},
     "output_type": "execute_result"
    }
   ],
   "source": [
    "5+np.zeros((3,4))"
   ]
  },
  {
   "cell_type": "code",
   "execution_count": 7,
   "id": "de38d305",
   "metadata": {},
   "outputs": [
    {
     "data": {
      "text/plain": [
       "array([[6.23042070e-307, 4.67296746e-307, 1.69121096e-306,\n",
       "        1.06810200e-306, 9.34601642e-307],\n",
       "       [7.56581472e-307, 1.60218491e-306, 1.42413555e-306,\n",
       "        1.78019082e-306, 1.37960147e-306],\n",
       "       [1.33511562e-306, 2.22518251e-306, 1.33511969e-306,\n",
       "        1.78022342e-306, 1.05700345e-307],\n",
       "       [1.11261502e-306, 1.42410839e-306, 7.56597770e-307,\n",
       "        6.23059726e-307, 1.42419530e-306]])"
      ]
     },
     "execution_count": 7,
     "metadata": {},
     "output_type": "execute_result"
    }
   ],
   "source": [
    "np.empty((4,5))"
   ]
  },
  {
   "cell_type": "code",
   "execution_count": 8,
   "id": "89dd2d56",
   "metadata": {},
   "outputs": [
    {
     "data": {
      "text/plain": [
       "array([[[ 0.00000000e+000,  6.95290381e-310],\n",
       "        [ 1.45255300e-321,              nan],\n",
       "        [ 7.58328320e-302,  2.67674880e-297],\n",
       "        [ 3.01331943e-282,  2.04560526e-277],\n",
       "        [ 2.88217829e+002,  2.13451447e-287]],\n",
       "\n",
       "       [[ 2.78286850e-307,  2.85163880e-210],\n",
       "        [ 2.13451447e-287,  1.64294084e-287],\n",
       "        [ 3.01288598e-282,  3.01628619e-282],\n",
       "        [ 5.11783286e-307, -1.48541028e-065],\n",
       "        [ 1.54303069e-065, -1.26967865e-277]],\n",
       "\n",
       "       [[ 2.49499309e-306,  3.38553712e-301],\n",
       "        [ 4.62706591e-273,  5.11767330e-307],\n",
       "        [ 1.38774107e-272,  1.38774107e-272],\n",
       "        [ 1.10830327e-253,  1.39069238e-309],\n",
       "        [ 1.75380122e-292,  1.07190753e-296]],\n",
       "\n",
       "       [[ 5.72844698e-263,  4.68710690e-243],\n",
       "        [ 3.41529431e-291,  1.67548547e-309],\n",
       "        [ 2.50642605e-292,  1.78438593e-306],\n",
       "        [ 3.48069273e-308,  2.58046969e-263],\n",
       "        [ 1.39909626e-309,  1.30082730e-258]]])"
      ]
     },
     "execution_count": 8,
     "metadata": {},
     "output_type": "execute_result"
    }
   ],
   "source": [
    "np.empty((4,5,2))"
   ]
  },
  {
   "cell_type": "code",
   "execution_count": 2,
   "id": "a993b483",
   "metadata": {},
   "outputs": [
    {
     "data": {
      "text/plain": [
       "array([[[6.95290916e-310, 6.95290916e-310],\n",
       "        [6.95290916e-310, 0.00000000e+000],\n",
       "        [0.00000000e+000, 0.00000000e+000],\n",
       "        [0.00000000e+000, 0.00000000e+000]],\n",
       "\n",
       "       [[0.00000000e+000, 0.00000000e+000],\n",
       "        [0.00000000e+000, 0.00000000e+000],\n",
       "        [0.00000000e+000, 0.00000000e+000],\n",
       "        [0.00000000e+000, 0.00000000e+000]],\n",
       "\n",
       "       [[0.00000000e+000, 0.00000000e+000],\n",
       "        [0.00000000e+000, 0.00000000e+000],\n",
       "        [0.00000000e+000, 0.00000000e+000],\n",
       "        [0.00000000e+000, 0.00000000e+000]],\n",
       "\n",
       "       [[0.00000000e+000, 0.00000000e+000],\n",
       "        [0.00000000e+000, 0.00000000e+000],\n",
       "        [0.00000000e+000, 0.00000000e+000],\n",
       "        [0.00000000e+000, 0.00000000e+000]],\n",
       "\n",
       "       [[0.00000000e+000, 0.00000000e+000],\n",
       "        [0.00000000e+000, 0.00000000e+000],\n",
       "        [0.00000000e+000, 0.00000000e+000],\n",
       "        [0.00000000e+000, 0.00000000e+000]]])"
      ]
     },
     "execution_count": 2,
     "metadata": {},
     "output_type": "execute_result"
    }
   ],
   "source": [
    "np.empty((5,4,2))"
   ]
  },
  {
   "cell_type": "code",
   "execution_count": 5,
   "id": "60f87b0e",
   "metadata": {},
   "outputs": [
    {
     "data": {
      "text/plain": [
       "array([2.        , 2.44444444, 2.88888889, 3.33333333, 3.77777778,\n",
       "       4.22222222, 4.66666667, 5.11111111, 5.55555556, 6.        ])"
      ]
     },
     "execution_count": 5,
     "metadata": {},
     "output_type": "execute_result"
    }
   ],
   "source": [
    "np.linspace(2,6, 10) # start number and end number it gives number in between them"
   ]
  },
  {
   "cell_type": "code",
   "execution_count": 6,
   "id": "163bbad2",
   "metadata": {},
   "outputs": [
    {
     "data": {
      "text/plain": [
       "array([2.        , 2.04040404, 2.08080808, 2.12121212, 2.16161616,\n",
       "       2.2020202 , 2.24242424, 2.28282828, 2.32323232, 2.36363636,\n",
       "       2.4040404 , 2.44444444, 2.48484848, 2.52525253, 2.56565657,\n",
       "       2.60606061, 2.64646465, 2.68686869, 2.72727273, 2.76767677,\n",
       "       2.80808081, 2.84848485, 2.88888889, 2.92929293, 2.96969697,\n",
       "       3.01010101, 3.05050505, 3.09090909, 3.13131313, 3.17171717,\n",
       "       3.21212121, 3.25252525, 3.29292929, 3.33333333, 3.37373737,\n",
       "       3.41414141, 3.45454545, 3.49494949, 3.53535354, 3.57575758,\n",
       "       3.61616162, 3.65656566, 3.6969697 , 3.73737374, 3.77777778,\n",
       "       3.81818182, 3.85858586, 3.8989899 , 3.93939394, 3.97979798,\n",
       "       4.02020202, 4.06060606, 4.1010101 , 4.14141414, 4.18181818,\n",
       "       4.22222222, 4.26262626, 4.3030303 , 4.34343434, 4.38383838,\n",
       "       4.42424242, 4.46464646, 4.50505051, 4.54545455, 4.58585859,\n",
       "       4.62626263, 4.66666667, 4.70707071, 4.74747475, 4.78787879,\n",
       "       4.82828283, 4.86868687, 4.90909091, 4.94949495, 4.98989899,\n",
       "       5.03030303, 5.07070707, 5.11111111, 5.15151515, 5.19191919,\n",
       "       5.23232323, 5.27272727, 5.31313131, 5.35353535, 5.39393939,\n",
       "       5.43434343, 5.47474747, 5.51515152, 5.55555556, 5.5959596 ,\n",
       "       5.63636364, 5.67676768, 5.71717172, 5.75757576, 5.7979798 ,\n",
       "       5.83838384, 5.87878788, 5.91919192, 5.95959596, 6.        ])"
      ]
     },
     "execution_count": 6,
     "metadata": {},
     "output_type": "execute_result"
    }
   ],
   "source": [
    "np.linspace(2,6, 100)"
   ]
  },
  {
   "cell_type": "code",
   "execution_count": 12,
   "id": "1dd92a98",
   "metadata": {},
   "outputs": [
    {
     "data": {
      "text/plain": [
       "array([[2. , 2.4],\n",
       "       [2.8, 3.2],\n",
       "       [3.6, 4. ],\n",
       "       [4.4, 4.8],\n",
       "       [5.2, 5.6]])"
      ]
     },
     "execution_count": 12,
     "metadata": {},
     "output_type": "execute_result"
    }
   ],
   "source": [
    "np.linspace(2,6, 10,endpoint=False).reshape(5,2) # it will not consider number 6"
   ]
  },
  {
   "cell_type": "code",
   "execution_count": 14,
   "id": "9ed64cca",
   "metadata": {},
   "outputs": [
    {
     "data": {
      "text/plain": [
       "(array([2. , 2.4, 2.8, 3.2, 3.6, 4. , 4.4, 4.8, 5.2, 5.6]), 0.4)"
      ]
     },
     "execution_count": 14,
     "metadata": {},
     "output_type": "execute_result"
    }
   ],
   "source": [
    "np.linspace(2,6, 10,endpoint=False, retstep=True) # it will not consider number 6"
   ]
  },
  {
   "cell_type": "code",
   "execution_count": 16,
   "id": "c421efbf",
   "metadata": {},
   "outputs": [
    {
     "data": {
      "text/plain": [
       "array([  100.        ,   166.81005372,   278.25594022,   464.15888336,\n",
       "         774.26368268,  1291.54966501,  2154.43469003,  3593.8136638 ,\n",
       "        5994.84250319, 10000.        ])"
      ]
     },
     "execution_count": 16,
     "metadata": {},
     "output_type": "execute_result"
    }
   ],
   "source": [
    "np.logspace(2,4,10, base=10)"
   ]
  },
  {
   "cell_type": "code",
   "execution_count": 3,
   "id": "4dfee664",
   "metadata": {},
   "outputs": [],
   "source": [
    "a = np.arange(16).reshape(4,4)"
   ]
  },
  {
   "cell_type": "code",
   "execution_count": 4,
   "id": "a277fa8b",
   "metadata": {},
   "outputs": [
    {
     "data": {
      "text/plain": [
       "array([[ 0,  1,  2,  3],\n",
       "       [ 4,  5,  6,  7],\n",
       "       [ 8,  9, 10, 11],\n",
       "       [12, 13, 14, 15]])"
      ]
     },
     "execution_count": 4,
     "metadata": {},
     "output_type": "execute_result"
    }
   ],
   "source": [
    "a"
   ]
  },
  {
   "cell_type": "code",
   "execution_count": 5,
   "id": "4f891af9",
   "metadata": {},
   "outputs": [
    {
     "data": {
      "text/plain": [
       "15"
      ]
     },
     "execution_count": 5,
     "metadata": {},
     "output_type": "execute_result"
    }
   ],
   "source": [
    "a.max()"
   ]
  },
  {
   "cell_type": "code",
   "execution_count": 6,
   "id": "cedce684",
   "metadata": {},
   "outputs": [
    {
     "data": {
      "text/plain": [
       "0"
      ]
     },
     "execution_count": 6,
     "metadata": {},
     "output_type": "execute_result"
    }
   ],
   "source": [
    "a.min()"
   ]
  },
  {
   "cell_type": "code",
   "execution_count": null,
   "id": "61609c11",
   "metadata": {},
   "outputs": [],
   "source": []
  }
 ],
 "metadata": {
  "kernelspec": {
   "display_name": "Python 3 (ipykernel)",
   "language": "python",
   "name": "python3"
  },
  "language_info": {
   "codemirror_mode": {
    "name": "ipython",
    "version": 3
   },
   "file_extension": ".py",
   "mimetype": "text/x-python",
   "name": "python",
   "nbconvert_exporter": "python",
   "pygments_lexer": "ipython3",
   "version": "3.9.12"
  }
 },
 "nbformat": 4,
 "nbformat_minor": 5
}
