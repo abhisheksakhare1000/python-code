{
 "cells": [
  {
   "cell_type": "code",
   "execution_count": 8,
   "id": "355b703a-d4af-45a7-87b8-f9c3f301f6e4",
   "metadata": {},
   "outputs": [],
   "source": [
    "class car:\n",
    "    def __init__(self, body_type, engine):\n",
    "        self.body_type = body_type\n",
    "        self.engine = engine\n",
    "    def test(self):# convention \n",
    "        print(\"This is function insdie the class\")\n",
    "        # self is pointing"
   ]
  },
  {
   "cell_type": "code",
   "execution_count": 9,
   "id": "f8bc5539-baf9-4e04-90ca-55af33de1025",
   "metadata": {},
   "outputs": [],
   "source": [
    "nexon = car(\"33445\",\"3454\")"
   ]
  },
  {
   "cell_type": "code",
   "execution_count": 10,
   "id": "8b70be49-866e-4d4b-bb22-2ecbb5632b00",
   "metadata": {},
   "outputs": [
    {
     "name": "stdout",
     "output_type": "stream",
     "text": [
      "This is function insdie the class\n"
     ]
    }
   ],
   "source": [
    "nexon.test()"
   ]
  },
  {
   "cell_type": "code",
   "execution_count": 11,
   "id": "ba9f250f-9970-47aa-adbf-17954cd3606d",
   "metadata": {},
   "outputs": [],
   "source": [
    " class list_parser:\n",
    "        def parser(self, a):\n",
    "            if type(a) == list:\n",
    "                for i in a :\n",
    "                    print(i)\n",
    "        def reverse_list(self,a):\n",
    "            if type(a) == list:\n",
    "                return a[::-1]"
   ]
  },
  {
   "cell_type": "code",
   "execution_count": 12,
   "id": "3182dcaa-c71f-4e66-91fd-81b2e150cdcd",
   "metadata": {},
   "outputs": [
    {
     "name": "stdout",
     "output_type": "stream",
     "text": [
      "4\n",
      "44\n",
      "4\n",
      "5\n",
      "5\n",
      "6\n"
     ]
    },
    {
     "data": {
      "text/plain": [
       "[5, 3, 3, 3, 4, 4, 3, 34]"
      ]
     },
     "execution_count": 12,
     "metadata": {},
     "output_type": "execute_result"
    }
   ],
   "source": [
    "x = list_parser()\n",
    "x.parser([4,44,4,5,5,6])\n",
    "x.reverse_list([34,3,4,4,3,3,3,5])"
   ]
  },
  {
   "cell_type": "code",
   "execution_count": 13,
   "id": "b0d943a6-aac7-4cd3-ba9b-3125097bb2c9",
   "metadata": {},
   "outputs": [],
   "source": [
    " #access varible inside the class\n",
    "class list_parser:\n",
    "        def __init__(self,l):\n",
    "            self.l=l\n",
    "        def parser(self):\n",
    "            if type(self.l) == list:\n",
    "                for i in self.l :\n",
    "                    print(i)\n",
    "        def reverse_list(self):\n",
    "            if type(self.l) == list:\n",
    "                return self.l[::-1]"
   ]
  },
  {
   "cell_type": "code",
   "execution_count": 14,
   "id": "b2c644c1-1622-44c0-8cab-c7668067e527",
   "metadata": {},
   "outputs": [],
   "source": [
    "x = list_parser([4,4,4,4,56,6,5,4])"
   ]
  },
  {
   "cell_type": "code",
   "execution_count": 15,
   "id": "fc81d858-08e5-4ef1-b18f-c3f64a4d4bed",
   "metadata": {},
   "outputs": [
    {
     "data": {
      "text/plain": [
       "[4, 5, 6, 56, 4, 4, 4, 4]"
      ]
     },
     "execution_count": 15,
     "metadata": {},
     "output_type": "execute_result"
    }
   ],
   "source": [
    "x.reverse_list()"
   ]
  },
  {
   "cell_type": "code",
   "execution_count": 16,
   "id": "1c9c25a9-25ba-4847-9bd9-5aa642f46f3e",
   "metadata": {},
   "outputs": [],
   "source": [
    "class dict:\n",
    "   \n",
    "    def getkey(self,a):\n",
    "        if type(a) == dict:\n",
    "            return list(self.a.keys())\n",
    "        \n",
    "        \n",
    "    \n",
    "            \n",
    "        "
   ]
  },
  {
   "cell_type": "code",
   "execution_count": 17,
   "id": "32479707-dcfa-4698-91c6-1272738b37bf",
   "metadata": {},
   "outputs": [],
   "source": [
    "x = dict()"
   ]
  },
  {
   "cell_type": "code",
   "execution_count": 18,
   "id": "2b6f8375-2cba-473e-9779-9b02fff2be79",
   "metadata": {},
   "outputs": [],
   "source": [
    "x = x.getkey({\"\":\"334\",\"a\":\"345\"})"
   ]
  },
  {
   "cell_type": "code",
   "execution_count": 19,
   "id": "73ff7258-0010-43c6-a5a8-9134a70c70e4",
   "metadata": {},
   "outputs": [],
   "source": [
    "     # Create a class for dictonary parasing\n",
    "    #  wwrite function to give all keys\n",
    "    # write function to throw exception in case of input is not dictionary\n",
    "    #write function  to take user input and then parse a key and value out of dictionay\n",
    "    #write function to insert new key value pair into dictonart"
   ]
  },
  {
   "cell_type": "code",
   "execution_count": 94,
   "id": "a63b570c-133d-458f-a659-00b24ddd4979",
   "metadata": {},
   "outputs": [],
   "source": [
    "class dict_parse:\n",
    "    def __init__(self,d):\n",
    "        self.d = d\n",
    "    def key_dict(self):\n",
    "        for i in self.d.keys():\n",
    "            print(i)\n",
    "    def value_dict(self):\n",
    "        for i in self.d.values():\n",
    "            print(i)\n",
    "    def dict_check():\n",
    "        if type(d)!=dict:\n",
    "            raise Exception (\"input is invalid\")\n",
    "    def userinput(self):\n",
    "        self.d = eval(input())\n",
    "        print(self.d, type(self.d))\n",
    "        print(self.getkeys())\n",
    "        print(self.getvalues())\n",
    "    \n",
    "    def insertion(self, key,value):\n",
    "        self.d[key] = value\n",
    "        return self.d\n",
    "            \n",
    "        "
   ]
  },
  {
   "cell_type": "code",
   "execution_count": 95,
   "id": "ce96c3c5-9e8d-49cc-8931-def69a1f9a7c",
   "metadata": {},
   "outputs": [],
   "source": [
    "d= dict_parse({\"k1\": \"abhi\", \"k2\" : \"sakhare\"})"
   ]
  },
  {
   "cell_type": "code",
   "execution_count": 96,
   "id": "4068c4a1-2f99-49d6-98fd-c28864cf90f0",
   "metadata": {},
   "outputs": [
    {
     "name": "stdout",
     "output_type": "stream",
     "text": [
      "k1\n",
      "k2\n"
     ]
    }
   ],
   "source": [
    "d.key_dict()"
   ]
  },
  {
   "cell_type": "code",
   "execution_count": 97,
   "id": "9912ad6a-16b9-44d4-a9bd-08b7f8585f52",
   "metadata": {},
   "outputs": [
    {
     "name": "stdout",
     "output_type": "stream",
     "text": [
      "abhi\n",
      "sakhare\n"
     ]
    }
   ],
   "source": [
    "d.value_dict()"
   ]
  },
  {
   "cell_type": "code",
   "execution_count": 98,
   "id": "8028b821-fbae-4793-8cd2-96a651a03dbb",
   "metadata": {},
   "outputs": [
    {
     "name": "stdin",
     "output_type": "stream",
     "text": [
      " {\"4\":\"dgg\"}\n"
     ]
    },
    {
     "name": "stdout",
     "output_type": "stream",
     "text": [
      "{'4': 'dgg'} <class 'dict'>\n"
     ]
    },
    {
     "ename": "AttributeError",
     "evalue": "'dict_parse' object has no attribute 'getkeys'",
     "output_type": "error",
     "traceback": [
      "\u001b[0;31m---------------------------------------------------------------------------\u001b[0m",
      "\u001b[0;31mAttributeError\u001b[0m                            Traceback (most recent call last)",
      "Cell \u001b[0;32mIn [98], line 1\u001b[0m\n\u001b[0;32m----> 1\u001b[0m \u001b[43md\u001b[49m\u001b[38;5;241;43m.\u001b[39;49m\u001b[43muserinput\u001b[49m\u001b[43m(\u001b[49m\u001b[43m)\u001b[49m\n",
      "Cell \u001b[0;32mIn [94], line 16\u001b[0m, in \u001b[0;36mdict_parse.userinput\u001b[0;34m(self)\u001b[0m\n\u001b[1;32m     14\u001b[0m \u001b[38;5;28mself\u001b[39m\u001b[38;5;241m.\u001b[39md \u001b[38;5;241m=\u001b[39m \u001b[38;5;28meval\u001b[39m(\u001b[38;5;28minput\u001b[39m())\n\u001b[1;32m     15\u001b[0m \u001b[38;5;28mprint\u001b[39m(\u001b[38;5;28mself\u001b[39m\u001b[38;5;241m.\u001b[39md, \u001b[38;5;28mtype\u001b[39m(\u001b[38;5;28mself\u001b[39m\u001b[38;5;241m.\u001b[39md))\n\u001b[0;32m---> 16\u001b[0m \u001b[38;5;28mprint\u001b[39m(\u001b[38;5;28;43mself\u001b[39;49m\u001b[38;5;241;43m.\u001b[39;49m\u001b[43mgetkeys\u001b[49m())\n\u001b[1;32m     17\u001b[0m \u001b[38;5;28mprint\u001b[39m(\u001b[38;5;28mself\u001b[39m\u001b[38;5;241m.\u001b[39mgetvalues())\n",
      "\u001b[0;31mAttributeError\u001b[0m: 'dict_parse' object has no attribute 'getkeys'"
     ]
    }
   ],
   "source": [
    "\n",
    "d.userinput()"
   ]
  },
  {
   "cell_type": "code",
   "execution_count": 99,
   "id": "0f596aa2-e288-4251-811f-55e6befb9e21",
   "metadata": {},
   "outputs": [
    {
     "name": "stdin",
     "output_type": "stream",
     "text": [
      " 3\n",
      " fddf\n"
     ]
    },
    {
     "data": {
      "text/plain": [
       "{'4': 'dgg', 3: 'fddf'}"
      ]
     },
     "execution_count": 99,
     "metadata": {},
     "output_type": "execute_result"
    }
   ],
   "source": [
    "key = int(input())\n",
    "value = input()\n",
    "d.insertion(key,value)"
   ]
  },
  {
   "cell_type": "code",
   "execution_count": null,
   "id": "fe23ace4-fa5e-45c0-93a1-4a52f0c8adef",
   "metadata": {},
   "outputs": [],
   "source": [
    "open(\"mydicy.py\" , \"w\")"
   ]
  }
 ],
 "metadata": {
  "kernelspec": {
   "display_name": "Python 3 (ipykernel)",
   "language": "python",
   "name": "python3"
  },
  "language_info": {
   "codemirror_mode": {
    "name": "ipython",
    "version": 3
   },
   "file_extension": ".py",
   "mimetype": "text/x-python",
   "name": "python",
   "nbconvert_exporter": "python",
   "pygments_lexer": "ipython3",
   "version": "3.10.6"
  }
 },
 "nbformat": 4,
 "nbformat_minor": 5
}
