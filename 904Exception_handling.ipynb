{
 "cells": [
  {
   "cell_type": "code",
   "execution_count": 1,
   "id": "3bed553f-59ca-4e75-b777-9adae99a1d70",
   "metadata": {},
   "outputs": [
    {
     "name": "stdout",
     "output_type": "stream",
     "text": [
      "except block executed\n"
     ]
    }
   ],
   "source": [
    "try: \n",
    "    f = open(\"test3.txt\", \"r\")\n",
    "    f.write(\"dfd\")\n",
    "except:\n",
    "    print(\"except block executed\")\n",
    "    "
   ]
  },
  {
   "cell_type": "code",
   "execution_count": 2,
   "id": "261a7ba8-4c2d-4e50-9de9-26277eda9d56",
   "metadata": {},
   "outputs": [
    {
     "name": "stdout",
     "output_type": "stream",
     "text": [
      "not writable\n"
     ]
    }
   ],
   "source": [
    "try: \n",
    "    f = open(\"test3.txt\", \"r\")\n",
    "    f.write(\"dfd\")\n",
    "except Exception as e: # exception is class \n",
    "    print(e)\n",
    "    "
   ]
  },
  {
   "cell_type": "code",
   "execution_count": 3,
   "id": "e0ddb74b-a916-46ae-977d-61312809dcf2",
   "metadata": {},
   "outputs": [
    {
     "name": "stdin",
     "output_type": "stream",
     "text": [
      " 33\n"
     ]
    },
    {
     "name": "stdout",
     "output_type": "stream",
     "text": [
      "not writable\n"
     ]
    }
   ],
   "source": [
    "try :\n",
    "    a = int(input())\n",
    "    f = open(\"test3.txt\", \"r\")\n",
    "    f.write(\"dfd\")\n",
    "except Exception as e:\n",
    "    print(e)\n",
    "except ValueError as v:\n",
    "    print(v)\n",
    "except FileNotFoundError as f:\n",
    "    print(f)"
   ]
  },
  {
   "cell_type": "code",
   "execution_count": 65,
   "id": "9c0e02fa-d91f-459a-a30c-e9cf8bf50eaa",
   "metadata": {},
   "outputs": [
    {
     "name": "stdin",
     "output_type": "stream",
     "text": [
      " 55\n"
     ]
    }
   ],
   "source": [
    "try :\n",
    "    a = int(input())\n",
    "    f = open(\"test3.txt\", \"w\")\n",
    "    f.write(\"dfd\")\n",
    "except ValueError as v:\n",
    "    print(v)\n",
    "except FileNotFoundError as f:\n",
    "    print(f)\n",
    "except Exception as e:\n",
    "    print(e)\n",
    "    "
   ]
  },
  {
   "cell_type": "code",
   "execution_count": 69,
   "id": "ee10953d-5bfd-46fd-9063-d5eec1123d83",
   "metadata": {},
   "outputs": [
    {
     "name": "stdout",
     "output_type": "stream",
     "text": [
      "try block exhecuted successfully\n"
     ]
    }
   ],
   "source": [
    "try :\n",
    "    f =open(\"test.txt\", \"w\")\n",
    "except:\n",
    "    print(\"Error occured\")\n",
    "else:# else block executes when try block exhecuted successfully\n",
    "    print(\"try block exhecuted successfully\")\n",
    "    "
   ]
  },
  {
   "cell_type": "code",
   "execution_count": 75,
   "id": "31dfbd4b-7c8c-4e58-96f1-1d42491e9c65",
   "metadata": {},
   "outputs": [
    {
     "name": "stdout",
     "output_type": "stream",
     "text": [
      "try block exhecuted successfully\n",
      "this block exhecute for sure\n"
     ]
    },
    {
     "name": "stdin",
     "output_type": "stream",
     "text": [
      " 5\n"
     ]
    }
   ],
   "source": [
    "try :\n",
    "    f =open(\"test.txt\", \"w\")\n",
    "except:\n",
    "    print(\"Error occured\")\n",
    "else:# else block executes when try block exhecuted successfully\n",
    "    print(\"try block exhecuted successfully\")\n",
    "finally:\n",
    "    print(\"this block exhecute for sure\")\n",
    "   "
   ]
  },
  {
   "cell_type": "code",
   "execution_count": 6,
   "id": "c5a8b970-8709-4f44-84b7-95cbe182a7e8",
   "metadata": {},
   "outputs": [],
   "source": [
    "#ask interger from user again and again untill user is not giving integer\n",
    "def fun():\n",
    "    try:\n",
    "        a = int(input())\n",
    "    except:\n",
    "        print(\"Please enter the interger\")\n",
    "        fun()"
   ]
  },
  {
   "cell_type": "code",
   "execution_count": 7,
   "id": "636aa513-02e9-4686-8a83-c01be0263467",
   "metadata": {},
   "outputs": [
    {
     "name": "stdout",
     "output_type": "stream",
     "text": [
      "Enter the number\n"
     ]
    },
    {
     "name": "stdin",
     "output_type": "stream",
     "text": [
      " d\n"
     ]
    },
    {
     "name": "stdout",
     "output_type": "stream",
     "text": [
      "Please enter the interger\n"
     ]
    },
    {
     "name": "stdin",
     "output_type": "stream",
     "text": [
      " 3\n"
     ]
    }
   ],
   "source": [
    "print(\"Enter the number\")\n",
    "fun()"
   ]
  },
  {
   "cell_type": "code",
   "execution_count": 81,
   "id": "09cdd518-d554-4e7a-8118-fb92911142a3",
   "metadata": {},
   "outputs": [
    {
     "name": "stdin",
     "output_type": "stream",
     "text": [
      " 34\n"
     ]
    }
   ],
   "source": [
    "#ask interger from user again and again untill user is not giving integer\n",
    "def fun():\n",
    "    flag = True\n",
    "    while flag:\n",
    "        try:\n",
    "            a = int(input())\n",
    "            flag = False\n",
    "        except:\n",
    "            print(\"Please enter the interger\")\n",
    "            \n",
    "fun()    "
   ]
  },
  {
   "cell_type": "code",
   "execution_count": 12,
   "id": "b64dc002-f325-4429-a974-43426191c9fc",
   "metadata": {},
   "outputs": [],
   "source": [
    "def fun(a):\n",
    "    if a < 0 :\n",
    "        raise Exception(\"value is negative\") # to create own exception\n",
    "    return a\n"
   ]
  },
  {
   "cell_type": "code",
   "execution_count": 13,
   "id": "13c79d71-cb66-49f6-8d90-5c76ff07963e",
   "metadata": {},
   "outputs": [
    {
     "name": "stdin",
     "output_type": "stream",
     "text": [
      "2 -5\n"
     ]
    },
    {
     "ename": "Exception",
     "evalue": "value is negative",
     "output_type": "error",
     "traceback": [
      "\u001b[0;31m---------------------------------------------------------------------------\u001b[0m",
      "\u001b[0;31mException\u001b[0m                                 Traceback (most recent call last)",
      "Cell \u001b[0;32mIn [13], line 2\u001b[0m\n\u001b[1;32m      1\u001b[0m a \u001b[38;5;241m=\u001b[39m\u001b[38;5;28mint\u001b[39m(\u001b[38;5;28minput\u001b[39m(a))\n\u001b[0;32m----> 2\u001b[0m \u001b[43mfun\u001b[49m\u001b[43m(\u001b[49m\u001b[43ma\u001b[49m\u001b[43m)\u001b[49m\n",
      "Cell \u001b[0;32mIn [12], line 3\u001b[0m, in \u001b[0;36mfun\u001b[0;34m(a)\u001b[0m\n\u001b[1;32m      1\u001b[0m \u001b[38;5;28;01mdef\u001b[39;00m \u001b[38;5;21mfun\u001b[39m(a):\n\u001b[1;32m      2\u001b[0m     \u001b[38;5;28;01mif\u001b[39;00m a \u001b[38;5;241m<\u001b[39m \u001b[38;5;241m0\u001b[39m :\n\u001b[0;32m----> 3\u001b[0m         \u001b[38;5;28;01mraise\u001b[39;00m \u001b[38;5;167;01mException\u001b[39;00m(\u001b[38;5;124m\"\u001b[39m\u001b[38;5;124mvalue is negative\u001b[39m\u001b[38;5;124m\"\u001b[39m) \u001b[38;5;66;03m# to create own exception\u001b[39;00m\n\u001b[1;32m      4\u001b[0m     \u001b[38;5;28;01mreturn\u001b[39;00m a\n",
      "\u001b[0;31mException\u001b[0m: value is negative"
     ]
    }
   ],
   "source": [
    "a =int(input(a))\n",
    "fun(a)"
   ]
  },
  {
   "cell_type": "code",
   "execution_count": 84,
   "id": "1d6bf926-fac7-407b-86a7-689bc5c84083",
   "metadata": {},
   "outputs": [],
   "source": [
    "def test(a):\n",
    "    if a == \"abhi\":\n",
    "        raise ZeroDivisionError(\"you have entered integer\")\n",
    "    return a\n"
   ]
  },
  {
   "cell_type": "code",
   "execution_count": 85,
   "id": "d0e714d0-66cf-4f85-a7c2-00528ee01bc7",
   "metadata": {},
   "outputs": [
    {
     "name": "stdin",
     "output_type": "stream",
     "text": [
      " 4\n"
     ]
    }
   ],
   "source": [
    "try : \n",
    "    a = input()\n",
    "    test(a)\n",
    "    \n",
    "except Exception as e:\n",
    "    print(\"Calling my raised exception \", e)# we are writting own exception"
   ]
  },
  {
   "cell_type": "code",
   "execution_count": 53,
   "id": "528ef02e-f2d8-463c-8f16-c1aa34263c81",
   "metadata": {},
   "outputs": [],
   "source": [
    "import logging"
   ]
  },
  {
   "cell_type": "code",
   "execution_count": 54,
   "id": "a30c9e10-e621-49de-a90f-b18d0cfa4aef",
   "metadata": {},
   "outputs": [],
   "source": [
    "logging.basicConfig(filename = \"test.log\", level = logging.INFO)"
   ]
  },
  {
   "cell_type": "code",
   "execution_count": 55,
   "id": "5c8debe3-b556-49a2-b627-1832fa6d222e",
   "metadata": {},
   "outputs": [
    {
     "data": {
      "text/plain": [
       "'/home/jovyan/work/basic python'"
      ]
     },
     "execution_count": 55,
     "metadata": {},
     "output_type": "execute_result"
    }
   ],
   "source": [
    "pwd()"
   ]
  },
  {
   "cell_type": "code",
   "execution_count": 56,
   "id": "6fd781d4-a0ac-46e5-8491-18df447d8883",
   "metadata": {},
   "outputs": [],
   "source": [
    "logging.info(\"This is my info log\")"
   ]
  },
  {
   "cell_type": "code",
   "execution_count": 57,
   "id": "97093a0b-eaae-4552-adca-df91bda9a1e9",
   "metadata": {},
   "outputs": [],
   "source": [
    "logging.info(\"this is my info log\")\n",
    "logging.warning(\"this is my warning  log\")\n",
    "logging.error(\"this is my error log\")"
   ]
  },
  {
   "cell_type": "code",
   "execution_count": 59,
   "id": "cb5e8579-92b2-4c7b-8bcb-6e1054060444",
   "metadata": {},
   "outputs": [],
   "source": [
    "logging.shutdown()"
   ]
  },
  {
   "cell_type": "code",
   "execution_count": null,
   "id": "de4c10f3-e740-4844-b009-5246ebaa0a61",
   "metadata": {},
   "outputs": [],
   "source": []
  }
 ],
 "metadata": {
  "kernelspec": {
   "display_name": "Python 3 (ipykernel)",
   "language": "python",
   "name": "python3"
  },
  "language_info": {
   "codemirror_mode": {
    "name": "ipython",
    "version": 3
   },
   "file_extension": ".py",
   "mimetype": "text/x-python",
   "name": "python",
   "nbconvert_exporter": "python",
   "pygments_lexer": "ipython3",
   "version": "3.10.6"
  }
 },
 "nbformat": 4,
 "nbformat_minor": 5
}
