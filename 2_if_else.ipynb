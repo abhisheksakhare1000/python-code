{
 "cells": [
  {
   "cell_type": "code",
   "execution_count": 1,
   "id": "11923cda-821b-4b87-a7c2-064a4f39f311",
   "metadata": {},
   "outputs": [
    {
     "name": "stdout",
     "output_type": "stream",
     "text": [
      "lets revise previous class\n"
     ]
    }
   ],
   "source": [
    "\n",
    "class_start = True\n",
    "if class_start:\n",
    "    print(\"lets revise previous class\")"
   ]
  },
  {
   "cell_type": "code",
   "execution_count": 15,
   "id": "906b9a8f-0f1b-46de-92b4-1d779381e6e6",
   "metadata": {
    "collapsed": true,
    "jupyter": {
     "outputs_hidden": true
    },
    "tags": []
   },
   "outputs": [
    {
     "name": "stdin",
     "output_type": "stream",
     "text": [
      "yess or no 1\n"
     ]
    },
    {
     "name": "stdout",
     "output_type": "stream",
     "text": [
      "concentrate on studies\n"
     ]
    }
   ],
   "source": [
    "#logic operator:\n",
    "# and \n",
    "# or \n",
    "#not\n",
    "class_started = int(input(\"yess or no\"))\n",
    "\n",
    "if class_started:\n",
    "    print(\"concentrate on studies\")\n",
    "else:\n",
    "    print(\"dont study\")\n",
    "    "
   ]
  },
  {
   "cell_type": "code",
   "execution_count": 16,
   "id": "c68d781a-8a0a-47a8-9688-36b5e6d5a019",
   "metadata": {},
   "outputs": [
    {
     "name": "stdout",
     "output_type": "stream",
     "text": [
      "bad\n"
     ]
    }
   ],
   "source": [
    "# and operator\n",
    "veg = True\n",
    "salt = False\n",
    "if veg and salt :\n",
    "    print(\"good\")\n",
    "else:\n",
    "    print(\"bad\")"
   ]
  },
  {
   "cell_type": "code",
   "execution_count": 17,
   "id": "75e84c2e-dea5-435b-830f-2f15ca01dc94",
   "metadata": {},
   "outputs": [
    {
     "name": "stdout",
     "output_type": "stream",
     "text": [
      "good\n"
     ]
    }
   ],
   "source": [
    "# and operator\n",
    "veg = True\n",
    "salt = True\n",
    "if veg and salt :\n",
    "    print(\"good\")\n",
    "else:\n",
    "    print(\"bad\")"
   ]
  },
  {
   "cell_type": "code",
   "execution_count": 19,
   "id": "ba45f2dc-2924-4ca4-b125-7ea0da7d8f50",
   "metadata": {},
   "outputs": [
    {
     "name": "stdout",
     "output_type": "stream",
     "text": [
      "can't travel\n"
     ]
    }
   ],
   "source": [
    "# conditional or\n",
    "car = False\n",
    "bike = False\n",
    "if car or bike:\n",
    "    print(\"can travel\")\n",
    "else:\n",
    "    print(\"can't travel\")"
   ]
  },
  {
   "cell_type": "code",
   "execution_count": 21,
   "id": "2641af6b-5295-4551-95cb-054da79cd6fe",
   "metadata": {},
   "outputs": [],
   "source": [
    "#equality operators\n",
    "#is  | a is b  => | return True if a and b pointing to same object\n",
    "#is not | a is not b | return true if and and b do not points to same object\n",
    "#==  | a==b  a is equal to b\n",
    "#!= | a!=b |  a is not equal to b"
   ]
  },
  {
   "cell_type": "code",
   "execution_count": 24,
   "id": "45c0d760-5acc-4ea8-9e18-c70f721d5c6d",
   "metadata": {},
   "outputs": [
    {
     "name": "stdout",
     "output_type": "stream",
     "text": [
      "a and b are the same\n"
     ]
    }
   ],
   "source": [
    "# is\n",
    "a = 1\n",
    "b = 1\n",
    "if a is b:\n",
    "    print(\"a and b are the same\")\n",
    "else:\n",
    "    print(\"not same\")"
   ]
  },
  {
   "cell_type": "code",
   "execution_count": 27,
   "id": "2e1e4082-f6a3-4de6-863f-bb2e4be28e9e",
   "metadata": {},
   "outputs": [
    {
     "name": "stdout",
     "output_type": "stream",
     "text": [
      "a and b are the same\n"
     ]
    }
   ],
   "source": [
    "# is not\n",
    "a = 1\n",
    "b = 2\n",
    "if a is not b:\n",
    "    print(\"a and b are the same\")\n",
    "else:\n",
    "    print(\"not same\")"
   ]
  },
  {
   "cell_type": "code",
   "execution_count": 28,
   "id": "db485415-5080-4790-9bba-7d58cd771b0c",
   "metadata": {},
   "outputs": [],
   "source": [
    "# when using is  we also chaeck memory location\n"
   ]
  },
  {
   "cell_type": "code",
   "execution_count": 32,
   "id": "f950162e-c19a-4be4-94e2-4a9d94f735d2",
   "metadata": {},
   "outputs": [
    {
     "data": {
      "text/plain": [
       "'spamspamspam'"
      ]
     },
     "execution_count": 32,
     "metadata": {},
     "output_type": "execute_result"
    }
   ],
   "source": [
    "'spam' + 'spamspam'\n",
    "\n"
   ]
  },
  {
   "cell_type": "code",
   "execution_count": 33,
   "id": "0641a581-190c-4acb-8754-b1f0fd3c8576",
   "metadata": {},
   "outputs": [
    {
     "ename": "TypeError",
     "evalue": "can only concatenate str (not \"int\") to str",
     "output_type": "error",
     "traceback": [
      "\u001b[0;31m---------------------------------------------------------------------------\u001b[0m",
      "\u001b[0;31mTypeError\u001b[0m                                 Traceback (most recent call last)",
      "Cell \u001b[0;32mIn [33], line 1\u001b[0m\n\u001b[0;32m----> 1\u001b[0m \u001b[38;5;124;43m'\u001b[39;49m\u001b[38;5;124;43mI have eaten \u001b[39;49m\u001b[38;5;124;43m'\u001b[39;49m\u001b[43m \u001b[49m\u001b[38;5;241;43m+\u001b[39;49m\u001b[43m \u001b[49m\u001b[38;5;241;43m99\u001b[39;49m \u001b[38;5;241m+\u001b[39m \u001b[38;5;124m'\u001b[39m\u001b[38;5;124m burritos.\u001b[39m\u001b[38;5;124m'\u001b[39m\n",
      "\u001b[0;31mTypeError\u001b[0m: can only concatenate str (not \"int\") to str"
     ]
    }
   ],
   "source": [
    "'I have eaten ' + 99 + ' burritos.'"
   ]
  },
  {
   "cell_type": "code",
   "execution_count": 34,
   "id": "be491ce1-a767-42e3-8ca4-d64411865584",
   "metadata": {},
   "outputs": [
    {
     "data": {
      "text/plain": [
       "'I have eaten 99 burritos.'"
      ]
     },
     "execution_count": 34,
     "metadata": {},
     "output_type": "execute_result"
    }
   ],
   "source": [
    "'I have eaten ' + \"99\" + ' burritos.'"
   ]
  },
  {
   "cell_type": "code",
   "execution_count": null,
   "id": "54fe0f3a-3921-4439-b0df-b6f964c3fb86",
   "metadata": {},
   "outputs": [],
   "source": []
  }
 ],
 "metadata": {
  "kernelspec": {
   "display_name": "Python 3 (ipykernel)",
   "language": "python",
   "name": "python3"
  },
  "language_info": {
   "codemirror_mode": {
    "name": "ipython",
    "version": 3
   },
   "file_extension": ".py",
   "mimetype": "text/x-python",
   "name": "python",
   "nbconvert_exporter": "python",
   "pygments_lexer": "ipython3",
   "version": "3.10.6"
  }
 },
 "nbformat": 4,
 "nbformat_minor": 5
}
