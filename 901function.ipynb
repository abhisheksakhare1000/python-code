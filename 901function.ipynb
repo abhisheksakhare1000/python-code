{
 "cells": [
  {
   "cell_type": "code",
   "execution_count": 10,
   "id": "ee2a205d-41af-45f2-a68e-d8ee4cdbb9e1",
   "metadata": {},
   "outputs": [],
   "source": [
    "def test1():\n",
    "    print(\"This is abhishek\")"
   ]
  },
  {
   "cell_type": "code",
   "execution_count": 11,
   "id": "2c7ecff7-b9c1-4fa3-bcb4-e354c0d2a22d",
   "metadata": {},
   "outputs": [
    {
     "name": "stdout",
     "output_type": "stream",
     "text": [
      "This is abhishek\n"
     ]
    },
    {
     "data": {
      "text/plain": [
       "NoneType"
      ]
     },
     "execution_count": 11,
     "metadata": {},
     "output_type": "execute_result"
    }
   ],
   "source": [
    "type(test1())"
   ]
  },
  {
   "cell_type": "code",
   "execution_count": 12,
   "id": "83e10fba-d33e-467f-ae19-6fa4c32576ad",
   "metadata": {},
   "outputs": [
    {
     "name": "stdout",
     "output_type": "stream",
     "text": [
      "This is abhishek\n"
     ]
    },
    {
     "ename": "TypeError",
     "evalue": "can only concatenate str (not \"NoneType\") to str",
     "output_type": "error",
     "traceback": [
      "\u001b[0;31m---------------------------------------------------------------------------\u001b[0m",
      "\u001b[0;31mTypeError\u001b[0m                                 Traceback (most recent call last)",
      "Cell \u001b[0;32mIn [12], line 1\u001b[0m\n\u001b[0;32m----> 1\u001b[0m \u001b[38;5;124;43m\"\u001b[39;49m\u001b[38;5;124;43ma\u001b[39;49m\u001b[38;5;124;43m\"\u001b[39;49m\u001b[43m \u001b[49m\u001b[38;5;241;43m+\u001b[39;49m\u001b[43m \u001b[49m\u001b[43mtest1\u001b[49m\u001b[43m(\u001b[49m\u001b[43m)\u001b[49m\n",
      "\u001b[0;31mTypeError\u001b[0m: can only concatenate str (not \"NoneType\") to str"
     ]
    }
   ],
   "source": [
    "\"a\" + test1() # it will give you error"
   ]
  },
  {
   "cell_type": "code",
   "execution_count": 13,
   "id": "933395f7-e355-40b8-aa8f-ed9254d815f8",
   "metadata": {},
   "outputs": [],
   "source": [
    "#if you want to concatenate then you have to return in function\n",
    "def test2():\n",
    "    return \"This is abhishek\""
   ]
  },
  {
   "cell_type": "code",
   "execution_count": 14,
   "id": "6c74fa17-0910-4b08-82e1-5d9a85f86514",
   "metadata": {},
   "outputs": [
    {
     "data": {
      "text/plain": [
       "str"
      ]
     },
     "execution_count": 14,
     "metadata": {},
     "output_type": "execute_result"
    }
   ],
   "source": [
    "type(test2())"
   ]
  },
  {
   "cell_type": "code",
   "execution_count": 15,
   "id": "e1ab1ae1-fef9-4a62-938e-37946208b103",
   "metadata": {},
   "outputs": [
    {
     "data": {
      "text/plain": [
       "'aThis is abhishek'"
      ]
     },
     "execution_count": 15,
     "metadata": {},
     "output_type": "execute_result"
    }
   ],
   "source": [
    "\"a\" + test2() #in this way it is possible"
   ]
  },
  {
   "cell_type": "code",
   "execution_count": 16,
   "id": "57d12de0-6701-410a-8ad2-12c3b4fb045b",
   "metadata": {},
   "outputs": [],
   "source": [
    "def test3():\n",
    "    return 1,\"abhishek\", [2,3,4,5,67]"
   ]
  },
  {
   "cell_type": "code",
   "execution_count": 17,
   "id": "d0427cac-171c-421b-bcc0-16d1481023a7",
   "metadata": {},
   "outputs": [],
   "source": [
    "#above output will be tuple\n",
    "x,y,z = test3()"
   ]
  },
  {
   "cell_type": "code",
   "execution_count": 18,
   "id": "57771524-fb57-4265-8758-63d57cb9f317",
   "metadata": {},
   "outputs": [
    {
     "data": {
      "text/plain": [
       "1"
      ]
     },
     "execution_count": 18,
     "metadata": {},
     "output_type": "execute_result"
    }
   ],
   "source": [
    "x"
   ]
  },
  {
   "cell_type": "code",
   "execution_count": 19,
   "id": "0edf704d-9efc-4806-9ad0-a0a8eb88e9fe",
   "metadata": {},
   "outputs": [
    {
     "data": {
      "text/plain": [
       "'abhishek'"
      ]
     },
     "execution_count": 19,
     "metadata": {},
     "output_type": "execute_result"
    }
   ],
   "source": [
    "y"
   ]
  },
  {
   "cell_type": "code",
   "execution_count": 20,
   "id": "6f499d09-8e2e-41e7-96b1-76e0e8b6a9d1",
   "metadata": {},
   "outputs": [
    {
     "data": {
      "text/plain": [
       "[2, 3, 4, 5, 67]"
      ]
     },
     "execution_count": 20,
     "metadata": {},
     "output_type": "execute_result"
    }
   ],
   "source": [
    "z"
   ]
  },
  {
   "cell_type": "code",
   "execution_count": 21,
   "id": "b80dd8d6-37d9-4771-af6f-64a0edffc6e3",
   "metadata": {},
   "outputs": [],
   "source": [
    "#write a function: i/p = list and and it will give only integers at output"
   ]
  },
  {
   "cell_type": "code",
   "execution_count": 22,
   "id": "9a7dfa0b-bef8-49f5-8d89-e88c4f99a8d9",
   "metadata": {},
   "outputs": [],
   "source": [
    "l = [2323,64,6,4,6,3 ,\"abhishek\", [3,4,5,5,5,5,]]\n",
    "def test4(l):\n",
    "    n = []\n",
    "    for i in l:\n",
    "        if type(i) == int:\n",
    "            n.append(i)\n",
    "        if type(i) == list :\n",
    "                for j in i:\n",
    "                    if type(j) == int:\n",
    "                        n.append(j)\n",
    "        \n",
    "    return n\n",
    "            \n",
    "    "
   ]
  },
  {
   "cell_type": "code",
   "execution_count": 23,
   "id": "8fa40ab5-2dc6-441a-89e9-14b1e79277c9",
   "metadata": {},
   "outputs": [
    {
     "data": {
      "text/plain": [
       "[2323, 64, 6, 4, 6, 3, 3, 4, 5, 5, 5, 5]"
      ]
     },
     "execution_count": 23,
     "metadata": {},
     "output_type": "execute_result"
    }
   ],
   "source": [
    "test4(l)"
   ]
  },
  {
   "cell_type": "code",
   "execution_count": 24,
   "id": "ccec931c-3051-44d9-990f-67b1eab512ca",
   "metadata": {},
   "outputs": [],
   "source": [
    "#write a code which will take dict as input and it will return keys as output"
   ]
  },
  {
   "cell_type": "code",
   "execution_count": 25,
   "id": "a338045c-4e55-4512-b0ab-7730a9d49936",
   "metadata": {},
   "outputs": [],
   "source": [
    "d = {2: \"343\", 4 :\"35\"}\n",
    "def test5(d):\n",
    "    if type(d) == dict:\n",
    "        return d.keys()\n",
    "    else:\n",
    "        return \"You have not passed dictonary\"\n"
   ]
  },
  {
   "cell_type": "code",
   "execution_count": 26,
   "id": "3721f403-7cf3-46c1-b667-8270533c1b2a",
   "metadata": {},
   "outputs": [
    {
     "data": {
      "text/plain": [
       "dict_keys([2, 4])"
      ]
     },
     "execution_count": 26,
     "metadata": {},
     "output_type": "execute_result"
    }
   ],
   "source": [
    "test5(d)"
   ]
  },
  {
   "cell_type": "code",
   "execution_count": 27,
   "id": "729fd6d6-cda4-43ac-9541-58d9fd332d37",
   "metadata": {},
   "outputs": [],
   "source": [
    "#write function which concatenate string"
   ]
  },
  {
   "cell_type": "code",
   "execution_count": 28,
   "id": "d0525cc7-d0cd-4707-b1cd-c2862d005ff7",
   "metadata": {},
   "outputs": [],
   "source": [
    "def test9(a,b):\n",
    "    if type(a) == list and type(b) == list:\n",
    "        return a.extend(b)\n",
    "    else:\n",
    "        return \"your data is not type of list\""
   ]
  },
  {
   "cell_type": "code",
   "execution_count": 29,
   "id": "52abb2b1-589d-4b8f-85e8-d25feaf40332",
   "metadata": {},
   "outputs": [],
   "source": [
    "a=test9([4,2,34,54,5,5],[2,5,5,6,78,8])"
   ]
  },
  {
   "cell_type": "code",
   "execution_count": 30,
   "id": "aa449845-4315-4e94-9e6d-1b1930dfe434",
   "metadata": {},
   "outputs": [],
   "source": [
    "a # you will not see output becoz we are giving input in run time so it is not storing"
   ]
  },
  {
   "cell_type": "code",
   "execution_count": 31,
   "id": "34d44e06-03d7-4959-acb5-01a566851578",
   "metadata": {},
   "outputs": [],
   "source": [
    "a = [5,5,6,4,3,54,6]\n",
    "b = [2,7,6,4,23,4,5,3]\n",
    "test9(a,b)"
   ]
  },
  {
   "cell_type": "code",
   "execution_count": 32,
   "id": "201c35a7-c814-425e-975b-4c08e187fec1",
   "metadata": {},
   "outputs": [
    {
     "data": {
      "text/plain": [
       "[5, 5, 6, 4, 3, 54, 6, 2, 7, 6, 4, 23, 4, 5, 3]"
      ]
     },
     "execution_count": 32,
     "metadata": {},
     "output_type": "execute_result"
    }
   ],
   "source": [
    "a"
   ]
  },
  {
   "cell_type": "code",
   "execution_count": 40,
   "id": "6d842b82-4b08-4f74-aeef-0e3c2cff266d",
   "metadata": {},
   "outputs": [],
   "source": [
    "# write a function for dot traingle by giving input\n",
    "def test10(n):\n",
    "    \"\"\"This function will help you to create traingle using * with any number\"\"\"\n",
    "    for i in range(0 , n+1):\n",
    "        for j in range(i):\n",
    "            print(\"*\", end = \" \" )\n",
    "        print(\"\\n\")"
   ]
  },
  {
   "cell_type": "code",
   "execution_count": 41,
   "id": "38b10bf2-d133-47c1-8d65-ecbd7f6496cc",
   "metadata": {},
   "outputs": [
    {
     "name": "stdin",
     "output_type": "stream",
     "text": [
      "integer input 5\n"
     ]
    },
    {
     "name": "stdout",
     "output_type": "stream",
     "text": [
      "\n",
      "\n",
      "* \n",
      "\n",
      "* * \n",
      "\n",
      "* * * \n",
      "\n",
      "* * * * \n",
      "\n",
      "* * * * * \n",
      "\n"
     ]
    }
   ],
   "source": [
    "test10(n)"
   ]
  },
  {
   "cell_type": "code",
   "execution_count": 42,
   "id": "b5fe6f1d-0e4e-4655-b126-f4e7ca64349a",
   "metadata": {},
   "outputs": [
    {
     "name": "stdout",
     "output_type": "stream",
     "text": [
      "Help on function test10 in module __main__:\n",
      "\n",
      "test10(n)\n",
      "    This function will help you to create traingle using *\n",
      "\n"
     ]
    }
   ],
   "source": [
    "help(test10)"
   ]
  },
  {
   "cell_type": "code",
   "execution_count": 43,
   "id": "e3fc0fcd-816d-4230-bac1-e24fb57cf198",
   "metadata": {},
   "outputs": [
    {
     "name": "stdout",
     "output_type": "stream",
     "text": [
      "\n",
      "\n",
      "* \n",
      "\n",
      "* * \n",
      "\n",
      "* * * \n",
      "\n",
      "* * * * \n",
      "\n",
      "* * * * * \n",
      "\n",
      "Help on NoneType object:\n",
      "\n",
      "class NoneType(object)\n",
      " |  Methods defined here:\n",
      " |  \n",
      " |  __bool__(self, /)\n",
      " |      True if self else False\n",
      " |  \n",
      " |  __repr__(self, /)\n",
      " |      Return repr(self).\n",
      " |  \n",
      " |  ----------------------------------------------------------------------\n",
      " |  Static methods defined here:\n",
      " |  \n",
      " |  __new__(*args, **kwargs) from builtins.type\n",
      " |      Create and return a new object.  See help(type) for accurate signature.\n",
      "\n"
     ]
    }
   ],
   "source": [
    "help(test10(n))"
   ]
  },
  {
   "cell_type": "code",
   "execution_count": null,
   "id": "4a22b704-33a7-4895-9471-16d3fdb71be1",
   "metadata": {},
   "outputs": [],
   "source": []
  }
 ],
 "metadata": {
  "kernelspec": {
   "display_name": "Python 3 (ipykernel)",
   "language": "python",
   "name": "python3"
  },
  "language_info": {
   "codemirror_mode": {
    "name": "ipython",
    "version": 3
   },
   "file_extension": ".py",
   "mimetype": "text/x-python",
   "name": "python",
   "nbconvert_exporter": "python",
   "pygments_lexer": "ipython3",
   "version": "3.10.6"
  }
 },
 "nbformat": 4,
 "nbformat_minor": 5
}
