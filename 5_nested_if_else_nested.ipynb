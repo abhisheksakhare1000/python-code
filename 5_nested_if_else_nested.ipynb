{
 "cells": [
  {
   "cell_type": "code",
   "execution_count": 10,
   "id": "f8f149ca-d16d-4db0-a032-7931c6a0332f",
   "metadata": {},
   "outputs": [
    {
     "name": "stdout",
     "output_type": "stream",
     "text": [
      "car total : 100\n",
      "Pay amount :90.0\n"
     ]
    }
   ],
   "source": [
    "total_amount = 100 \n",
    "print(f\"car total : {total_amount}\")\n",
    "if total_amount >1000:\n",
    "    price_after_discount = total_amount * 60/100 # 40 % discount\n",
    "    print(f\"Pay amount :{price_after_discount}\")\n",
    "elif 1000 <total_amount >900:\n",
    "    price_after_discount = total_amount * 70/100  # 30 % discount\n",
    "    print(f\"Pay amount :{price_after_discount}\")\n",
    "else:\n",
    "    price_after_discount = total_amount * 90/100  # 10 % discount\n",
    "    print(f\"Pay amount :{price_after_discount}\")"
   ]
  },
  {
   "cell_type": "code",
   "execution_count": 13,
   "id": "d4034eae-0ddb-4606-b7d9-52a621336770",
   "metadata": {},
   "outputs": [
    {
     "name": "stdin",
     "output_type": "stream",
     "text": [
      "enter the number 0\n"
     ]
    },
    {
     "name": "stdout",
     "output_type": "stream",
     "text": [
      "its zero number\n"
     ]
    }
   ],
   "source": [
    "#nested if else\n",
    "val = float(input(\"enter the number\"))\n",
    "if val >= 0:\n",
    "    if val == 0 :\n",
    "        print(\"its zero number\")\n",
    "    else:\n",
    "        print(\"number is not zero\")\n",
    "else:\n",
    "    print(\"Number is negative\")"
   ]
  },
  {
   "cell_type": "code",
   "execution_count": 14,
   "id": "9d29538c-3e92-47fb-86e2-eb6c4d314196",
   "metadata": {},
   "outputs": [
    {
     "name": "stdout",
     "output_type": "stream",
     "text": [
      "NO\n"
     ]
    }
   ],
   "source": [
    "# in one line\n",
    "val = 35\n",
    "print(\"Yes\" if val > 99 else \"NO\" ) "
   ]
  },
  {
   "cell_type": "code",
   "execution_count": null,
   "id": "b7cbf1c0-b305-4a36-84bc-5935eced7e9b",
   "metadata": {},
   "outputs": [],
   "source": []
  }
 ],
 "metadata": {
  "kernelspec": {
   "display_name": "Python 3 (ipykernel)",
   "language": "python",
   "name": "python3"
  },
  "language_info": {
   "codemirror_mode": {
    "name": "ipython",
    "version": 3
   },
   "file_extension": ".py",
   "mimetype": "text/x-python",
   "name": "python",
   "nbconvert_exporter": "python",
   "pygments_lexer": "ipython3",
   "version": "3.10.6"
  }
 },
 "nbformat": 4,
 "nbformat_minor": 5
}
