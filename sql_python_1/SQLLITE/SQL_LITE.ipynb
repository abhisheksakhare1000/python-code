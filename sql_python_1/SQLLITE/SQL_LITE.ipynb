{
 "cells": [
  {
   "cell_type": "code",
   "execution_count": 3,
   "id": "377343d6-b2eb-4c81-8600-736edb0b8930",
   "metadata": {},
   "outputs": [],
   "source": [
    "import sqlite3 # sql lite  : in memory database"
   ]
  },
  {
   "cell_type": "code",
   "execution_count": 2,
   "id": "42624ac5-4c48-4eed-ba3d-c76d6b87e1e4",
   "metadata": {},
   "outputs": [],
   "source": [
    "db = sqlite3.connect('sqlite.db') # create"
   ]
  },
  {
   "cell_type": "code",
   "execution_count": 9,
   "id": "1a2af409-9dd0-4a50-806e-9b609704f943",
   "metadata": {},
   "outputs": [
    {
     "name": "stdout",
     "output_type": "stream",
     "text": [
      "sqlite.db  SQL_LITE.ipynb\n"
     ]
    }
   ],
   "source": [
    "ls"
   ]
  },
  {
   "cell_type": "code",
   "execution_count": 7,
   "id": "29e1bba8-2759-4c01-9a63-b1f4647cd965",
   "metadata": {},
   "outputs": [],
   "source": [
    "# creating cursor\n",
    "c = db.cursor()"
   ]
  },
  {
   "cell_type": "code",
   "execution_count": 8,
   "id": "01f50d0a-82e8-494a-afe9-efc0dc5e0e42",
   "metadata": {},
   "outputs": [
    {
     "data": {
      "text/plain": [
       "<sqlite3.Cursor at 0x7f4e56792a40>"
      ]
     },
     "execution_count": 8,
     "metadata": {},
     "output_type": "execute_result"
    }
   ],
   "source": [
    "c.execute(\"create table fsds(name text, batchid int , mark real)\") \n",
    "# real : real number\n"
   ]
  },
  {
   "cell_type": "code",
   "execution_count": 12,
   "id": "1ae2a05a-ccb4-48d6-9744-918cc3753aeb",
   "metadata": {},
   "outputs": [
    {
     "data": {
      "text/plain": [
       "<sqlite3.Cursor at 0x7f4e56792a40>"
      ]
     },
     "execution_count": 12,
     "metadata": {},
     "output_type": "execute_result"
    }
   ],
   "source": [
    "c.execute(\"insert into fsds values('abhi', 2345,4575.55)\")"
   ]
  },
  {
   "cell_type": "code",
   "execution_count": 13,
   "id": "005df24b-480e-47f3-ab75-283be486af6e",
   "metadata": {},
   "outputs": [
    {
     "data": {
      "text/plain": [
       "<sqlite3.Cursor at 0x7f4e56792a40>"
      ]
     },
     "execution_count": 13,
     "metadata": {},
     "output_type": "execute_result"
    }
   ],
   "source": [
    "c.execute(\"insert into fsds values('abhi1', 2345,4575.55)\")\n",
    "c.execute(\"insert into fsds values('abhi2', 2345,4575.55)\")\n",
    "c.execute(\"insert into fsds values('abhi3', 2345,4575.55)\")\n",
    "c.execute(\"insert into fsds values('abhi4', 2345,4575.55)\")\n",
    "c.execute(\"insert into fsds values('abhi5', 2345,4575.55)\")"
   ]
  },
  {
   "cell_type": "code",
   "execution_count": 14,
   "id": "a6994030-a696-495c-9b27-6f1f78f6cfc8",
   "metadata": {},
   "outputs": [],
   "source": [
    "data  = c.execute(\"select * from fsds\")"
   ]
  },
  {
   "cell_type": "code",
   "execution_count": 15,
   "id": "bc3401b3-03e8-4e57-8456-d7c7d7dbfe9b",
   "metadata": {},
   "outputs": [
    {
     "name": "stdout",
     "output_type": "stream",
     "text": [
      "('abhi', 2345, 4575.55)\n",
      "('abhi1', 2345, 4575.55)\n",
      "('abhi2', 2345, 4575.55)\n",
      "('abhi3', 2345, 4575.55)\n",
      "('abhi4', 2345, 4575.55)\n",
      "('abhi5', 2345, 4575.55)\n"
     ]
    }
   ],
   "source": [
    "for i in data:\n",
    "    print(i)"
   ]
  },
  {
   "cell_type": "code",
   "execution_count": 16,
   "id": "6a34f697-4b6c-4b79-9428-25c6f6eb2ba5",
   "metadata": {},
   "outputs": [],
   "source": [
    "db.commit()"
   ]
  },
  {
   "cell_type": "code",
   "execution_count": 17,
   "id": "82e2e042-72fd-4d9b-858c-af25f6c1ee10",
   "metadata": {},
   "outputs": [],
   "source": [
    "db.close()"
   ]
  },
  {
   "cell_type": "code",
   "execution_count": 25,
   "id": "58292079-50a4-4d61-b7ab-cca5086f7c4f",
   "metadata": {},
   "outputs": [],
   "source": [
    "db = sqlite3.connect(\"sqlite.db\")"
   ]
  },
  {
   "cell_type": "code",
   "execution_count": 26,
   "id": "e25b5fe9-25d1-469f-820e-a1e64f0c8118",
   "metadata": {},
   "outputs": [],
   "source": [
    "c= db.cursor()"
   ]
  },
  {
   "cell_type": "code",
   "execution_count": 29,
   "id": "e4beb7a7-dcec-4c3d-ada7-92755824bcff",
   "metadata": {},
   "outputs": [],
   "source": [
    "data = c.execute(\"select  * from fsds where mark>400\")"
   ]
  },
  {
   "cell_type": "code",
   "execution_count": 30,
   "id": "9b7c9830-b120-4b19-898c-24ae53caf4eb",
   "metadata": {},
   "outputs": [
    {
     "name": "stdout",
     "output_type": "stream",
     "text": [
      "('abhi', 2345, 4575.55)\n",
      "('abhi1', 2345, 4575.55)\n",
      "('abhi2', 2345, 4575.55)\n",
      "('abhi3', 2345, 4575.55)\n",
      "('abhi4', 2345, 4575.55)\n",
      "('abhi5', 2345, 4575.55)\n"
     ]
    }
   ],
   "source": [
    "for i in data:\n",
    "    print(i)"
   ]
  },
  {
   "cell_type": "code",
   "execution_count": 48,
   "id": "2db80e08-ca45-4aed-8522-ba8bc7d8accf",
   "metadata": {},
   "outputs": [],
   "source": [
    "data = c.execute(\"select name, mark from fsds\")"
   ]
  },
  {
   "cell_type": "code",
   "execution_count": 46,
   "id": "dcebca01-67d7-448e-bbbc-4bf7eec8d27a",
   "metadata": {},
   "outputs": [
    {
     "name": "stdout",
     "output_type": "stream",
     "text": [
      "('abhi', 4575.55)\n",
      "('abhi1', 4575.55)\n",
      "('abhi2', 4575.55)\n",
      "('abhi3', 4575.55)\n",
      "('abhi4', 4575.55)\n",
      "('abhi5', 4575.55)\n"
     ]
    }
   ],
   "source": [
    "for i in data:\n",
    "    print(i)"
   ]
  },
  {
   "cell_type": "code",
   "execution_count": 49,
   "id": "b53fb2b0-eb41-4734-b8b7-630c4eed0450",
   "metadata": {},
   "outputs": [
    {
     "data": {
      "text/plain": [
       "[('abhi', 4575.55),\n",
       " ('abhi1', 4575.55),\n",
       " ('abhi2', 4575.55),\n",
       " ('abhi3', 4575.55),\n",
       " ('abhi4', 4575.55),\n",
       " ('abhi5', 4575.55)]"
      ]
     },
     "execution_count": 49,
     "metadata": {},
     "output_type": "execute_result"
    }
   ],
   "source": [
    "data.fetchall()"
   ]
  },
  {
   "cell_type": "code",
   "execution_count": 50,
   "id": "40c01e6c-c07c-42f4-9695-05c3f1087fa1",
   "metadata": {},
   "outputs": [],
   "source": [
    "db.close()"
   ]
  },
  {
   "cell_type": "code",
   "execution_count": null,
   "id": "00f9629f-f777-494c-a16c-2dbe19e38e31",
   "metadata": {},
   "outputs": [],
   "source": [
    "db = sqlite3.connect"
   ]
  }
 ],
 "metadata": {
  "kernelspec": {
   "display_name": "Python 3 (ipykernel)",
   "language": "python",
   "name": "python3"
  },
  "language_info": {
   "codemirror_mode": {
    "name": "ipython",
    "version": 3
   },
   "file_extension": ".py",
   "mimetype": "text/x-python",
   "name": "python",
   "nbconvert_exporter": "python",
   "pygments_lexer": "ipython3",
   "version": "3.10.6"
  }
 },
 "nbformat": 4,
 "nbformat_minor": 5
}
