{
 "cells": [
  {
   "cell_type": "code",
   "execution_count": 2,
   "id": "377343d6-b2eb-4c81-8600-736edb0b8930",
   "metadata": {},
   "outputs": [],
   "source": [
    "import sqlite3 # sql lite  : in memory database"
   ]
  },
  {
   "cell_type": "code",
   "execution_count": 2,
   "id": "42624ac5-4c48-4eed-ba3d-c76d6b87e1e4",
   "metadata": {},
   "outputs": [],
   "source": [
    "db = sqlite3.connect('sqlite.db') # create"
   ]
  },
  {
   "cell_type": "code",
   "execution_count": 9,
   "id": "1a2af409-9dd0-4a50-806e-9b609704f943",
   "metadata": {},
   "outputs": [
    {
     "name": "stdout",
     "output_type": "stream",
     "text": [
      "sqlite.db  SQL_LITE.ipynb\n"
     ]
    }
   ],
   "source": [
    "ls"
   ]
  },
  {
   "cell_type": "code",
   "execution_count": 7,
   "id": "29e1bba8-2759-4c01-9a63-b1f4647cd965",
   "metadata": {},
   "outputs": [],
   "source": [
    "# creating cursor\n",
    "c = db.cursor()"
   ]
  },
  {
   "cell_type": "code",
   "execution_count": 8,
   "id": "01f50d0a-82e8-494a-afe9-efc0dc5e0e42",
   "metadata": {},
   "outputs": [
    {
     "data": {
      "text/plain": [
       "<sqlite3.Cursor at 0x7f4e56792a40>"
      ]
     },
     "execution_count": 8,
     "metadata": {},
     "output_type": "execute_result"
    }
   ],
   "source": [
    "c.execute(\"create table fsds(name text, batchid int , mark real)\") \n",
    "# real : real number\n"
   ]
  },
  {
   "cell_type": "code",
   "execution_count": 12,
   "id": "1ae2a05a-ccb4-48d6-9744-918cc3753aeb",
   "metadata": {},
   "outputs": [
    {
     "data": {
      "text/plain": [
       "<sqlite3.Cursor at 0x7f4e56792a40>"
      ]
     },
     "execution_count": 12,
     "metadata": {},
     "output_type": "execute_result"
    }
   ],
   "source": [
    "c.execute(\"insert into fsds values('abhi', 2345,4575.55)\")"
   ]
  },
  {
   "cell_type": "code",
   "execution_count": 13,
   "id": "005df24b-480e-47f3-ab75-283be486af6e",
   "metadata": {},
   "outputs": [
    {
     "data": {
      "text/plain": [
       "<sqlite3.Cursor at 0x7f4e56792a40>"
      ]
     },
     "execution_count": 13,
     "metadata": {},
     "output_type": "execute_result"
    }
   ],
   "source": [
    "c.execute(\"insert into fsds values('abhi1', 2345,4575.55)\")\n",
    "c.execute(\"insert into fsds values('abhi2', 2345,4575.55)\")\n",
    "c.execute(\"insert into fsds values('abhi3', 2345,4575.55)\")\n",
    "c.execute(\"insert into fsds values('abhi4', 2345,4575.55)\")\n",
    "c.execute(\"insert into fsds values('abhi5', 2345,4575.55)\")"
   ]
  },
  {
   "cell_type": "code",
   "execution_count": 14,
   "id": "a6994030-a696-495c-9b27-6f1f78f6cfc8",
   "metadata": {},
   "outputs": [],
   "source": [
    "data  = c.execute(\"select * from fsds\")"
   ]
  },
  {
   "cell_type": "code",
   "execution_count": 15,
   "id": "bc3401b3-03e8-4e57-8456-d7c7d7dbfe9b",
   "metadata": {},
   "outputs": [
    {
     "name": "stdout",
     "output_type": "stream",
     "text": [
      "('abhi', 2345, 4575.55)\n",
      "('abhi1', 2345, 4575.55)\n",
      "('abhi2', 2345, 4575.55)\n",
      "('abhi3', 2345, 4575.55)\n",
      "('abhi4', 2345, 4575.55)\n",
      "('abhi5', 2345, 4575.55)\n"
     ]
    }
   ],
   "source": [
    "for i in data:\n",
    "    print(i)"
   ]
  },
  {
   "cell_type": "code",
   "execution_count": 16,
   "id": "6a34f697-4b6c-4b79-9428-25c6f6eb2ba5",
   "metadata": {},
   "outputs": [],
   "source": [
    "db.commit()"
   ]
  },
  {
   "cell_type": "code",
   "execution_count": 17,
   "id": "82e2e042-72fd-4d9b-858c-af25f6c1ee10",
   "metadata": {},
   "outputs": [],
   "source": [
    "db.close()"
   ]
  },
  {
   "cell_type": "code",
   "execution_count": 25,
   "id": "58292079-50a4-4d61-b7ab-cca5086f7c4f",
   "metadata": {},
   "outputs": [],
   "source": [
    "db = sqlite3.connect(\"sqlite.db\")"
   ]
  },
  {
   "cell_type": "code",
   "execution_count": 26,
   "id": "e25b5fe9-25d1-469f-820e-a1e64f0c8118",
   "metadata": {},
   "outputs": [],
   "source": [
    "c= db.cursor()"
   ]
  },
  {
   "cell_type": "code",
   "execution_count": 29,
   "id": "e4beb7a7-dcec-4c3d-ada7-92755824bcff",
   "metadata": {},
   "outputs": [],
   "source": [
    "data = c.execute(\"select  * from fsds where mark>400\")"
   ]
  },
  {
   "cell_type": "code",
   "execution_count": 30,
   "id": "9b7c9830-b120-4b19-898c-24ae53caf4eb",
   "metadata": {},
   "outputs": [
    {
     "name": "stdout",
     "output_type": "stream",
     "text": [
      "('abhi', 2345, 4575.55)\n",
      "('abhi1', 2345, 4575.55)\n",
      "('abhi2', 2345, 4575.55)\n",
      "('abhi3', 2345, 4575.55)\n",
      "('abhi4', 2345, 4575.55)\n",
      "('abhi5', 2345, 4575.55)\n"
     ]
    }
   ],
   "source": [
    "for i in data:\n",
    "    print(i)"
   ]
  },
  {
   "cell_type": "code",
   "execution_count": 48,
   "id": "2db80e08-ca45-4aed-8522-ba8bc7d8accf",
   "metadata": {},
   "outputs": [],
   "source": [
    "data = c.execute(\"select name, mark from fsds\")"
   ]
  },
  {
   "cell_type": "code",
   "execution_count": 46,
   "id": "dcebca01-67d7-448e-bbbc-4bf7eec8d27a",
   "metadata": {},
   "outputs": [
    {
     "name": "stdout",
     "output_type": "stream",
     "text": [
      "('abhi', 4575.55)\n",
      "('abhi1', 4575.55)\n",
      "('abhi2', 4575.55)\n",
      "('abhi3', 4575.55)\n",
      "('abhi4', 4575.55)\n",
      "('abhi5', 4575.55)\n"
     ]
    }
   ],
   "source": [
    "for i in data:\n",
    "    print(i)"
   ]
  },
  {
   "cell_type": "code",
   "execution_count": 49,
   "id": "b53fb2b0-eb41-4734-b8b7-630c4eed0450",
   "metadata": {},
   "outputs": [
    {
     "data": {
      "text/plain": [
       "[('abhi', 4575.55),\n",
       " ('abhi1', 4575.55),\n",
       " ('abhi2', 4575.55),\n",
       " ('abhi3', 4575.55),\n",
       " ('abhi4', 4575.55),\n",
       " ('abhi5', 4575.55)]"
      ]
     },
     "execution_count": 49,
     "metadata": {},
     "output_type": "execute_result"
    }
   ],
   "source": [
    "data.fetchall()"
   ]
  },
  {
   "cell_type": "code",
   "execution_count": 9,
   "id": "40c01e6c-c07c-42f4-9695-05c3f1087fa1",
   "metadata": {},
   "outputs": [],
   "source": [
    "db.close()"
   ]
  },
  {
   "cell_type": "code",
   "execution_count": 10,
   "id": "00f9629f-f777-494c-a16c-2dbe19e38e31",
   "metadata": {},
   "outputs": [],
   "source": [
    "db = sqlite3.connect('jobdb.db')"
   ]
  },
  {
   "cell_type": "code",
   "execution_count": 11,
   "id": "fcc1f6f9-2b03-4a98-8631-1682753c5a40",
   "metadata": {},
   "outputs": [],
   "source": [
    "c= db.cursor()"
   ]
  },
  {
   "cell_type": "code",
   "execution_count": 12,
   "id": "c777ed72-a768-48a2-9692-3df974761e5a",
   "metadata": {},
   "outputs": [
    {
     "data": {
      "text/plain": [
       "<sqlite3.Cursor at 0x7f150a120ec0>"
      ]
     },
     "execution_count": 12,
     "metadata": {},
     "output_type": "execute_result"
    }
   ],
   "source": [
    "c.execute(\"create table student(student_id INT, student_name text, student_mail_id text, marks int)\")"
   ]
  },
  {
   "cell_type": "code",
   "execution_count": 13,
   "id": "f384ad2f-007f-4eb6-b96a-523d763d9520",
   "metadata": {},
   "outputs": [
    {
     "data": {
      "text/plain": [
       "<sqlite3.Cursor at 0x7f150a120ec0>"
      ]
     },
     "execution_count": 13,
     "metadata": {},
     "output_type": "execute_result"
    }
   ],
   "source": [
    "c.execute(\"create table address(student_id text, pincode int, location text, nearby text, phone_no int)\")"
   ]
  },
  {
   "cell_type": "code",
   "execution_count": 20,
   "id": "ee4315bb-2f1a-4a7e-9bf7-d08f490a3957",
   "metadata": {},
   "outputs": [
    {
     "data": {
      "text/plain": [
       "<sqlite3.Cursor at 0x7f150a120ec0>"
      ]
     },
     "execution_count": 20,
     "metadata": {},
     "output_type": "execute_result"
    }
   ],
   "source": [
    "c.execute(\"insert into student values(1,'abhishek', 'abhishek@gmail.com',45)\")\n"
   ]
  },
  {
   "cell_type": "code",
   "execution_count": 21,
   "id": "46623e4b-7374-4fa0-9118-7eb9bb80c815",
   "metadata": {},
   "outputs": [
    {
     "data": {
      "text/plain": [
       "<sqlite3.Cursor at 0x7f150a120ec0>"
      ]
     },
     "execution_count": 21,
     "metadata": {},
     "output_type": "execute_result"
    }
   ],
   "source": [
    "c.execute(\"insert into student values(2,'abhishek', 'abhishek@gmail.com',45)\")\n",
    "c.execute(\"insert into student values(3,'abhishek', 'abhishek@gmail.com',45)\")\n",
    "c.execute(\"insert into student values(4,'abhishek', 'abhishek@gmail.com',45)\")\n",
    "c.execute(\"insert into student values(5,'abhishek', 'abhishek@gmail.com',45)\")\n",
    "c.execute(\"insert into student values(6,'abhishek', 'abhishek@gmail.com',45)\")\n",
    "c.execute(\"insert into student values(7,'abhishek', 'abhishek@gmail.com',45)\")\n",
    "c.execute(\"insert into student values(8,'abhishek', 'abhishek@gmail.com',45)\")"
   ]
  },
  {
   "cell_type": "code",
   "execution_count": 22,
   "id": "71dd28e4-59a0-4b4c-8955-73a6acfafcc5",
   "metadata": {},
   "outputs": [
    {
     "data": {
      "text/plain": [
       "<sqlite3.Cursor at 0x7f150a120ec0>"
      ]
     },
     "execution_count": 22,
     "metadata": {},
     "output_type": "execute_result"
    }
   ],
   "source": [
    "c.execute(\"insert into address values(1,345645, 'pune','office',234568678)\")\n",
    "c.execute(\"insert into address values(2,345645, 'pune','office',234568678)\")\n",
    "c.execute(\"insert into address values(3,345645, 'pune','office',234568678)\")\n",
    "c.execute(\"insert into address values(4,345645, 'pune','office',234568678)\")\n",
    "c.execute(\"insert into address values(5,345645, 'pune','office',234568678)\")\n",
    "c.execute(\"insert into address values(6,345645, 'pune','office',234568678)\")\n",
    "c.execute(\"insert into address values(7,345645, 'pune','office',234568678)\")\n",
    "c.execute(\"insert into address values(8,345645, 'pune','office',234568678)\")\n"
   ]
  },
  {
   "cell_type": "code",
   "execution_count": 23,
   "id": "5e309a64-0c6d-4b4e-8279-88ab1d6b57bc",
   "metadata": {},
   "outputs": [
    {
     "name": "stdout",
     "output_type": "stream",
     "text": [
      "('1', 345645, 'pune', 'office', 234568678)\n",
      "('2', 345645, 'pune', 'office', 234568678)\n",
      "('3', 345645, 'pune', 'office', 234568678)\n",
      "('4', 345645, 'pune', 'office', 234568678)\n",
      "('5', 345645, 'pune', 'office', 234568678)\n",
      "('6', 345645, 'pune', 'office', 234568678)\n",
      "('7', 345645, 'pune', 'office', 234568678)\n",
      "('8', 345645, 'pune', 'office', 234568678)\n"
     ]
    }
   ],
   "source": [
    "for i in c.execute(\"select * from address\"):\n",
    "    print(i)"
   ]
  },
  {
   "cell_type": "code",
   "execution_count": 26,
   "id": "03e8dd76-870d-45ec-9cc8-bed7713136f0",
   "metadata": {},
   "outputs": [],
   "source": [
    "data = c.execute(\"select *  from  student s left join address a on s.student_id =  a.student_id\")"
   ]
  },
  {
   "cell_type": "code",
   "execution_count": 27,
   "id": "3e240e9e-4f36-4714-bb15-3bea95f2414f",
   "metadata": {},
   "outputs": [
    {
     "name": "stdout",
     "output_type": "stream",
     "text": [
      "(1, 'abhishek', 'abhishek@gmail.com', 45, '1', 345645, 'pune', 'office', 234568678)\n",
      "(1, 'abhishek', 'abhishek@gmail.com', 45, '1', 345645, 'pune', 'office', 234568678)\n",
      "(1, 'abhishek', 'abhishek@gmail.com', 45, '1', 345645, 'pune', 'office', 234568678)\n",
      "(1, 'abhishek', 'abhishek@gmail.com', 45, '1', 345645, 'pune', 'office', 234568678)\n",
      "(1, 'abhishek', 'abhishek@gmail.com', 45, '1', 345645, 'pune', 'office', 234568678)\n",
      "(1, 'abhishek', 'abhishek@gmail.com', 45, '1', 345645, 'pune', 'office', 234568678)\n",
      "(1, 'abhishek', 'abhishek@gmail.com', 45, '1', 345645, 'pune', 'office', 234568678)\n",
      "(1, 'abhishek', 'abhishek@gmail.com', 45, '1', 345645, 'pune', 'office', 234568678)\n",
      "(1, 'abhishek', 'abhishek@gmail.com', 45, '1', 345645, 'pune', 'office', 234568678)\n",
      "(1, 'abhishek', 'abhishek@gmail.com', 45, '1', 345645, 'pune', 'office', 234568678)\n",
      "(1, 'abhishek', 'abhishek@gmail.com', 45, '1', 345645, 'pune', 'office', 234568678)\n",
      "(1, 'abhishek', 'abhishek@gmail.com', 45, '1', 345645, 'pune', 'office', 234568678)\n",
      "(1, 'abhishek', 'abhishek@gmail.com', 45, '1', 345645, 'pune', 'office', 234568678)\n",
      "(1, 'abhishek', 'abhishek@gmail.com', 45, '1', 345645, 'pune', 'office', 234568678)\n",
      "(1, 'abhishek', 'abhishek@gmail.com', 45, '1', 345645, 'pune', 'office', 234568678)\n",
      "(1, 'abhishek', 'abhishek@gmail.com', 45, '1', 345645, 'pune', 'office', 234568678)\n",
      "(1, 'abhishek', 'abhishek@gmail.com', 45, '1', 345645, 'pune', 'office', 234568678)\n",
      "(1, 'abhishek', 'abhishek@gmail.com', 45, '1', 345645, 'pune', 'office', 234568678)\n",
      "(1, 'abhishek', 'abhishek@gmail.com', 45, '1', 345645, 'pune', 'office', 234568678)\n",
      "(1, 'abhishek', 'abhishek@gmail.com', 45, '1', 345645, 'pune', 'office', 234568678)\n",
      "(2, 'abhishek', 'abhishek@gmail.com', 45, '2', 345645, 'pune', 'office', 234568678)\n",
      "(3, 'abhishek', 'abhishek@gmail.com', 45, '3', 345645, 'pune', 'office', 234568678)\n",
      "(4, 'abhishek', 'abhishek@gmail.com', 45, '4', 345645, 'pune', 'office', 234568678)\n",
      "(5, 'abhishek', 'abhishek@gmail.com', 45, '5', 345645, 'pune', 'office', 234568678)\n",
      "(6, 'abhishek', 'abhishek@gmail.com', 45, '6', 345645, 'pune', 'office', 234568678)\n",
      "(7, 'abhishek', 'abhishek@gmail.com', 45, '7', 345645, 'pune', 'office', 234568678)\n",
      "(8, 'abhishek', 'abhishek@gmail.com', 45, '8', 345645, 'pune', 'office', 234568678)\n"
     ]
    }
   ],
   "source": [
    "for i in data:\n",
    "    print(i)"
   ]
  },
  {
   "cell_type": "code",
   "execution_count": 32,
   "id": "b01f6362-e798-48f0-bee8-c1e495406baf",
   "metadata": {},
   "outputs": [
    {
     "data": {
      "text/plain": [
       "<sqlite3.Cursor at 0x7f150a120ec0>"
      ]
     },
     "execution_count": 32,
     "metadata": {},
     "output_type": "execute_result"
    }
   ],
   "source": [
    "c.execute(\"update student set student_id =100 where student_id ==1\")"
   ]
  },
  {
   "cell_type": "code",
   "execution_count": 33,
   "id": "2c2243f6-6df5-4921-bd45-df505d597829",
   "metadata": {},
   "outputs": [
    {
     "name": "stdout",
     "output_type": "stream",
     "text": [
      "(100, 'abhishek', 'abhishek@gmail.com', 45)\n",
      "(100, 'abhishek', 'abhishek@gmail.com', 45)\n",
      "(100, 'abhishek', 'abhishek@gmail.com', 45)\n",
      "(100, 'abhishek', 'abhishek@gmail.com', 45)\n",
      "(100, 'abhishek', 'abhishek@gmail.com', 45)\n",
      "(100, 'abhishek', 'abhishek@gmail.com', 45)\n",
      "(100, 'abhishek', 'abhishek@gmail.com', 45)\n",
      "(100, 'abhishek', 'abhishek@gmail.com', 45)\n",
      "(100, 'abhishek', 'abhishek@gmail.com', 45)\n",
      "(100, 'abhishek', 'abhishek@gmail.com', 45)\n",
      "(100, 'abhishek', 'abhishek@gmail.com', 45)\n",
      "(100, 'abhishek', 'abhishek@gmail.com', 45)\n",
      "(100, 'abhishek', 'abhishek@gmail.com', 45)\n",
      "(100, 'abhishek', 'abhishek@gmail.com', 45)\n",
      "(100, 'abhishek', 'abhishek@gmail.com', 45)\n",
      "(100, 'abhishek', 'abhishek@gmail.com', 45)\n",
      "(100, 'abhishek', 'abhishek@gmail.com', 45)\n",
      "(100, 'abhishek', 'abhishek@gmail.com', 45)\n",
      "(100, 'abhishek', 'abhishek@gmail.com', 45)\n",
      "(100, 'abhishek', 'abhishek@gmail.com', 45)\n",
      "(2, 'abhishek', 'abhishek@gmail.com', 45)\n",
      "(3, 'abhishek', 'abhishek@gmail.com', 45)\n",
      "(4, 'abhishek', 'abhishek@gmail.com', 45)\n",
      "(5, 'abhishek', 'abhishek@gmail.com', 45)\n",
      "(6, 'abhishek', 'abhishek@gmail.com', 45)\n",
      "(7, 'abhishek', 'abhishek@gmail.com', 45)\n",
      "(8, 'abhishek', 'abhishek@gmail.com', 45)\n"
     ]
    }
   ],
   "source": [
    "data = c.execute(\"select * from student\")\n",
    "for i in data:\n",
    "    print(i)"
   ]
  },
  {
   "cell_type": "code",
   "execution_count": 34,
   "id": "00257ece-0c8f-4deb-a918-445839eb8292",
   "metadata": {},
   "outputs": [],
   "source": [
    "db.close()"
   ]
  },
  {
   "cell_type": "code",
   "execution_count": 36,
   "id": "c9b4e705-1c87-4d33-8c03-629d4a1e90c2",
   "metadata": {},
   "outputs": [],
   "source": [
    "#MAP \n",
    "#map(funtion_name , iterble)\n",
    "#lambda x (input): x+5 (output)"
   ]
  },
  {
   "cell_type": "code",
   "execution_count": 16,
   "id": "8c51a215-4611-4832-9cee-616ec0e473e5",
   "metadata": {},
   "outputs": [],
   "source": [
    "l1 = [3,2,4,6,5,67,5,5,7]\n"
   ]
  },
  {
   "cell_type": "code",
   "execution_count": 17,
   "id": "109a6650-1d63-4e83-9ad3-45c671093bef",
   "metadata": {},
   "outputs": [],
   "source": [
    "def fun(a):\n",
    "    return a+5\n"
   ]
  },
  {
   "cell_type": "code",
   "execution_count": 18,
   "id": "b180edfd-8964-4983-8db9-03a16960f392",
   "metadata": {},
   "outputs": [
    {
     "data": {
      "text/plain": [
       "[8, 7, 9, 11, 10, 72, 10, 10, 12]"
      ]
     },
     "execution_count": 18,
     "metadata": {},
     "output_type": "execute_result"
    }
   ],
   "source": [
    "list(map(fun,l1))"
   ]
  },
  {
   "cell_type": "code",
   "execution_count": 19,
   "id": "44c7dec1-1b94-4e2d-ad6e-0d1e0f19e499",
   "metadata": {},
   "outputs": [],
   "source": [
    "l2 = [\"555\",\"334\",\"34\"]"
   ]
  },
  {
   "cell_type": "code",
   "execution_count": 20,
   "id": "9d88fa72-fb93-49c3-89ed-b87f04e594b7",
   "metadata": {},
   "outputs": [],
   "source": [
    "def fun1(a):\n",
    "    return (int(a)+5)"
   ]
  },
  {
   "cell_type": "code",
   "execution_count": 21,
   "id": "a83b48b0-b12e-4160-ba2a-ff1de0c8c268",
   "metadata": {},
   "outputs": [
    {
     "data": {
      "text/plain": [
       "[560, 339, 39]"
      ]
     },
     "execution_count": 21,
     "metadata": {},
     "output_type": "execute_result"
    }
   ],
   "source": [
    "list(map(fun1,l2))"
   ]
  },
  {
   "cell_type": "code",
   "execution_count": 22,
   "id": "6420a818-5239-4c2a-9a5d-3eeecae82b8f",
   "metadata": {},
   "outputs": [
    {
     "data": {
      "text/plain": [
       "[3, 2, 4, 6, 5, 67, 5, 5, 7]"
      ]
     },
     "execution_count": 22,
     "metadata": {},
     "output_type": "execute_result"
    }
   ],
   "source": [
    "list(map(lambda x: int(x) , l1))"
   ]
  },
  {
   "cell_type": "code",
   "execution_count": null,
   "id": "2f7c8d35-710e-4435-9285-efafee7d9211",
   "metadata": {},
   "outputs": [],
   "source": [
    "#filter"
   ]
  },
  {
   "cell_type": "code",
   "execution_count": 23,
   "id": "367a23bd-19d2-4c71-91c7-18484dc936b6",
   "metadata": {},
   "outputs": [
    {
     "data": {
      "text/plain": [
       "[2, 4, 6]"
      ]
     },
     "execution_count": 23,
     "metadata": {},
     "output_type": "execute_result"
    }
   ],
   "source": [
    "[i for i in l1 if i%2==0]"
   ]
  },
  {
   "cell_type": "code",
   "execution_count": 27,
   "id": "ecc6703d-d117-4263-8b34-95f72584f288",
   "metadata": {},
   "outputs": [],
   "source": [
    "def test4(a):\n",
    "    if a%2==0:\n",
    "        return a"
   ]
  },
  {
   "cell_type": "code",
   "execution_count": 29,
   "id": "74dd3988-f7e8-47da-ac08-b747d38e4a7d",
   "metadata": {},
   "outputs": [
    {
     "data": {
      "text/plain": [
       "[2, 4, 6]"
      ]
     },
     "execution_count": 29,
     "metadata": {},
     "output_type": "execute_result"
    }
   ],
   "source": [
    "list(filter(test4,l1)) # filter give output which satisfy condition (only true)"
   ]
  },
  {
   "cell_type": "code",
   "execution_count": 30,
   "id": "79bbd7ba-055c-4048-9730-346dfad751b4",
   "metadata": {},
   "outputs": [],
   "source": [
    "#reduce function"
   ]
  },
  {
   "cell_type": "code",
   "execution_count": 31,
   "id": "71b29aec-3224-48eb-957e-597ab0d6e49b",
   "metadata": {},
   "outputs": [],
   "source": [
    "from functools import reduce\n"
   ]
  },
  {
   "cell_type": "code",
   "execution_count": 32,
   "id": "8421fffc-2ccd-4106-bec5-35cae511e407",
   "metadata": {},
   "outputs": [],
   "source": [
    "l= [3434,4,25,4,3,5,3,5,2]\n"
   ]
  },
  {
   "cell_type": "code",
   "execution_count": 34,
   "id": "99082685-b6a7-4824-9c3c-e047aa5bdd52",
   "metadata": {},
   "outputs": [],
   "source": [
    "def test5(a,b):\n",
    "    return a+b"
   ]
  },
  {
   "cell_type": "code",
   "execution_count": 36,
   "id": "0ad0a70a-72ed-4983-8c1b-2c418b50f378",
   "metadata": {},
   "outputs": [
    {
     "data": {
      "text/plain": [
       "3485"
      ]
     },
     "execution_count": 36,
     "metadata": {},
     "output_type": "execute_result"
    }
   ],
   "source": [
    "reduce(test,l) # reduce dont work for 3 element, pass two argument in function which you are going  to call in reduce"
   ]
  },
  {
   "cell_type": "code",
   "execution_count": 37,
   "id": "60f34b81-51df-493d-b479-56440f9c4381",
   "metadata": {},
   "outputs": [],
   "source": [
    "l = [3]"
   ]
  },
  {
   "cell_type": "code",
   "execution_count": 38,
   "id": "52ee6a6a-fbd6-45d1-b13a-3a36011fb68a",
   "metadata": {},
   "outputs": [
    {
     "data": {
      "text/plain": [
       "3"
      ]
     },
     "execution_count": 38,
     "metadata": {},
     "output_type": "execute_result"
    }
   ],
   "source": [
    "reduce(test,l) # it is going to work , "
   ]
  },
  {
   "cell_type": "code",
   "execution_count": 40,
   "id": "13319177-8e18-4583-8af9-53af0517ae0e",
   "metadata": {},
   "outputs": [
    {
     "ename": "TypeError",
     "evalue": "reduce() of empty iterable with no initial value",
     "output_type": "error",
     "traceback": [
      "\u001b[0;31m---------------------------------------------------------------------------\u001b[0m",
      "\u001b[0;31mTypeError\u001b[0m                                 Traceback (most recent call last)",
      "Cell \u001b[0;32mIn [40], line 2\u001b[0m\n\u001b[1;32m      1\u001b[0m l \u001b[38;5;241m=\u001b[39m []\n\u001b[0;32m----> 2\u001b[0m \u001b[43mreduce\u001b[49m\u001b[43m(\u001b[49m\u001b[43mtest\u001b[49m\u001b[43m,\u001b[49m\u001b[43ml\u001b[49m\u001b[43m)\u001b[49m\n",
      "\u001b[0;31mTypeError\u001b[0m: reduce() of empty iterable with no initial value"
     ]
    }
   ],
   "source": [
    "l = []\n",
    "reduce(test,l) # gives error"
   ]
  },
  {
   "cell_type": "code",
   "execution_count": 41,
   "id": "b07f6fed-e92b-4be8-8624-8100bf89a73a",
   "metadata": {},
   "outputs": [],
   "source": [
    "# zip fucnction"
   ]
  },
  {
   "cell_type": "code",
   "execution_count": 51,
   "id": "10f05d0d-59c5-4f38-8757-9d314947de3d",
   "metadata": {},
   "outputs": [],
   "source": [
    "l = [1,2,3,5,6,8]\n",
    "l1 =  [3,4,6,3]\n",
    "l2 = [\"abhishek\", \"sakhare\",\"dfgh\"]"
   ]
  },
  {
   "cell_type": "code",
   "execution_count": null,
   "id": "1365d7cd-9e91-426d-a6e7-6fa64c34de8c",
   "metadata": {},
   "outputs": [],
   "source": []
  },
  {
   "cell_type": "code",
   "execution_count": 52,
   "id": "a2d40d5a-ebfb-4ea6-aca3-4f21df35439d",
   "metadata": {},
   "outputs": [],
   "source": [
    "#  zip give tuple of element"
   ]
  },
  {
   "cell_type": "code",
   "execution_count": 53,
   "id": "1f04b503-88c5-4c0a-8f83-8a4419781df9",
   "metadata": {},
   "outputs": [
    {
     "data": {
      "text/plain": [
       "[(1, 3, 'abhishek'), (2, 4, 'sakhare'), (3, 6, 'dfgh')]"
      ]
     },
     "execution_count": 53,
     "metadata": {},
     "output_type": "execute_result"
    }
   ],
   "source": [
    "list(zip(l,l1,l2))"
   ]
  },
  {
   "cell_type": "code",
   "execution_count": null,
   "id": "967e30f1-57e7-472e-86c2-0768831a660c",
   "metadata": {},
   "outputs": [],
   "source": []
  },
  {
   "cell_type": "code",
   "execution_count": null,
   "id": "5eafe26b-1be2-411b-8eec-70536aff1dc6",
   "metadata": {},
   "outputs": [],
   "source": []
  }
 ],
 "metadata": {
  "kernelspec": {
   "display_name": "Python 3 (ipykernel)",
   "language": "python",
   "name": "python3"
  },
  "language_info": {
   "codemirror_mode": {
    "name": "ipython",
    "version": 3
   },
   "file_extension": ".py",
   "mimetype": "text/x-python",
   "name": "python",
   "nbconvert_exporter": "python",
   "pygments_lexer": "ipython3",
   "version": "3.10.6"
  }
 },
 "nbformat": 4,
 "nbformat_minor": 5
}
