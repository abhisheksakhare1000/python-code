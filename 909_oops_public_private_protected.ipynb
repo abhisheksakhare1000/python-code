{
 "cells": [
  {
   "cell_type": "code",
   "execution_count": 2,
   "id": "f1665718-18fe-4488-85fe-ada299cfe784",
   "metadata": {},
   "outputs": [],
   "source": [
    "class test:\n",
    "    def __init__(self,a,b,c):\n",
    "        self.a = a\n",
    "        self._b = b  #protected\n",
    "        self.__c = c # private"
   ]
  },
  {
   "cell_type": "code",
   "execution_count": 3,
   "id": "45cdde73-4965-4183-9ec0-ca14f08cecd9",
   "metadata": {},
   "outputs": [],
   "source": [
    "c = test(24,2,4)"
   ]
  },
  {
   "cell_type": "code",
   "execution_count": 4,
   "id": "ec62f33c-53c1-4db5-9fc0-1c1ca379ec2d",
   "metadata": {},
   "outputs": [
    {
     "data": {
      "text/plain": [
       "24"
      ]
     },
     "execution_count": 4,
     "metadata": {},
     "output_type": "execute_result"
    }
   ],
   "source": [
    "c.a"
   ]
  },
  {
   "cell_type": "code",
   "execution_count": 5,
   "id": "07ca4111-d645-4753-8b50-d5f752dba830",
   "metadata": {},
   "outputs": [
    {
     "data": {
      "text/plain": [
       "2"
      ]
     },
     "execution_count": 5,
     "metadata": {},
     "output_type": "execute_result"
    }
   ],
   "source": [
    "c._b"
   ]
  },
  {
   "cell_type": "code",
   "execution_count": 6,
   "id": "3819d97a-7886-44b2-a4e1-3b7d5699a6d1",
   "metadata": {},
   "outputs": [
    {
     "data": {
      "text/plain": [
       "4"
      ]
     },
     "execution_count": 6,
     "metadata": {},
     "output_type": "execute_result"
    }
   ],
   "source": [
    "c._test__c  # to access _classname__name_of_variable"
   ]
  },
  {
   "cell_type": "code",
   "execution_count": 65,
   "id": "cbaa63bd-02ac-42ac-836b-b024e7955dd9",
   "metadata": {},
   "outputs": [],
   "source": [
    "class bonouscalculator:\n",
    "    def __init__(self, empid, emprating):\n",
    "        self.empidm = empid\n",
    "        self.emprating = emprating\n",
    "        self.__bonusratingA = \"70%\"\n",
    "        self.__bonusratingB = \"80%\"\n",
    "        \n",
    "    def bonouscalculator(self):\n",
    "        if self.emprating == \"A\":\n",
    "            bonus = self.__bonusratingA\n",
    "            return bonus\n",
    "        \n",
    "        if self.emprating == \"B\":\n",
    "            bonus = self.__bonusratingB\n",
    "            return bonus\n",
    "        "
   ]
  },
  {
   "cell_type": "code",
   "execution_count": 66,
   "id": "d837be2c-e981-4833-b0ce-5500b0d63f9e",
   "metadata": {},
   "outputs": [],
   "source": [
    "emp1 = bonouscalculator(100, \"B\")"
   ]
  },
  {
   "cell_type": "code",
   "execution_count": 67,
   "id": "71588428-abb4-4a57-8208-1e737e76981d",
   "metadata": {},
   "outputs": [
    {
     "data": {
      "text/plain": [
       "'80%'"
      ]
     },
     "execution_count": 67,
     "metadata": {},
     "output_type": "execute_result"
    }
   ],
   "source": [
    "emp1.bonouscalculator()"
   ]
  },
  {
   "cell_type": "code",
   "execution_count": 68,
   "id": "5a459356-1ed1-4a6c-afee-76d65d22f1d5",
   "metadata": {},
   "outputs": [],
   "source": [
    "# you can't modify private varible in these way\n",
    "emp1.__bonusratingA = \"10%\" # it will  not update private bonusrating"
   ]
  },
  {
   "cell_type": "code",
   "execution_count": 69,
   "id": "d366258b-dc9c-43fd-b4b3-619d3f505d40",
   "metadata": {
    "tags": []
   },
   "outputs": [
    {
     "data": {
      "text/plain": [
       "'80%'"
      ]
     },
     "execution_count": 69,
     "metadata": {},
     "output_type": "execute_result"
    }
   ],
   "source": [
    "emp1.bonouscalculator()"
   ]
  },
  {
   "cell_type": "code",
   "execution_count": 70,
   "id": "944f785a-ee51-4b01-bdf3-2890b9a7d9d3",
   "metadata": {},
   "outputs": [],
   "source": [
    "# to update private enitty it should be modified with class as follows:\n",
    "emp1._bonouscalculator__bonusratingB = \"100%\" # class name and varible name"
   ]
  },
  {
   "cell_type": "code",
   "execution_count": null,
   "id": "0ada936d-99ec-4fa6-ad83-93bb9a4e75e8",
   "metadata": {},
   "outputs": [],
   "source": []
  },
  {
   "cell_type": "code",
   "execution_count": 71,
   "id": "e4a69aee-a7d3-4ddf-bea7-746886817273",
   "metadata": {},
   "outputs": [
    {
     "data": {
      "text/plain": [
       "'100%'"
      ]
     },
     "execution_count": 71,
     "metadata": {},
     "output_type": "execute_result"
    }
   ],
   "source": [
    "emp1.bonouscalculator()"
   ]
  },
  {
   "cell_type": "code",
   "execution_count": null,
   "id": "1ce75c24-8cd4-4e85-b6e0-77cc30726ee8",
   "metadata": {},
   "outputs": [],
   "source": []
  },
  {
   "cell_type": "code",
   "execution_count": null,
   "id": "8043394a-4437-41a8-b3b1-8becc084143e",
   "metadata": {},
   "outputs": [],
   "source": []
  }
 ],
 "metadata": {
  "kernelspec": {
   "display_name": "Python 3 (ipykernel)",
   "language": "python",
   "name": "python3"
  },
  "language_info": {
   "codemirror_mode": {
    "name": "ipython",
    "version": 3
   },
   "file_extension": ".py",
   "mimetype": "text/x-python",
   "name": "python",
   "nbconvert_exporter": "python",
   "pygments_lexer": "ipython3",
   "version": "3.10.6"
  }
 },
 "nbformat": 4,
 "nbformat_minor": 5
}
