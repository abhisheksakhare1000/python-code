{
 "cells": [
  {
   "cell_type": "code",
   "execution_count": 1,
   "id": "1cf98765-2325-451d-b082-a14a6393ed12",
   "metadata": {},
   "outputs": [],
   "source": [
    "def gencube(n):\n",
    "    for i in range(n):\n",
    "        yield i*3"
   ]
  },
  {
   "cell_type": "code",
   "execution_count": 2,
   "id": "808caec3-7a53-4e67-8134-4c1f343ebf3b",
   "metadata": {},
   "outputs": [
    {
     "data": {
      "text/plain": [
       "<generator object gencube at 0x7f0918180eb0>"
      ]
     },
     "execution_count": 2,
     "metadata": {},
     "output_type": "execute_result"
    }
   ],
   "source": [
    "gencube(100)"
   ]
  },
  {
   "cell_type": "code",
   "execution_count": 6,
   "id": "c2007bdf-7ccd-41ff-b0df-14ac85571b35",
   "metadata": {},
   "outputs": [
    {
     "name": "stdout",
     "output_type": "stream",
     "text": [
      "0\n",
      "3\n",
      "6\n",
      "9\n",
      "12\n",
      "15\n",
      "18\n",
      "21\n",
      "24\n",
      "27\n"
     ]
    }
   ],
   "source": [
    "for i in gencube(10):\n",
    "    print(i)"
   ]
  },
  {
   "cell_type": "code",
   "execution_count": 5,
   "id": "ab1c3a31-d10e-4d1b-862c-33d1f2bf860a",
   "metadata": {},
   "outputs": [],
   "source": [
    "#fibonnaci"
   ]
  },
  {
   "cell_type": "code",
   "execution_count": 11,
   "id": "09ceddbf-04be-40a3-bc38-d6625f9a320e",
   "metadata": {},
   "outputs": [],
   "source": [
    "def fib(n):\n",
    "    t1 = 0\n",
    "    t2 = 1\n",
    "    for i in range(n):\n",
    "        yield t1\n",
    "        next1 = t1 + t2\n",
    "        t1 = t2\n",
    "        t2 = next1\n",
    "      "
   ]
  },
  {
   "cell_type": "code",
   "execution_count": 12,
   "id": "5b5546f3-015a-48fb-b68f-b8d9f535ce78",
   "metadata": {},
   "outputs": [
    {
     "name": "stdout",
     "output_type": "stream",
     "text": [
      "0\n",
      "1\n",
      "1\n",
      "2\n",
      "3\n",
      "5\n",
      "8\n",
      "13\n",
      "21\n",
      "34\n"
     ]
    }
   ],
   "source": [
    "for i in fib(10):\n",
    "    print(i)"
   ]
  },
  {
   "cell_type": "code",
   "execution_count": 18,
   "id": "8787cd27-ed91-434f-a234-cd8e31dfa4c8",
   "metadata": {},
   "outputs": [],
   "source": [
    "f = open(\"test.txt\", \"w\")"
   ]
  },
  {
   "cell_type": "code",
   "execution_count": 15,
   "id": "49bbda37-fd05-431c-b15a-70727ad9f546",
   "metadata": {},
   "outputs": [
    {
     "name": "stdout",
     "output_type": "stream",
     "text": [
      "10function.ipynb\t\t    7list.ipynb\n",
      "1_hello.ipynb\t\t\t    8assginment2.ipynb\n",
      "2_if_else.ipynb\t\t\t    900tuple_dict_set.ipynb\n",
      "3_arithmetic.ipynb\t\t    901function.ipynb\n",
      "4_string.ipynb\t\t\t    902function_args.ipynb\n",
      "5_nested_if_else_nested.ipynb\t    903Generator_file_system.ipynb\n",
      "6_loops_breaks_continue_pass.ipynb  test.txt\n"
     ]
    }
   ],
   "source": [
    "!ls"
   ]
  },
  {
   "cell_type": "code",
   "execution_count": 16,
   "id": "238209c4-2e46-40b3-ba63-d862482de80e",
   "metadata": {},
   "outputs": [
    {
     "data": {
      "text/plain": [
       "'/home/jovyan/work/basic python'"
      ]
     },
     "execution_count": 16,
     "metadata": {},
     "output_type": "execute_result"
    }
   ],
   "source": [
    "pwd()"
   ]
  },
  {
   "cell_type": "code",
   "execution_count": 1,
   "id": "c534955e-0151-4943-86f7-4c0b03f1d55a",
   "metadata": {},
   "outputs": [
    {
     "ename": "NameError",
     "evalue": "name 'f' is not defined",
     "output_type": "error",
     "traceback": [
      "\u001b[0;31m---------------------------------------------------------------------------\u001b[0m",
      "\u001b[0;31mNameError\u001b[0m                                 Traceback (most recent call last)",
      "Cell \u001b[0;32mIn [1], line 1\u001b[0m\n\u001b[0;32m----> 1\u001b[0m \u001b[43mf\u001b[49m\u001b[38;5;241m.\u001b[39mwrite(\u001b[38;5;124m\"\u001b[39m\u001b[38;5;124mWrite  in test.txt file\u001b[39m\u001b[38;5;124m\"\u001b[39m)\n",
      "\u001b[0;31mNameError\u001b[0m: name 'f' is not defined"
     ]
    }
   ],
   "source": [
    "f.write(\"Write  in test.txt file\")"
   ]
  },
  {
   "cell_type": "code",
   "execution_count": 21,
   "id": "513278aa-3e83-43bd-bb39-a731d62021d4",
   "metadata": {},
   "outputs": [],
   "source": [
    "f.close()"
   ]
  },
  {
   "cell_type": "code",
   "execution_count": 26,
   "id": "56ccefe4-43da-4347-9153-a97f1886bb63",
   "metadata": {},
   "outputs": [],
   "source": [
    "# for reading\n",
    "f = open(\"test.txt\", 'r') # by defualt it is read operation"
   ]
  },
  {
   "cell_type": "code",
   "execution_count": 27,
   "id": "2b33227f-d7e6-4071-bdbd-47fed795284f",
   "metadata": {},
   "outputs": [
    {
     "data": {
      "text/plain": [
       "'Write  in test.txt fileWrite  in test.txt file'"
      ]
     },
     "execution_count": 27,
     "metadata": {},
     "output_type": "execute_result"
    }
   ],
   "source": [
    "f.read()"
   ]
  },
  {
   "cell_type": "code",
   "execution_count": 28,
   "id": "1c8b88fa-3993-4615-8d0d-503c3009f10c",
   "metadata": {},
   "outputs": [
    {
     "data": {
      "text/plain": [
       "''"
      ]
     },
     "execution_count": 28,
     "metadata": {},
     "output_type": "execute_result"
    }
   ],
   "source": [
    "f.read() # it giving zero output beoz cursor is moved at last"
   ]
  },
  {
   "cell_type": "code",
   "execution_count": 31,
   "id": "95ded99c-35c3-4077-9772-bda706aef8f1",
   "metadata": {},
   "outputs": [
    {
     "data": {
      "text/plain": [
       "0"
      ]
     },
     "execution_count": 31,
     "metadata": {},
     "output_type": "execute_result"
    }
   ],
   "source": [
    "f.seek(0) #  cursor is at 0 position"
   ]
  },
  {
   "cell_type": "code",
   "execution_count": 32,
   "id": "723bfb99-e58c-4204-b343-4fdb15f701ed",
   "metadata": {},
   "outputs": [
    {
     "data": {
      "text/plain": [
       "'Write  in test.txt fileWrite  in test.txt file'"
      ]
     },
     "execution_count": 32,
     "metadata": {},
     "output_type": "execute_result"
    }
   ],
   "source": [
    "f.read()"
   ]
  },
  {
   "cell_type": "code",
   "execution_count": 33,
   "id": "e1cb9c15-2dfa-439b-984e-5ffb280ae022",
   "metadata": {},
   "outputs": [
    {
     "data": {
      "text/plain": [
       "46"
      ]
     },
     "execution_count": 33,
     "metadata": {},
     "output_type": "execute_result"
    }
   ],
   "source": [
    "f.tell()"
   ]
  },
  {
   "cell_type": "code",
   "execution_count": 65,
   "id": "4f09a8c1-4c5a-4760-b0f4-f777252c24fa",
   "metadata": {},
   "outputs": [
    {
     "ename": "ValueError",
     "evalue": "I/O operation on closed file.",
     "output_type": "error",
     "traceback": [
      "\u001b[0;31m---------------------------------------------------------------------------\u001b[0m",
      "\u001b[0;31mValueError\u001b[0m                                Traceback (most recent call last)",
      "Cell \u001b[0;32mIn [65], line 1\u001b[0m\n\u001b[0;32m----> 1\u001b[0m \u001b[43mf\u001b[49m\u001b[38;5;241;43m.\u001b[39;49m\u001b[43mseek\u001b[49m\u001b[43m(\u001b[49m\u001b[38;5;241;43m0\u001b[39;49m\u001b[43m)\u001b[49m\n\u001b[1;32m      2\u001b[0m f\u001b[38;5;241m.\u001b[39mclose()\n",
      "\u001b[0;31mValueError\u001b[0m: I/O operation on closed file."
     ]
    }
   ],
   "source": [
    "f.seek(0)\n",
    "f.close()"
   ]
  },
  {
   "cell_type": "code",
   "execution_count": 84,
   "id": "76d9bc46-a494-4203-95ca-5ce2343f52ed",
   "metadata": {},
   "outputs": [],
   "source": [
    "f = open(\"google.txt\" ,\"r+\")"
   ]
  },
  {
   "cell_type": "code",
   "execution_count": 85,
   "id": "5a88c28d-e15e-4eca-9e00-60e06bbbb239",
   "metadata": {},
   "outputs": [
    {
     "data": {
      "text/plain": [
       "''"
      ]
     },
     "execution_count": 85,
     "metadata": {},
     "output_type": "execute_result"
    }
   ],
   "source": [
    "f.readline()# give o/p in string"
   ]
  },
  {
   "cell_type": "code",
   "execution_count": 86,
   "id": "f72357f4-67a5-42d3-a3d0-623dceaae694",
   "metadata": {},
   "outputs": [
    {
     "data": {
      "text/plain": [
       "0"
      ]
     },
     "execution_count": 86,
     "metadata": {},
     "output_type": "execute_result"
    }
   ],
   "source": [
    "f.tell()"
   ]
  },
  {
   "cell_type": "code",
   "execution_count": 87,
   "id": "d6a68611-b2b5-4dfe-a8cb-231b43690f82",
   "metadata": {},
   "outputs": [],
   "source": [
    "f.close()"
   ]
  },
  {
   "cell_type": "code",
   "execution_count": 88,
   "id": "4876b760-a576-44af-a372-4ca7754b8de4",
   "metadata": {},
   "outputs": [],
   "source": [
    "f = open(\"test.txt\", 'r')"
   ]
  },
  {
   "cell_type": "code",
   "execution_count": 95,
   "id": "9f3a528b-5f26-44bc-aafc-31c37b3421ec",
   "metadata": {},
   "outputs": [
    {
     "data": {
      "text/plain": [
       "0"
      ]
     },
     "execution_count": 95,
     "metadata": {},
     "output_type": "execute_result"
    }
   ],
   "source": [
    "f.read()\n",
    "f.seek(0)"
   ]
  },
  {
   "cell_type": "code",
   "execution_count": 92,
   "id": "73897416-5d2d-49e3-84a8-9706a0f8287f",
   "metadata": {},
   "outputs": [
    {
     "data": {
      "text/plain": [
       "['Write  in test.txt fileWrite  in test.txt filerfdfdsfdfd\\n',\n",
       " 'dfsdfsd\\n',\n",
       " 'sdfds\\n']"
      ]
     },
     "execution_count": 92,
     "metadata": {},
     "output_type": "execute_result"
    }
   ],
   "source": [
    "f.readlines() #readline gives output in list"
   ]
  },
  {
   "cell_type": "code",
   "execution_count": 96,
   "id": "e0ad843a-8bdb-4cf7-b397-a5aafa011115",
   "metadata": {},
   "outputs": [],
   "source": [
    "l1 = []\n",
    "for line in f:\n",
    "    l1.append(line)"
   ]
  },
  {
   "cell_type": "code",
   "execution_count": 97,
   "id": "18d1473a-fb5e-4155-a34e-edc340bf3c72",
   "metadata": {},
   "outputs": [
    {
     "data": {
      "text/plain": [
       "['Write  in test.txt fileWrite  in test.txt filerfdfdsfdfd\\n',\n",
       " 'dfsdfsd\\n',\n",
       " 'sdfds\\n']"
      ]
     },
     "execution_count": 97,
     "metadata": {},
     "output_type": "execute_result"
    }
   ],
   "source": [
    "l1"
   ]
  },
  {
   "cell_type": "code",
   "execution_count": 98,
   "id": "ebb72dab-7e0f-4226-94bc-7391ecfc9c56",
   "metadata": {},
   "outputs": [],
   "source": [
    "f.close()"
   ]
  },
  {
   "cell_type": "code",
   "execution_count": 105,
   "id": "fb4fbfc4-caef-4caa-a60e-f2b84dbdd5fe",
   "metadata": {},
   "outputs": [],
   "source": [
    "f = open(\"test1.txt\", \"w\")"
   ]
  },
  {
   "cell_type": "code",
   "execution_count": 106,
   "id": "0b90b3cf-2460-4f94-a3b4-4b54fc7a5f7b",
   "metadata": {},
   "outputs": [],
   "source": [
    "f.writelines(\"fdffgdsfdsfd\")"
   ]
  },
  {
   "cell_type": "code",
   "execution_count": 107,
   "id": "31ea86a4-cb24-4dc7-a74b-2d0c914aba5f",
   "metadata": {},
   "outputs": [],
   "source": [
    "f = open(\"test1.txt\", \"r\")"
   ]
  },
  {
   "cell_type": "code",
   "execution_count": 108,
   "id": "840ec939-ad8f-460c-83c3-3dd2e6ed6f76",
   "metadata": {},
   "outputs": [
    {
     "data": {
      "text/plain": [
       "'fdffgdsfdsfd'"
      ]
     },
     "execution_count": 108,
     "metadata": {},
     "output_type": "execute_result"
    }
   ],
   "source": [
    "f.read()"
   ]
  },
  {
   "cell_type": "code",
   "execution_count": 109,
   "id": "c2b3a704-24d2-4509-9e5d-d2f716a5befc",
   "metadata": {},
   "outputs": [],
   "source": [
    "f = open(\"test1.txt\", \"r+\")"
   ]
  },
  {
   "cell_type": "code",
   "execution_count": 110,
   "id": "13bfc427-8211-4731-a2ff-7fc400cab0e1",
   "metadata": {},
   "outputs": [],
   "source": [
    "l1 = [\"hi\", \"i\", \"am\",\"abhishek\", \"Sakhare\"]"
   ]
  },
  {
   "cell_type": "code",
   "execution_count": 113,
   "id": "f4ead743-89b9-41ac-8bc5-1abb5e0eac28",
   "metadata": {},
   "outputs": [],
   "source": [
    "f.writelines(l1)"
   ]
  },
  {
   "cell_type": "code",
   "execution_count": 114,
   "id": "cce05539-efcf-446b-b126-5280649e6604",
   "metadata": {},
   "outputs": [
    {
     "data": {
      "text/plain": [
       "''"
      ]
     },
     "execution_count": 114,
     "metadata": {},
     "output_type": "execute_result"
    }
   ],
   "source": [
    "f.read()"
   ]
  },
  {
   "cell_type": "code",
   "execution_count": 115,
   "id": "512b425b-d79b-46cb-bb91-0c1eae06e67a",
   "metadata": {},
   "outputs": [
    {
     "data": {
      "text/plain": [
       "0"
      ]
     },
     "execution_count": 115,
     "metadata": {},
     "output_type": "execute_result"
    }
   ],
   "source": [
    "f.seek(0)"
   ]
  },
  {
   "cell_type": "code",
   "execution_count": 116,
   "id": "5a465e2c-8d15-4263-af3e-e1505b4f8348",
   "metadata": {},
   "outputs": [
    {
     "data": {
      "text/plain": [
       "'fdffgdsfdsfdhiiamabhishekSakhare'"
      ]
     },
     "execution_count": 116,
     "metadata": {},
     "output_type": "execute_result"
    }
   ],
   "source": [
    "f.read()"
   ]
  },
  {
   "cell_type": "code",
   "execution_count": null,
   "id": "cce23aaf-4dd8-44ee-9a9d-d79ddad8a77e",
   "metadata": {},
   "outputs": [],
   "source": []
  }
 ],
 "metadata": {
  "kernelspec": {
   "display_name": "Python 3 (ipykernel)",
   "language": "python",
   "name": "python3"
  },
  "language_info": {
   "codemirror_mode": {
    "name": "ipython",
    "version": 3
   },
   "file_extension": ".py",
   "mimetype": "text/x-python",
   "name": "python",
   "nbconvert_exporter": "python",
   "pygments_lexer": "ipython3",
   "version": "3.10.6"
  }
 },
 "nbformat": 4,
 "nbformat_minor": 5
}
