{
 "cells": [
  {
   "cell_type": "code",
   "execution_count": 1,
   "id": "fbd7a8af-5b90-4721-9563-4d98a7fde0b0",
   "metadata": {},
   "outputs": [
    {
     "name": "stdout",
     "output_type": "stream",
     "text": [
      "hello world\n"
     ]
    }
   ],
   "source": [
    "print(\"hello world\")"
   ]
  },
  {
   "cell_type": "code",
   "execution_count": 3,
   "id": "90c5173f-0856-4583-b8ca-b90adddd1e83",
   "metadata": {},
   "outputs": [
    {
     "name": "stdout",
     "output_type": "stream",
     "text": [
      "Hi\n"
     ]
    }
   ],
   "source": [
    "\"good morningn\" # if you want to write in this way you have put last\n",
    "print(\"Hi\")"
   ]
  },
  {
   "cell_type": "code",
   "execution_count": 4,
   "id": "17cb39f6-c5da-461d-9099-2bcc1ab9d722",
   "metadata": {},
   "outputs": [
    {
     "name": "stdout",
     "output_type": "stream",
     "text": [
      "dfdslf\n",
      "ddsfds\n"
     ]
    }
   ],
   "source": [
    "print(\"\"\"dfdslf\n",
    "ddsfds\"\"\") # use triple quotes to write in this way"
   ]
  },
  {
   "cell_type": "code",
   "execution_count": 5,
   "id": "19b83b85-9285-440a-b01e-345b18bdbd76",
   "metadata": {},
   "outputs": [],
   "source": [
    "#comments"
   ]
  },
  {
   "cell_type": "code",
   "execution_count": 6,
   "id": "3dc1fbd3-b7b8-4fa0-80a0-c1ba0c0dc53a",
   "metadata": {
    "tags": []
   },
   "outputs": [
    {
     "name": "stdout",
     "output_type": "stream",
     "text": [
      "Hello students\n"
     ]
    }
   ],
   "source": [
    "##say hello to student <--markdown language\n",
    "\n",
    "print(\"Hello students\")"
   ]
  },
  {
   "cell_type": "code",
   "execution_count": 10,
   "id": "3fbc94c3-99f7-4201-a897-0a473d9143e3",
   "metadata": {},
   "outputs": [
    {
     "data": {
      "text/plain": [
       "101"
      ]
     },
     "execution_count": 10,
     "metadata": {},
     "output_type": "execute_result"
    }
   ],
   "source": [
    "45+56 #sum of two numbers"
   ]
  },
  {
   "cell_type": "code",
   "execution_count": 9,
   "id": "4bff4fac-d952-498d-a16f-4853705003d3",
   "metadata": {},
   "outputs": [
    {
     "data": {
      "text/plain": [
       "624"
      ]
     },
     "execution_count": 9,
     "metadata": {},
     "output_type": "execute_result"
    }
   ],
   "source": [
    "52*12"
   ]
  },
  {
   "cell_type": "code",
   "execution_count": 11,
   "id": "86803856-1972-4b89-aa57-c8cab88e576a",
   "metadata": {},
   "outputs": [
    {
     "data": {
      "text/plain": [
       "1"
      ]
     },
     "execution_count": 11,
     "metadata": {},
     "output_type": "execute_result"
    }
   ],
   "source": [
    "123%2"
   ]
  },
  {
   "cell_type": "code",
   "execution_count": 13,
   "id": "e519468d-150b-434e-8c05-39591c2df35f",
   "metadata": {},
   "outputs": [
    {
     "data": {
      "text/plain": [
       "8"
      ]
     },
     "execution_count": 13,
     "metadata": {},
     "output_type": "execute_result"
    }
   ],
   "source": [
    "2**3 # power of 2 raised to 3"
   ]
  },
  {
   "cell_type": "code",
   "execution_count": 17,
   "id": "68a9be05-8da8-4290-a2ca-42bdbdea9c98",
   "metadata": {},
   "outputs": [
    {
     "name": "stdout",
     "output_type": "stream",
     "text": [
      "-8\n",
      "result\n"
     ]
    }
   ],
   "source": [
    "print((-2)**3)\n",
    "print(\"result\")"
   ]
  },
  {
   "cell_type": "code",
   "execution_count": 19,
   "id": "535acebb-41b3-45be-a600-bc36274772b1",
   "metadata": {},
   "outputs": [],
   "source": [
    "#variables in python\n",
    "##variables in python"
   ]
  },
  {
   "cell_type": "code",
   "execution_count": 23,
   "id": "cc32adcc-4446-49ea-8d5a-24ecbf2907e7",
   "metadata": {},
   "outputs": [
    {
     "name": "stdout",
     "output_type": "stream",
     "text": [
      "10\n"
     ]
    }
   ],
   "source": [
    "x = 10 \n",
    "print(x)\n",
    "y =20"
   ]
  },
  {
   "cell_type": "code",
   "execution_count": 24,
   "id": "371553e0-f335-4c56-95a4-3af01d12af33",
   "metadata": {},
   "outputs": [
    {
     "name": "stdout",
     "output_type": "stream",
     "text": [
      "30\n"
     ]
    }
   ],
   "source": [
    "print(x+y)"
   ]
  },
  {
   "cell_type": "code",
   "execution_count": 25,
   "id": "1549f7c9-bcae-41d5-9d97-8b3f7c63c3cf",
   "metadata": {},
   "outputs": [],
   "source": [
    "#convention\n",
    "#variable name start with alphabates\n",
    "#dont start with special character like@#$%^\n",
    "#dont start wit number\n",
    "#"
   ]
  },
  {
   "cell_type": "code",
   "execution_count": 26,
   "id": "d8299c7f-b726-4fef-bd99-bfd1b7193658",
   "metadata": {},
   "outputs": [],
   "source": [
    "__num = 10 # its hidden variable"
   ]
  },
  {
   "cell_type": "code",
   "execution_count": 27,
   "id": "21d0ea3c-b614-41cc-a2e4-298f467d459c",
   "metadata": {},
   "outputs": [],
   "source": [
    "#data types"
   ]
  },
  {
   "cell_type": "code",
   "execution_count": 28,
   "id": "f193372a-ed4e-459b-82cb-187cacd104de",
   "metadata": {},
   "outputs": [],
   "source": [
    "# int \n",
    "a = 7\n",
    "type(a)"
   ]
  },
  {
   "cell_type": "code",
   "execution_count": 31,
   "id": "1ee017f4-ca65-416d-9367-7735a0856ffa",
   "metadata": {},
   "outputs": [
    {
     "data": {
      "text/plain": [
       "float"
      ]
     },
     "execution_count": 31,
     "metadata": {},
     "output_type": "execute_result"
    }
   ],
   "source": [
    "#flaot\n",
    "pi = 3.14\n",
    "type(pi)"
   ]
  },
  {
   "cell_type": "code",
   "execution_count": 32,
   "id": "a5fbaafe-90f9-421f-8b0a-a675bdd792c7",
   "metadata": {},
   "outputs": [
    {
     "data": {
      "text/plain": [
       "3.142857142857143"
      ]
     },
     "execution_count": 32,
     "metadata": {},
     "output_type": "execute_result"
    }
   ],
   "source": [
    "pi=22/7\n",
    "pi"
   ]
  },
  {
   "cell_type": "code",
   "execution_count": 33,
   "id": "d2ff7d5a-15f0-443e-8ca1-4b58049f1a7a",
   "metadata": {},
   "outputs": [
    {
     "data": {
      "text/plain": [
       "(3+2j)"
      ]
     },
     "execution_count": 33,
     "metadata": {},
     "output_type": "execute_result"
    }
   ],
   "source": [
    "#complex numbers \n",
    "a = 3+2j\n",
    "a"
   ]
  },
  {
   "cell_type": "code",
   "execution_count": 34,
   "id": "c5c95ef2-fa94-470b-ab89-fd5b8b79a84f",
   "metadata": {},
   "outputs": [
    {
     "data": {
      "text/plain": [
       "complex"
      ]
     },
     "execution_count": 34,
     "metadata": {},
     "output_type": "execute_result"
    }
   ],
   "source": [
    "type(a)\n"
   ]
  },
  {
   "cell_type": "code",
   "execution_count": 35,
   "id": "d5ad72b3-c367-43c1-bd69-a06dfdda25f1",
   "metadata": {},
   "outputs": [
    {
     "data": {
      "text/plain": [
       "3.0"
      ]
     },
     "execution_count": 35,
     "metadata": {},
     "output_type": "execute_result"
    }
   ],
   "source": [
    "a.real"
   ]
  },
  {
   "cell_type": "code",
   "execution_count": 37,
   "id": "71245485-9fa7-4c33-9004-52540c5929b0",
   "metadata": {},
   "outputs": [
    {
     "data": {
      "text/plain": [
       "2.0"
      ]
     },
     "execution_count": 37,
     "metadata": {},
     "output_type": "execute_result"
    }
   ],
   "source": [
    "a.imag"
   ]
  },
  {
   "cell_type": "code",
   "execution_count": 38,
   "id": "f997c332-2836-4824-9d30-84449512daaf",
   "metadata": {},
   "outputs": [
    {
     "name": "stdout",
     "output_type": "stream",
     "text": [
      "<class 'int'>\n",
      "<class 'float'>\n"
     ]
    }
   ],
   "source": [
    "#Dynamic typing -- at run time we change type of varible\n",
    "a = 22\n",
    "print(type(a))\n",
    "a = 22.2\n",
    "print(type(a))"
   ]
  },
  {
   "cell_type": "code",
   "execution_count": 39,
   "id": "f7752733-f32b-4202-a8dc-8ddf767aadb2",
   "metadata": {},
   "outputs": [
    {
     "ename": "TypeError",
     "evalue": "can only concatenate str (not \"int\") to str",
     "output_type": "error",
     "traceback": [
      "\u001b[0;31m---------------------------------------------------------------------------\u001b[0m",
      "\u001b[0;31mTypeError\u001b[0m                                 Traceback (most recent call last)",
      "Cell \u001b[0;32mIn [39], line 2\u001b[0m\n\u001b[1;32m      1\u001b[0m \u001b[38;5;66;03m# strong type\u001b[39;00m\n\u001b[0;32m----> 2\u001b[0m \u001b[38;5;124;43m\"\u001b[39;49m\u001b[38;5;124;43mDay\u001b[39;49m\u001b[38;5;124;43m\"\u001b[39;49m\u001b[43m \u001b[49m\u001b[38;5;241;43m+\u001b[39;49m\u001b[43m \u001b[49m\u001b[38;5;241;43m1\u001b[39;49m\n",
      "\u001b[0;31mTypeError\u001b[0m: can only concatenate str (not \"int\") to str"
     ]
    }
   ],
   "source": [
    "# strong type\n",
    "\"Day\" + 1"
   ]
  },
  {
   "cell_type": "code",
   "execution_count": 40,
   "id": "8c0baee6-6b73-4ccb-b234-10776da7bce3",
   "metadata": {},
   "outputs": [
    {
     "data": {
      "text/plain": [
       "'day1'"
      ]
     },
     "execution_count": 40,
     "metadata": {},
     "output_type": "execute_result"
    }
   ],
   "source": [
    "\"day\" + \"1\""
   ]
  },
  {
   "cell_type": "code",
   "execution_count": 42,
   "id": "05c34153-e0ea-474f-97df-53a3b41084bc",
   "metadata": {},
   "outputs": [
    {
     "data": {
      "text/plain": [
       "4"
      ]
     },
     "execution_count": 42,
     "metadata": {},
     "output_type": "execute_result"
    }
   ],
   "source": [
    "2 + 2"
   ]
  },
  {
   "cell_type": "code",
   "execution_count": 44,
   "id": "9d98666d-31a9-44e0-a014-ff479e9b317b",
   "metadata": {},
   "outputs": [
    {
     "name": "stdout",
     "output_type": "stream",
     "text": [
      "ddffdf python dfff\n"
     ]
    }
   ],
   "source": [
    "lang = \"python\"\n",
    "print(\"ddffdf \"+lang+\" dfff\") #allowed but rarely used\n"
   ]
  },
  {
   "cell_type": "code",
   "execution_count": 48,
   "id": "dc76eaa7-30eb-470d-bfdb-297f927acd33",
   "metadata": {},
   "outputs": [
    {
     "name": "stdout",
     "output_type": "stream",
     "text": [
      "hdfdf javascript dsfd\n"
     ]
    }
   ],
   "source": [
    "lang =\"javascript\" # f  <-- formatted string method\n",
    "print(f\"hdfdf {lang} dsfd\")# current standard approch used"
   ]
  },
  {
   "cell_type": "code",
   "execution_count": 49,
   "id": "041ae2b1-321c-4eae-b215-01587b0b844d",
   "metadata": {},
   "outputs": [
    {
     "name": "stdout",
     "output_type": "stream",
     "text": [
      "hi welcome to java\n"
     ]
    }
   ],
   "source": [
    "#old way\n",
    "lang = \"java\"\n",
    "print(\"hi welcome to {}\".format(lang))"
   ]
  },
  {
   "cell_type": "code",
   "execution_count": 50,
   "id": "5e59f0a8-36f8-42d6-87e7-8f6191256be6",
   "metadata": {},
   "outputs": [
    {
     "name": "stdout",
     "output_type": "stream",
     "text": [
      "Today is first class of python\n"
     ]
    }
   ],
   "source": [
    "num = \"first\"\n",
    "lang = \"python\"\n",
    "print(f\"Today is {num} class of {lang}\")"
   ]
  },
  {
   "cell_type": "code",
   "execution_count": 54,
   "id": "8acdf91e-713d-45b4-ac8d-ae11f87470bc",
   "metadata": {},
   "outputs": [
    {
     "name": "stdout",
     "output_type": "stream",
     "text": [
      "Today is first class of python\n"
     ]
    }
   ],
   "source": [
    "#old way\n",
    "num = \"first\"\n",
    "lang = \"python\"\n",
    "print(\"Today is {} class of {}\".format(num, lang))"
   ]
  },
  {
   "cell_type": "code",
   "execution_count": 55,
   "id": "d960d38f-ac0b-4bd3-94b7-bad8cfd93221",
   "metadata": {},
   "outputs": [
    {
     "name": "stdout",
     "output_type": "stream",
     "text": [
      "Today isfirst class ofpython\n"
     ]
    }
   ],
   "source": [
    "# one more way\n",
    "#old way\n",
    "num = \"first\"\n",
    "lang = \"python\"\n",
    "print(\"Today is\" +num +\" class of\"+lang) #complicated not used but its allowed"
   ]
  },
  {
   "cell_type": "code",
   "execution_count": 58,
   "id": "6dd054b4-3efe-45b2-8c81-a4a3e1adaaa3",
   "metadata": {},
   "outputs": [
    {
     "name": "stdout",
     "output_type": "stream",
     "text": [
      "<class 'bool'>\n"
     ]
    }
   ],
   "source": [
    "#boolean data type\n",
    "one = True\n",
    "two = False\n",
    "print(type(one))"
   ]
  },
  {
   "cell_type": "code",
   "execution_count": 63,
   "id": "b6509389-5004-49d7-b5e7-58061422368a",
   "metadata": {},
   "outputs": [],
   "source": [
    "class1 =1500\n",
    "you1 = 1600\n",
    "result = class1 < you1"
   ]
  },
  {
   "cell_type": "code",
   "execution_count": 64,
   "id": "f5c6f504-c171-4c42-b69b-dde82b02a10a",
   "metadata": {},
   "outputs": [
    {
     "name": "stdout",
     "output_type": "stream",
     "text": [
      "resutt of above is True \n"
     ]
    }
   ],
   "source": [
    "print(f\"resutt of above is {result} \")"
   ]
  },
  {
   "cell_type": "code",
   "execution_count": 69,
   "id": "65dcd8b9-be1a-426a-a9d2-32b39c0a8c3d",
   "metadata": {},
   "outputs": [
    {
     "ename": "SyntaxError",
     "evalue": "unterminated string literal (detected at line 1) (2623436959.py, line 1)",
     "output_type": "error",
     "traceback": [
      "\u001b[0;36m  Cell \u001b[0;32mIn [69], line 1\u001b[0;36m\u001b[0m\n\u001b[0;31m    \"My name is  \\\"Sunny\\ \" Chandra\"\u001b[0m\n\u001b[0m                                   ^\u001b[0m\n\u001b[0;31mSyntaxError\u001b[0m\u001b[0;31m:\u001b[0m unterminated string literal (detected at line 1)\n"
     ]
    }
   ],
   "source": [
    "\"My name is  \\\"Sunny\\ \" Chandra\""
   ]
  },
  {
   "cell_type": "code",
   "execution_count": 70,
   "id": "7a574566-6202-4413-b8b0-8b685a8e05ff",
   "metadata": {},
   "outputs": [
    {
     "data": {
      "text/plain": [
       "'My name is  \"Sunny\" Chandra'"
      ]
     },
     "execution_count": 70,
     "metadata": {},
     "output_type": "execute_result"
    }
   ],
   "source": [
    "\"My name is  \\\"Sunny\\\" Chandra\""
   ]
  },
  {
   "cell_type": "code",
   "execution_count": 71,
   "id": "5b7fcd9b-3a45-4fe7-9daa-cfd15b5114dc",
   "metadata": {},
   "outputs": [
    {
     "name": "stdout",
     "output_type": "stream",
     "text": [
      "\"\n"
     ]
    }
   ],
   "source": [
    "print(\"\\\"\")"
   ]
  },
  {
   "cell_type": "code",
   "execution_count": 73,
   "id": "196c1bea-5ad5-4147-b1b5-86b91f7acf86",
   "metadata": {},
   "outputs": [
    {
     "name": "stdout",
     "output_type": "stream",
     "text": [
      " \" \n"
     ]
    }
   ],
   "source": [
    "print(\"\"\" \" \"\"\")"
   ]
  },
  {
   "cell_type": "code",
   "execution_count": 74,
   "id": "0ed460d7-b331-4e21-a636-9b3dc1e457ba",
   "metadata": {},
   "outputs": [
    {
     "name": "stdout",
     "output_type": "stream",
     "text": [
      " / \n"
     ]
    }
   ],
   "source": [
    "print(\"\"\" / \"\"\")"
   ]
  },
  {
   "cell_type": "code",
   "execution_count": null,
   "id": "6cb3a157-8410-4126-a074-e2f5b68a580c",
   "metadata": {},
   "outputs": [],
   "source": []
  },
  {
   "cell_type": "code",
   "execution_count": 77,
   "id": "fac308df-e9f9-42e1-9312-402d84fe1a03",
   "metadata": {},
   "outputs": [],
   "source": [
    "# muli assignement of variable\n",
    "a=b=c=10"
   ]
  },
  {
   "cell_type": "code",
   "execution_count": null,
   "id": "e5f36e35-5623-4d0e-9309-44cc0ce0c394",
   "metadata": {},
   "outputs": [
    {
     "data": {
      "text/plain": [
       "(10, 10, 10)"
      ]
     },
     "execution_count": 78,
     "metadata": {},
     "output_type": "execute_result"
    }
   ],
   "source": [
    "a,b,c"
   ]
  },
  {
   "cell_type": "code",
   "execution_count": 110,
   "id": "fba6110b-c1c2-4e76-94ab-924a2843119c",
   "metadata": {},
   "outputs": [
    {
     "name": "stdout",
     "output_type": "stream",
     "text": [
      "a.c.@gmail.com\n"
     ]
    }
   ],
   "source": [
    "first_name , middele_name , last_name = \"a\" , \"b\", \"c\"\n",
    "print(f\"{first_name}.{last_name}.@gmail.com\")"
   ]
  },
  {
   "cell_type": "code",
   "execution_count": 112,
   "id": "a2d42408-50b4-4a03-83c0-c680eaa66854",
   "metadata": {},
   "outputs": [
    {
     "name": "stdout",
     "output_type": "stream",
     "text": [
      "first name: a\n",
      "last name: c\n"
     ]
    }
   ],
   "source": [
    "print(f\"\"\"first name: {first_name}\n",
    "last name: {last_name}\"\"\")"
   ]
  },
  {
   "cell_type": "code",
   "execution_count": null,
   "id": "469694af-4d70-4668-a1e4-9c33ca0a514c",
   "metadata": {},
   "outputs": [
    {
     "name": "stdin",
     "output_type": "stream",
     "text": [
      "enter the name fdsfds\n"
     ]
    },
    {
     "name": "stdout",
     "output_type": "stream",
     "text": [
      "your name is fdsfds\n"
     ]
    }
   ],
   "source": [
    "#user input\n",
    "name = input(\"enter the name\")\n",
    "print(f\"your name is {name}\")"
   ]
  },
  {
   "cell_type": "code",
   "execution_count": 85,
   "id": "65886b3a-54c8-4b46-ae64-87759e9a4d6c",
   "metadata": {},
   "outputs": [
    {
     "name": "stdin",
     "output_type": "stream",
     "text": [
      "enter the number 3\n",
      "enter the second number 3\n"
     ]
    },
    {
     "name": "stdout",
     "output_type": "stream",
     "text": [
      "output is 33\n"
     ]
    }
   ],
   "source": [
    " a = input(\"enter the number\")\n",
    "b = input(\"enter the second number\")\n",
    "print(f\"output is {a+b}\")"
   ]
  },
  {
   "cell_type": "code",
   "execution_count": 90,
   "id": "aae6ae26-5f5f-4d6c-be2e-568813b87153",
   "metadata": {},
   "outputs": [
    {
     "name": "stdin",
     "output_type": "stream",
     "text": [
      "enter the number 3\n",
      "enter the second number 4\n"
     ]
    },
    {
     "name": "stdout",
     "output_type": "stream",
     "text": [
      "output is 7\n"
     ]
    }
   ],
   "source": [
    "#so convert them in integer \n",
    "# so did type casting\n",
    "a = int(input(\"enter the number\"))\n",
    "b = int(input(\"enter the second number\"))\n",
    "print(f\"output is {a+b}\")"
   ]
  },
  {
   "cell_type": "code",
   "execution_count": 91,
   "id": "2bc4a44b-97d5-4961-82fc-c68de42c4c10",
   "metadata": {},
   "outputs": [
    {
     "name": "stdin",
     "output_type": "stream",
     "text": [
      "enter the number 12.34\n",
      "enter the second number 34\n"
     ]
    },
    {
     "name": "stdout",
     "output_type": "stream",
     "text": [
      "output is 46.34\n"
     ]
    }
   ],
   "source": [
    "a = float(input(\"enter the number\"))\n",
    "b = int(input(\"enter the second number\"))\n",
    "print(f\"output is {a+b}\")"
   ]
  },
  {
   "cell_type": "code",
   "execution_count": 93,
   "id": "1d2889ca-e1e6-4ce0-8f93-9703fd0a9e76",
   "metadata": {},
   "outputs": [
    {
     "name": "stdout",
     "output_type": "stream",
     "text": [
      "before the conversion <class 'str'>\n",
      "after the conversion <class 'int'>\n"
     ]
    }
   ],
   "source": [
    "a = \"50\"\n",
    "print(f\"before the conversion {type(a)}\")\n",
    "a= int(a) # converted into integer\n",
    "print(f\"after the conversion {type(a)}\")\n"
   ]
  },
  {
   "cell_type": "code",
   "execution_count": 94,
   "id": "d52c249a-1320-425b-9072-a88e5cb1d1d1",
   "metadata": {},
   "outputs": [
    {
     "name": "stdout",
     "output_type": "stream",
     "text": [
      "before the conversion <class 'str'>\n"
     ]
    },
    {
     "ename": "ValueError",
     "evalue": "invalid literal for int() with base 10: '50.22'",
     "output_type": "error",
     "traceback": [
      "\u001b[0;31m---------------------------------------------------------------------------\u001b[0m",
      "\u001b[0;31mValueError\u001b[0m                                Traceback (most recent call last)",
      "Cell \u001b[0;32mIn [94], line 3\u001b[0m\n\u001b[1;32m      1\u001b[0m a \u001b[38;5;241m=\u001b[39m \u001b[38;5;124m\"\u001b[39m\u001b[38;5;124m50.22\u001b[39m\u001b[38;5;124m\"\u001b[39m\n\u001b[1;32m      2\u001b[0m \u001b[38;5;28mprint\u001b[39m(\u001b[38;5;124mf\u001b[39m\u001b[38;5;124m\"\u001b[39m\u001b[38;5;124mbefore the conversion \u001b[39m\u001b[38;5;132;01m{\u001b[39;00m\u001b[38;5;28mtype\u001b[39m(a)\u001b[38;5;132;01m}\u001b[39;00m\u001b[38;5;124m\"\u001b[39m)\n\u001b[0;32m----> 3\u001b[0m a\u001b[38;5;241m=\u001b[39m \u001b[38;5;28;43mint\u001b[39;49m\u001b[43m(\u001b[49m\u001b[43ma\u001b[49m\u001b[43m)\u001b[49m \u001b[38;5;66;03m# converted into integer\u001b[39;00m\n\u001b[1;32m      4\u001b[0m \u001b[38;5;28mprint\u001b[39m(\u001b[38;5;124mf\u001b[39m\u001b[38;5;124m\"\u001b[39m\u001b[38;5;124mafter the conversion \u001b[39m\u001b[38;5;132;01m{\u001b[39;00m\u001b[38;5;28mtype\u001b[39m(a)\u001b[38;5;132;01m}\u001b[39;00m\u001b[38;5;124m\"\u001b[39m)\n",
      "\u001b[0;31mValueError\u001b[0m: invalid literal for int() with base 10: '50.22'"
     ]
    }
   ],
   "source": [
    "# string to interger not allowed if there is decimal\n",
    "a = \"50.22\"\n",
    "print(f\"before the conversion {type(a)}\")\n",
    "a= int(a) # converted into integer\n",
    "print(f\"after the conversion {type(a)}\")\n"
   ]
  },
  {
   "cell_type": "code",
   "execution_count": 96,
   "id": "ad10ec3b-f60b-4d2e-ba27-1c19d1c54b3b",
   "metadata": {},
   "outputs": [
    {
     "name": "stdout",
     "output_type": "stream",
     "text": [
      "before the conversion <class 'float'>\n",
      "after the conversion <class 'int'>\n"
     ]
    }
   ],
   "source": [
    "#flaot to integr allowed\n",
    "a = 50.22\n",
    "print(f\"before the conversion {type(a)}\")\n",
    "a= int(a) # converted into integer\n",
    "print(f\"after the conversion {type(a)}\")\n"
   ]
  },
  {
   "cell_type": "code",
   "execution_count": 97,
   "id": "0b5cb9a1-c4a4-4d8a-9263-6dd4088ece12",
   "metadata": {},
   "outputs": [
    {
     "name": "stdout",
     "output_type": "stream",
     "text": [
      "before the conversion <class 'int'>\n",
      "after the conversion <class 'float'>\n"
     ]
    }
   ],
   "source": [
    "#flaot to integr allowed\n",
    "a = 50\n",
    "print(f\"before the conversion {type(a)}\")\n",
    "a= float(a) # converted into integer\n",
    "print(f\"after the conversion {type(a)}\")\n"
   ]
  },
  {
   "cell_type": "code",
   "execution_count": 101,
   "id": "eb27a654-b967-4ec6-9ea0-4fe9dc2869ef",
   "metadata": {},
   "outputs": [
    {
     "name": "stdout",
     "output_type": "stream",
     "text": [
      "before the conversion <class 'int'>\n",
      "after the conversion True\n"
     ]
    }
   ],
   "source": [
    "#integer to boolean\n",
    "a = 10\n",
    "print(f\"before the conversion {type(a)}\")\n",
    "a= bool(a) # converted into integer\n",
    "print(f\"after the conversion {a}\")\n"
   ]
  },
  {
   "cell_type": "code",
   "execution_count": 102,
   "id": "d7326fe1-6074-4f13-a5a2-496f2844cdcc",
   "metadata": {},
   "outputs": [
    {
     "name": "stdout",
     "output_type": "stream",
     "text": [
      "before the conversion <class 'int'>\n",
      "after the conversion False\n"
     ]
    }
   ],
   "source": [
    "#integer to boolean\n",
    "a = 0\n",
    "print(f\"before the conversion {type(a)}\")\n",
    "a= bool(a) # converted into integer\n",
    "print(f\"after the conversion {a}\")\n"
   ]
  },
  {
   "cell_type": "code",
   "execution_count": 103,
   "id": "768704a4-f3ca-4bca-82b3-6db41da822be",
   "metadata": {},
   "outputs": [
    {
     "name": "stdout",
     "output_type": "stream",
     "text": [
      "before the conversion <class 'int'>\n",
      "after the conversion True\n"
     ]
    }
   ],
   "source": [
    "#integer to boolean\n",
    "a = -10\n",
    "print(f\"before the conversion {type(a)}\")\n",
    "a= bool(a) # converted into integer\n",
    "print(f\"after the conversion {a}\")\n"
   ]
  },
  {
   "cell_type": "code",
   "execution_count": 105,
   "id": "9473a288-c86d-4378-b2c1-ce9496b95214",
   "metadata": {},
   "outputs": [
    {
     "name": "stdout",
     "output_type": "stream",
     "text": [
      "before the conversion <class 'str'>\n",
      "after the conversion True\n"
     ]
    }
   ],
   "source": [
    "#string to boolean\n",
    "a = \"abhi\"\n",
    "print(f\"before the conversion {type(a)}\")\n",
    "a= bool(a) # converted into integer\n",
    "print(f\"after the conversion {a}\")\n"
   ]
  },
  {
   "cell_type": "code",
   "execution_count": 106,
   "id": "7fea5f61-72ed-46eb-b762-4408d3ea53bc",
   "metadata": {},
   "outputs": [
    {
     "name": "stdout",
     "output_type": "stream",
     "text": [
      "before the conversion <class 'str'>\n",
      "after the conversion True\n"
     ]
    }
   ],
   "source": [
    "#string to boolean\n",
    "a = \"True\"\n",
    "print(f\"before the conversion {type(a)}\")\n",
    "a= bool(a) # converted into integer\n",
    "print(f\"after the conversion {a}\")\n"
   ]
  },
  {
   "cell_type": "code",
   "execution_count": 107,
   "id": "acc0d5fb-78f8-4fbb-9aa7-2afa0e8410d4",
   "metadata": {},
   "outputs": [
    {
     "name": "stdout",
     "output_type": "stream",
     "text": [
      "before the conversion <class 'str'>\n",
      "after the conversion True\n"
     ]
    }
   ],
   "source": [
    "#string to boolean\n",
    "a = \"False\"\n",
    "print(f\"before the conversion {type(a)}\")\n",
    "a= bool(a) # converted into integer\n",
    "print(f\"after the conversion {a}\")\n",
    "#it is treating as string-----never go with these options"
   ]
  },
  {
   "cell_type": "code",
   "execution_count": 108,
   "id": "fb41c456-7303-46e8-a690-2809075c924f",
   "metadata": {},
   "outputs": [
    {
     "name": "stdout",
     "output_type": "stream",
     "text": [
      "before the conversion <class 'str'>\n",
      "after the conversion False\n"
     ]
    }
   ],
   "source": [
    "# empty  string to boolean\n",
    "a = \"\"  # no string\n",
    "print(f\"before the conversion {type(a)}\")\n",
    "a= bool(a) # converted into integer\n",
    "print(f\"after the conversion {a}\") # no string thats why they give me false reult"
   ]
  },
  {
   "cell_type": "code",
   "execution_count": 113,
   "id": "306d6f66-30a9-457e-9283-590e1139b950",
   "metadata": {},
   "outputs": [],
   "source": [
    "#memort block\n",
    "# memeory is assigned to the value of variavble passed\n",
    "# not variable name\n",
    "a= 10\n",
    "b =4\n",
    "c =10"
   ]
  },
  {
   "cell_type": "code",
   "execution_count": 114,
   "id": "5403732d-5818-4a62-ac69-933b492f26fd",
   "metadata": {},
   "outputs": [
    {
     "data": {
      "text/plain": [
       "139717238555152"
      ]
     },
     "execution_count": 114,
     "metadata": {},
     "output_type": "execute_result"
    }
   ],
   "source": [
    "id(a)\n",
    "\n"
   ]
  },
  {
   "cell_type": "code",
   "execution_count": 115,
   "id": "ca10d1af-e53b-416f-b0e8-e69d8708b561",
   "metadata": {},
   "outputs": [
    {
     "data": {
      "text/plain": [
       "139717238554960"
      ]
     },
     "execution_count": 115,
     "metadata": {},
     "output_type": "execute_result"
    }
   ],
   "source": [
    "id(b)"
   ]
  },
  {
   "cell_type": "code",
   "execution_count": 116,
   "id": "b6a02c9a-174e-4605-a182-fb960c0a554e",
   "metadata": {},
   "outputs": [
    {
     "data": {
      "text/plain": [
       "139717238555152"
      ]
     },
     "execution_count": 116,
     "metadata": {},
     "output_type": "execute_result"
    }
   ],
   "source": [
    "id(c)"
   ]
  },
  {
   "cell_type": "code",
   "execution_count": 118,
   "id": "371d28e1-98dc-45c3-8c53-b7eaff482964",
   "metadata": {},
   "outputs": [],
   "source": [
    "c = 20+ b"
   ]
  },
  {
   "cell_type": "code",
   "execution_count": 119,
   "id": "743b3a72-f5e0-4206-8925-8dfab3abe4e8",
   "metadata": {},
   "outputs": [
    {
     "data": {
      "text/plain": [
       "139717238555600"
      ]
     },
     "execution_count": 119,
     "metadata": {},
     "output_type": "execute_result"
    }
   ],
   "source": [
    "id(c)"
   ]
  },
  {
   "cell_type": "code",
   "execution_count": 120,
   "id": "b875b3b9-630c-478a-9491-ed6c6a841538",
   "metadata": {},
   "outputs": [],
   "source": [
    "#float\n",
    "a= 10\n",
    "b =4\n",
    "c =10.0\n"
   ]
  },
  {
   "cell_type": "code",
   "execution_count": 121,
   "id": "7cfb8e34-7da9-49f0-829e-c78d78eb2928",
   "metadata": {},
   "outputs": [
    {
     "data": {
      "text/plain": [
       "139717238555152"
      ]
     },
     "execution_count": 121,
     "metadata": {},
     "output_type": "execute_result"
    }
   ],
   "source": [
    "id(a)"
   ]
  },
  {
   "cell_type": "code",
   "execution_count": 122,
   "id": "47f15a44-399b-4c39-ac39-822b88d0ca52",
   "metadata": {},
   "outputs": [
    {
     "data": {
      "text/plain": [
       "139717238554960"
      ]
     },
     "execution_count": 122,
     "metadata": {},
     "output_type": "execute_result"
    }
   ],
   "source": [
    "id(b)"
   ]
  },
  {
   "cell_type": "code",
   "execution_count": 123,
   "id": "86eb4674-c305-471d-bf8a-1d48ba1f62f9",
   "metadata": {},
   "outputs": [
    {
     "data": {
      "text/plain": [
       "139716602421232"
      ]
     },
     "execution_count": 123,
     "metadata": {},
     "output_type": "execute_result"
    }
   ],
   "source": [
    "id(c)"
   ]
  },
  {
   "cell_type": "code",
   "execution_count": null,
   "id": "0e9b6dcf-e311-4281-be00-e58461cf1280",
   "metadata": {},
   "outputs": [],
   "source": []
  }
 ],
 "metadata": {
  "kernelspec": {
   "display_name": "Python 3 (ipykernel)",
   "language": "python",
   "name": "python3"
  },
  "language_info": {
   "codemirror_mode": {
    "name": "ipython",
    "version": 3
   },
   "file_extension": ".py",
   "mimetype": "text/x-python",
   "name": "python",
   "nbconvert_exporter": "python",
   "pygments_lexer": "ipython3",
   "version": "3.10.6"
  }
 },
 "nbformat": 4,
 "nbformat_minor": 5
}
