{
 "cells": [
  {
   "cell_type": "code",
   "execution_count": 6,
   "id": "01ad6624-30a9-4c5d-8618-c1a31f4c1c77",
   "metadata": {},
   "outputs": [],
   "source": [
    "class batch_number:\n",
    "    batch1 =  \"\" # static varible\n",
    "    def __init__(self,a,b,c):\n",
    "        self.a = a  #instance varible\n",
    "        self.b = b\n",
    "        self.c = c\n",
    "    @staticmethod\n",
    "    def batch(): # static function or utility function\n",
    "        print(\"this is static method\") \n",
    "        \n",
    "    def batch1(self):\n",
    "        print(\"this is instance function\") # instance function\n",
    "    "
   ]
  },
  {
   "cell_type": "code",
   "execution_count": 7,
   "id": "81812147-fec6-4c35-8a0d-ccc14f1170cb",
   "metadata": {},
   "outputs": [
    {
     "name": "stdout",
     "output_type": "stream",
     "text": [
      "this is static method\n"
     ]
    }
   ],
   "source": [
    "batch_number.batch() # \n"
   ]
  },
  {
   "cell_type": "code",
   "execution_count": 9,
   "id": "f4a3eb72-d8b7-40b5-bce6-f2e88dd06082",
   "metadata": {},
   "outputs": [
    {
     "name": "stdout",
     "output_type": "stream",
     "text": [
      "this is static method\n"
     ]
    }
   ],
   "source": [
    "a = batch_number(3,4,6)\n",
    "a.batch() # static accessed by both class_name and object"
   ]
  },
  {
   "cell_type": "code",
   "execution_count": null,
   "id": "5ebd10c3-02c4-4883-91e4-0dbd37b9f6f4",
   "metadata": {},
   "outputs": [],
   "source": []
  }
 ],
 "metadata": {
  "kernelspec": {
   "display_name": "Python 3 (ipykernel)",
   "language": "python",
   "name": "python3"
  },
  "language_info": {
   "codemirror_mode": {
    "name": "ipython",
    "version": 3
   },
   "file_extension": ".py",
   "mimetype": "text/x-python",
   "name": "python",
   "nbconvert_exporter": "python",
   "pygments_lexer": "ipython3",
   "version": "3.10.6"
  }
 },
 "nbformat": 4,
 "nbformat_minor": 5
}
