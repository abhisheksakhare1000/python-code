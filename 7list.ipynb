{
 "cells": [
  {
   "cell_type": "code",
   "execution_count": 2,
   "id": "7111fdd0-c9b3-408f-93f6-1fd311801ab9",
   "metadata": {},
   "outputs": [
    {
     "name": "stdout",
     "output_type": "stream",
     "text": [
      "[34, 45, 24, 'abhi', 305]\n"
     ]
    }
   ],
   "source": [
    "# list.. list allow multiple data types in the the list,\n",
    "        # arrat does not allow\n",
    "\n",
    "a = [34,45,24,\"abhi\" ,305]\n",
    "print(a)"
   ]
  },
  {
   "cell_type": "code",
   "execution_count": 3,
   "id": "1019f001-e6f1-43dc-a429-003d7a26c991",
   "metadata": {},
   "outputs": [
    {
     "name": "stdout",
     "output_type": "stream",
     "text": [
      "34\n",
      "45\n",
      "24\n",
      "abhi\n",
      "305\n"
     ]
    }
   ],
   "source": [
    "for  i in range(0 , len(a)):\n",
    "    print(a[i])"
   ]
  },
  {
   "cell_type": "code",
   "execution_count": 4,
   "id": "64f3a8d4-6f78-4fe6-950f-3cf641567c9b",
   "metadata": {},
   "outputs": [
    {
     "data": {
      "text/plain": [
       "34"
      ]
     },
     "execution_count": 4,
     "metadata": {},
     "output_type": "execute_result"
    }
   ],
   "source": [
    "# indexing and slicing\n",
    "my_list = [34,45,24,\"abhi\" ,305]\n",
    "my_list[0]"
   ]
  },
  {
   "cell_type": "code",
   "execution_count": 5,
   "id": "44afcbe9-2cd8-48bd-b7ef-2937c866dce3",
   "metadata": {},
   "outputs": [
    {
     "data": {
      "text/plain": [
       "34"
      ]
     },
     "execution_count": 5,
     "metadata": {},
     "output_type": "execute_result"
    }
   ],
   "source": [
    "my_list[-5]"
   ]
  },
  {
   "cell_type": "code",
   "execution_count": 6,
   "id": "1525ddd4-432f-4eab-ab14-92c7f192777c",
   "metadata": {},
   "outputs": [
    {
     "data": {
      "text/plain": [
       "['abhi', 305]"
      ]
     },
     "execution_count": 6,
     "metadata": {},
     "output_type": "execute_result"
    }
   ],
   "source": [
    "my_list[3:]"
   ]
  },
  {
   "cell_type": "code",
   "execution_count": 7,
   "id": "1b19a478-3229-4b0f-87b8-7ad4fccef774",
   "metadata": {},
   "outputs": [
    {
     "data": {
      "text/plain": [
       "[34, 24, 305]"
      ]
     },
     "execution_count": 7,
     "metadata": {},
     "output_type": "execute_result"
    }
   ],
   "source": [
    "my_list[0:5:2] # start : end : steps"
   ]
  },
  {
   "cell_type": "code",
   "execution_count": 8,
   "id": "768e48df-7623-4bcd-a6d1-00f3d5b32c17",
   "metadata": {},
   "outputs": [
    {
     "name": "stdout",
     "output_type": "stream",
     "text": [
      "0 34\n",
      "2 24\n",
      "4 305\n"
     ]
    }
   ],
   "source": [
    "for i in range(0,5,2): # start , end ,steps\n",
    "    print(i,a[i])"
   ]
  },
  {
   "cell_type": "code",
   "execution_count": 9,
   "id": "c660683d-f03c-4f4d-98e0-f85a6bf21e14",
   "metadata": {},
   "outputs": [
    {
     "data": {
      "text/plain": [
       "[305, 'abhi', 24, 45, 34]"
      ]
     },
     "execution_count": 9,
     "metadata": {},
     "output_type": "execute_result"
    }
   ],
   "source": [
    "my_list[-1:-6:-1]"
   ]
  },
  {
   "cell_type": "code",
   "execution_count": 10,
   "id": "7f1b98c5-68f5-4d12-8ce0-8ff14a53bd78",
   "metadata": {},
   "outputs": [
    {
     "data": {
      "text/plain": [
       "[305, 24, 34]"
      ]
     },
     "execution_count": 10,
     "metadata": {},
     "output_type": "execute_result"
    }
   ],
   "source": [
    "my_list[-1:-6:-2]"
   ]
  },
  {
   "cell_type": "code",
   "execution_count": 11,
   "id": "3d3c6959-a0e7-43f2-b9c1-e38d89cb707d",
   "metadata": {},
   "outputs": [
    {
     "data": {
      "text/plain": [
       "[34, 45, 24, 'abhi']"
      ]
     },
     "execution_count": 11,
     "metadata": {},
     "output_type": "execute_result"
    }
   ],
   "source": [
    "my_list[-5:-1]"
   ]
  },
  {
   "cell_type": "code",
   "execution_count": 12,
   "id": "cdb14782-fa39-456f-8e9b-9406d439e5e5",
   "metadata": {},
   "outputs": [
    {
     "data": {
      "text/plain": [
       "[305, 24, 34]"
      ]
     },
     "execution_count": 12,
     "metadata": {},
     "output_type": "execute_result"
    }
   ],
   "source": [
    "my_list[::-2]  # start: end :step for reverse order -1 "
   ]
  },
  {
   "cell_type": "code",
   "execution_count": 13,
   "id": "c4fe36b1-473b-4ed6-a202-94eac99df68c",
   "metadata": {},
   "outputs": [
    {
     "name": "stdout",
     "output_type": "stream",
     "text": [
      "0 34\n",
      "1 45\n",
      "2 24\n",
      "3 abhi\n",
      "4 305\n"
     ]
    }
   ],
   "source": [
    "for i in range(0,(len(my_list)),1): # start : end : step\n",
    "    print(i,my_list[i])"
   ]
  },
  {
   "cell_type": "code",
   "execution_count": 14,
   "id": "4ca61e05-006d-4c26-af82-bb4c368da7ad",
   "metadata": {},
   "outputs": [
    {
     "name": "stdout",
     "output_type": "stream",
     "text": [
      "0 34\n",
      "1 45\n",
      "2 24\n",
      "3 abhi\n",
      "4 305\n"
     ]
    }
   ],
   "source": [
    "for i in range(0,(len(my_list)),1):  # for reverse oreder, start:\n",
    "    print(i,my_list[i])"
   ]
  },
  {
   "cell_type": "code",
   "execution_count": 15,
   "id": "be32256e-827f-4023-9263-1ce468a49f8d",
   "metadata": {},
   "outputs": [
    {
     "name": "stdout",
     "output_type": "stream",
     "text": [
      "1 45\n",
      "3 abhi\n",
      "3 abhi\n"
     ]
    }
   ],
   "source": [
    "for i in [1,3,3]:\n",
    "    print(i,my_list[i])"
   ]
  },
  {
   "cell_type": "code",
   "execution_count": 16,
   "id": "838ee56a-9bee-4364-8b66-53c5b1a11579",
   "metadata": {},
   "outputs": [],
   "source": [
    "A= [2]"
   ]
  },
  {
   "cell_type": "code",
   "execution_count": 17,
   "id": "0bd4c836-9158-4e1d-b32d-e0893c48fa4f",
   "metadata": {},
   "outputs": [
    {
     "data": {
      "text/plain": [
       "[2]"
      ]
     },
     "execution_count": 17,
     "metadata": {},
     "output_type": "execute_result"
    }
   ],
   "source": [
    "A"
   ]
  },
  {
   "cell_type": "code",
   "execution_count": 18,
   "id": "8ccceea0-cb67-4d2d-a8ed-36ba02552cf3",
   "metadata": {},
   "outputs": [],
   "source": [
    "my_list[0]= 34"
   ]
  },
  {
   "cell_type": "code",
   "execution_count": 19,
   "id": "9e3b415a-17c3-441e-93b0-713846fe6746",
   "metadata": {},
   "outputs": [
    {
     "data": {
      "text/plain": [
       "[34, 45, 24, 'abhi', 305, 'sakhare, clever']"
      ]
     },
     "execution_count": 19,
     "metadata": {},
     "output_type": "execute_result"
    }
   ],
   "source": [
    "my_list1 = [\"sakhare, clever\"]\n",
    "my_list = my_list + my_list1\n",
    "my_list"
   ]
  },
  {
   "cell_type": "code",
   "execution_count": null,
   "id": "bd5a6662-7ccf-4ed8-be00-528ebc95ae5f",
   "metadata": {},
   "outputs": [],
   "source": []
  },
  {
   "cell_type": "code",
   "execution_count": null,
   "id": "b2af53a3-c627-4bd1-a7af-b0717a76e2c0",
   "metadata": {},
   "outputs": [],
   "source": []
  },
  {
   "cell_type": "code",
   "execution_count": 20,
   "id": "c4af8a06-8805-45d5-8548-f05bd697fa3c",
   "metadata": {},
   "outputs": [],
   "source": [
    "# my_list1 - my_list2 is not possible"
   ]
  },
  {
   "cell_type": "code",
   "execution_count": 21,
   "id": "560d1a48-da0d-4376-9c60-1fe6a0a4e0b5",
   "metadata": {},
   "outputs": [
    {
     "data": {
      "text/plain": [
       "[23, 4, 6, 45, 4, 6, 'sdfjds', 'd', ['dkte', 'dkte2']]"
      ]
     },
     "execution_count": 21,
     "metadata": {},
     "output_type": "execute_result"
    }
   ],
   "source": [
    "#appending\n",
    "\n",
    "a = [23,4,6,45,4,6,\"sdfjds\"]\n",
    "a.append(\"d\")\n",
    "b = [\"dkte\", \"dkte2\"]\n",
    "a.append(b)\n",
    "a\n"
   ]
  },
  {
   "cell_type": "code",
   "execution_count": 46,
   "id": "cf0e7812-0e51-4f1f-a54a-367fdec0e3fe",
   "metadata": {},
   "outputs": [
    {
     "name": "stdout",
     "output_type": "stream",
     "text": [
      "23\n",
      "4\n",
      "6\n",
      "45\n",
      "4\n",
      "6\n",
      "sdfjds\n",
      "d\n",
      "['dkte', 'dkte2']\n"
     ]
    }
   ],
   "source": [
    "i=0\n",
    "for i in a:\n",
    "    print(i)"
   ]
  },
  {
   "cell_type": "code",
   "execution_count": 42,
   "id": "f3496d72-281b-41ed-83cb-f3f887937c47",
   "metadata": {},
   "outputs": [
    {
     "data": {
      "text/plain": [
       "[23, 4, 6, 45, 4, 6, 'sdfjds', 'd', ['dkte', 'dkte2']]"
      ]
     },
     "execution_count": 42,
     "metadata": {},
     "output_type": "execute_result"
    }
   ],
   "source": [
    "a"
   ]
  },
  {
   "cell_type": "code",
   "execution_count": null,
   "id": "e0fdaa21-092c-4207-be9e-a9b9bc5f0dd3",
   "metadata": {},
   "outputs": [],
   "source": []
  }
 ],
 "metadata": {
  "kernelspec": {
   "display_name": "Python 3 (ipykernel)",
   "language": "python",
   "name": "python3"
  },
  "language_info": {
   "codemirror_mode": {
    "name": "ipython",
    "version": 3
   },
   "file_extension": ".py",
   "mimetype": "text/x-python",
   "name": "python",
   "nbconvert_exporter": "python",
   "pygments_lexer": "ipython3",
   "version": "3.10.6"
  }
 },
 "nbformat": 4,
 "nbformat_minor": 5
}
