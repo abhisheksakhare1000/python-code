{
 "cells": [
  {
   "cell_type": "code",
   "execution_count": 5,
   "id": "354325e7-78cb-4790-943a-bcb6a8b6a464",
   "metadata": {},
   "outputs": [],
   "source": [
    "class test:\n",
    "    def fun(self):\n",
    "        print(\"this is my sample class\")\n",
    "    def __str__(self):\n",
    "        return (\"The is fun called a time of object print\")\n"
   ]
  },
  {
   "cell_type": "code",
   "execution_count": 6,
   "id": "4b7d4516-5e38-4ffa-8cd6-e8d476d972bd",
   "metadata": {},
   "outputs": [],
   "source": [
    "t = test()"
   ]
  },
  {
   "cell_type": "code",
   "execution_count": 7,
   "id": "2385e849-6bcd-4a62-bf9a-2966a60b57d6",
   "metadata": {},
   "outputs": [
    {
     "name": "stdout",
     "output_type": "stream",
     "text": [
      "The is fun called a time of object print\n"
     ]
    }
   ],
   "source": [
    "print(t)"
   ]
  },
  {
   "cell_type": "code",
   "execution_count": 4,
   "id": "af827054-6ef6-449f-a33b-564fce1f9e05",
   "metadata": {},
   "outputs": [
    {
     "data": {
      "text/plain": [
       "<__main__.test at 0x7f248d5baef0>"
      ]
     },
     "execution_count": 4,
     "metadata": {},
     "output_type": "execute_result"
    }
   ],
   "source": [
    "t"
   ]
  },
  {
   "cell_type": "code",
   "execution_count": null,
   "id": "02461da1-8a46-4e09-be19-7ae9ff0612cf",
   "metadata": {},
   "outputs": [],
   "source": []
  }
 ],
 "metadata": {
  "kernelspec": {
   "display_name": "Python 3 (ipykernel)",
   "language": "python",
   "name": "python3"
  },
  "language_info": {
   "codemirror_mode": {
    "name": "ipython",
    "version": 3
   },
   "file_extension": ".py",
   "mimetype": "text/x-python",
   "name": "python",
   "nbconvert_exporter": "python",
   "pygments_lexer": "ipython3",
   "version": "3.10.6"
  }
 },
 "nbformat": 4,
 "nbformat_minor": 5
}
