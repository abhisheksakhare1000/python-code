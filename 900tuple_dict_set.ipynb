{
 "cells": [
  {
   "cell_type": "code",
   "execution_count": 6,
   "id": "ffacbe7e-16e6-4ae3-8ad9-74217f6ba9b0",
   "metadata": {},
   "outputs": [
    {
     "data": {
      "text/plain": [
       "tuple"
      ]
     },
     "execution_count": 6,
     "metadata": {},
     "output_type": "execute_result"
    }
   ],
   "source": [
    "a = (2,4,4,5,5,4)\n",
    "type(a)"
   ]
  },
  {
   "cell_type": "code",
   "execution_count": 7,
   "id": "9a300a60-7e58-4f8d-8f5a-5e5c7f5bd574",
   "metadata": {},
   "outputs": [],
   "source": [
    "a = (\"ere\",2,4,4,5,5,4)\n"
   ]
  },
  {
   "cell_type": "code",
   "execution_count": 21,
   "id": "43fdde4b-0255-4180-a1c6-f147d39c4b6e",
   "metadata": {},
   "outputs": [
    {
     "data": {
      "text/plain": [
       "(23, 4, 5)"
      ]
     },
     "execution_count": 21,
     "metadata": {},
     "output_type": "execute_result"
    }
   ],
   "source": [
    "#properties of tuple\n",
    "a[0:3]"
   ]
  },
  {
   "cell_type": "code",
   "execution_count": 9,
   "id": "47493d65-013b-486f-9511-6ae47f334210",
   "metadata": {},
   "outputs": [
    {
     "data": {
      "text/plain": [
       "(4, 5, 5, 4, 4, 2, 'ere')"
      ]
     },
     "execution_count": 9,
     "metadata": {},
     "output_type": "execute_result"
    }
   ],
   "source": [
    "a[::-1] #reverse tuple slicing is same in tuple , string ,list"
   ]
  },
  {
   "cell_type": "code",
   "execution_count": 10,
   "id": "af14dc60-9546-460c-8439-f33071613bef",
   "metadata": {},
   "outputs": [
    {
     "data": {
      "text/plain": [
       "('ere', 4, 5, 4)"
      ]
     },
     "execution_count": 10,
     "metadata": {},
     "output_type": "execute_result"
    }
   ],
   "source": [
    "a[0:len(a):2]"
   ]
  },
  {
   "cell_type": "code",
   "execution_count": 11,
   "id": "fb2d5230-d439-4328-9e97-27608728e7b1",
   "metadata": {},
   "outputs": [
    {
     "ename": "TypeError",
     "evalue": "'tuple' object does not support item assignment",
     "output_type": "error",
     "traceback": [
      "\u001b[0;31m---------------------------------------------------------------------------\u001b[0m",
      "\u001b[0;31mTypeError\u001b[0m                                 Traceback (most recent call last)",
      "Cell \u001b[0;32mIn [11], line 4\u001b[0m\n\u001b[1;32m      1\u001b[0m \u001b[38;5;66;03m#In tuple you can add two tuples\u001b[39;00m\n\u001b[1;32m      2\u001b[0m \u001b[38;5;66;03m# it doesn't support append ,extende operation\u001b[39;00m\n\u001b[1;32m      3\u001b[0m \u001b[38;5;66;03m#tuple are  immutable collections \u001b[39;00m\n\u001b[0;32m----> 4\u001b[0m \u001b[43ma\u001b[49m\u001b[43m[\u001b[49m\u001b[38;5;241;43m0\u001b[39;49m\u001b[43m]\u001b[49m\u001b[38;5;241m=\u001b[39m\u001b[38;5;124m\"\u001b[39m\u001b[38;5;124mabhishek\u001b[39m\u001b[38;5;124m\"\u001b[39m\n",
      "\u001b[0;31mTypeError\u001b[0m: 'tuple' object does not support item assignment"
     ]
    }
   ],
   "source": [
    "#In tuple you can add two tuples\n",
    "# it doesn't support append ,extende operation\n",
    "#tuple are  immutable collections \n",
    "a[0]=\"abhishek\" # this is not possible"
   ]
  },
  {
   "cell_type": "code",
   "execution_count": 20,
   "id": "12151dd0-2f8d-4952-8388-f16a9c8d2a67",
   "metadata": {},
   "outputs": [],
   "source": [
    "a1 = (33,6,5,7,9,4)"
   ]
  },
  {
   "cell_type": "code",
   "execution_count": 13,
   "id": "1f791774-2fd7-43c5-9756-c2fc50836630",
   "metadata": {},
   "outputs": [
    {
     "data": {
      "text/plain": [
       "('ere', 2, 4, 4, 5, 5, 4, 33, 6, 5, 7, 9, 4)"
      ]
     },
     "execution_count": 13,
     "metadata": {},
     "output_type": "execute_result"
    }
   ],
   "source": [
    "a+a1"
   ]
  },
  {
   "cell_type": "code",
   "execution_count": 14,
   "id": "dfd63e66-50a0-49b1-8d73-cf6c58d44a1e",
   "metadata": {},
   "outputs": [
    {
     "data": {
      "text/plain": [
       "('ere', 2, 4, 4, 5, 5, 4, 'ere', 2, 4, 4, 5, 5, 4)"
      ]
     },
     "execution_count": 14,
     "metadata": {},
     "output_type": "execute_result"
    }
   ],
   "source": [
    "a *2"
   ]
  },
  {
   "cell_type": "code",
   "execution_count": 15,
   "id": "5fcb8b55-a7ef-4a25-b32d-9e61c98aa862",
   "metadata": {},
   "outputs": [
    {
     "data": {
      "text/plain": [
       "1"
      ]
     },
     "execution_count": 15,
     "metadata": {},
     "output_type": "execute_result"
    }
   ],
   "source": [
    "a.count(\"ere\")"
   ]
  },
  {
   "cell_type": "code",
   "execution_count": 16,
   "id": "e327f716-bd13-4248-bdf2-42fe73dd5273",
   "metadata": {},
   "outputs": [
    {
     "data": {
      "text/plain": [
       "0"
      ]
     },
     "execution_count": 16,
     "metadata": {},
     "output_type": "execute_result"
    }
   ],
   "source": [
    "a.index(\"ere\")\n"
   ]
  },
  {
   "cell_type": "code",
   "execution_count": 17,
   "id": "6281e442-2e79-41aa-bf59-26017ddd9d32",
   "metadata": {},
   "outputs": [
    {
     "data": {
      "text/plain": [
       "1"
      ]
     },
     "execution_count": 17,
     "metadata": {},
     "output_type": "execute_result"
    }
   ],
   "source": [
    "a.index(2)"
   ]
  },
  {
   "cell_type": "code",
   "execution_count": 18,
   "id": "4b4e7211-ef1c-4d18-97b1-6bc1214e8ae5",
   "metadata": {},
   "outputs": [],
   "source": [
    "#nested tuples is possible\n",
    "a = (23,4,5,7,(45,66),(\"abhishek\"))"
   ]
  },
  {
   "cell_type": "code",
   "execution_count": 19,
   "id": "cae8af44-5723-4f63-8296-0d857ccf06ac",
   "metadata": {},
   "outputs": [
    {
     "data": {
      "text/plain": [
       "(23, 4, 5, 7, (45, 66), 'abhishek')"
      ]
     },
     "execution_count": 19,
     "metadata": {},
     "output_type": "execute_result"
    }
   ],
   "source": [
    "a"
   ]
  },
  {
   "cell_type": "code",
   "execution_count": 16,
   "id": "4b233265-9eaf-4dd2-a167-85fa3210eff9",
   "metadata": {},
   "outputs": [],
   "source": [
    "#you can add list in tuple\n",
    "t1 = ([34,56,234], \"abhi\",35)"
   ]
  },
  {
   "cell_type": "code",
   "execution_count": 17,
   "id": "ef53e5ae-f794-44fe-9393-2d8d406c4ccc",
   "metadata": {},
   "outputs": [],
   "source": [
    "#can we change in list in tuple"
   ]
  },
  {
   "cell_type": "code",
   "execution_count": 18,
   "id": "06a2888e-b94b-4154-a92c-2e1a5583ff87",
   "metadata": {},
   "outputs": [],
   "source": [
    "t1[0][1]= \"HI\""
   ]
  },
  {
   "cell_type": "code",
   "execution_count": 19,
   "id": "961ed763-5e6d-493c-90ff-d9e4f04d4422",
   "metadata": {},
   "outputs": [
    {
     "data": {
      "text/plain": [
       "([34, 'HI', 234], 'abhi', 35)"
      ]
     },
     "execution_count": 19,
     "metadata": {},
     "output_type": "execute_result"
    }
   ],
   "source": [
    "t1  # yes its possible but cant change indexes of tuple "
   ]
  },
  {
   "cell_type": "code",
   "execution_count": 20,
   "id": "83a024d2-deff-4a09-9461-87eb4edebe41",
   "metadata": {},
   "outputs": [
    {
     "data": {
      "text/plain": [
       "[[34, 'HI', 234], 'abhi', 35]"
      ]
     },
     "execution_count": 20,
     "metadata": {},
     "output_type": "execute_result"
    }
   ],
   "source": [
    "# list to tuple and vice versa is possible\n",
    "l=list(t1)   \n",
    "l"
   ]
  },
  {
   "cell_type": "code",
   "execution_count": 21,
   "id": "c93f4cf6-eb5f-4f4f-9c0f-5a72235510f3",
   "metadata": {},
   "outputs": [
    {
     "data": {
      "text/plain": [
       "set"
      ]
     },
     "execution_count": 21,
     "metadata": {},
     "output_type": "execute_result"
    }
   ],
   "source": [
    "#set\n",
    "s2 = {4,5,67}\n",
    "type(s2)"
   ]
  },
  {
   "cell_type": "code",
   "execution_count": 22,
   "id": "b7d7ef51-fa80-422e-9d13-39b1865b38c2",
   "metadata": {},
   "outputs": [
    {
     "data": {
      "text/plain": [
       "{3, 4, 5, 9, 10, 87, 99}"
      ]
     },
     "execution_count": 22,
     "metadata": {},
     "output_type": "execute_result"
    }
   ],
   "source": [
    "s2 = {4,5,3,5,87,99,9,9,9,9,9,9,9,10}\n",
    "#by default it remove duplicate values .. it give unique value\n",
    "# in set slicing is not possible...becoz is unordered collection\n",
    "s2"
   ]
  },
  {
   "cell_type": "code",
   "execution_count": 23,
   "id": "a9437f44-564c-4176-9b6e-f44131b4bdf8",
   "metadata": {},
   "outputs": [
    {
     "ename": "TypeError",
     "evalue": "'set' object is not subscriptable",
     "output_type": "error",
     "traceback": [
      "\u001b[0;31m---------------------------------------------------------------------------\u001b[0m",
      "\u001b[0;31mTypeError\u001b[0m                                 Traceback (most recent call last)",
      "Cell \u001b[0;32mIn [23], line 1\u001b[0m\n\u001b[0;32m----> 1\u001b[0m \u001b[43ms2\u001b[49m\u001b[43m[\u001b[49m\u001b[38;5;241;43m0\u001b[39;49m\u001b[43m]\u001b[49m\n",
      "\u001b[0;31mTypeError\u001b[0m: 'set' object is not subscriptable"
     ]
    }
   ],
   "source": [
    "s2[0] # if you  want to acccess then converte set into list"
   ]
  },
  {
   "cell_type": "code",
   "execution_count": 24,
   "id": "a7c0c928-a6e4-4ca9-86a5-75f749254617",
   "metadata": {},
   "outputs": [
    {
     "data": {
      "text/plain": [
       "[3, 99, 4, 5, 87, 9, 10]"
      ]
     },
     "execution_count": 24,
     "metadata": {},
     "output_type": "execute_result"
    }
   ],
   "source": [
    "list(s2)"
   ]
  },
  {
   "cell_type": "code",
   "execution_count": 25,
   "id": "6f94c6e5-4cf0-435d-9fa3-39317ac2fd71",
   "metadata": {},
   "outputs": [
    {
     "data": {
      "text/plain": [
       "set"
      ]
     },
     "execution_count": 25,
     "metadata": {},
     "output_type": "execute_result"
    }
   ],
   "source": [
    "type(s2)"
   ]
  },
  {
   "cell_type": "code",
   "execution_count": 26,
   "id": "90a514b3-f79c-4e71-a7c8-b5fda8b0a968",
   "metadata": {},
   "outputs": [],
   "source": [
    "s2.add(3)"
   ]
  },
  {
   "cell_type": "code",
   "execution_count": 27,
   "id": "6d49dbf2-88f6-4f46-b08b-fc7eaacfba56",
   "metadata": {},
   "outputs": [
    {
     "data": {
      "text/plain": [
       "{3, 4, 5, 9, 10, 87, 99}"
      ]
     },
     "execution_count": 27,
     "metadata": {},
     "output_type": "execute_result"
    }
   ],
   "source": [
    "s2"
   ]
  },
  {
   "cell_type": "code",
   "execution_count": 28,
   "id": "c47c4aee-1f6c-4b01-a9a7-3671c7482df0",
   "metadata": {},
   "outputs": [
    {
     "ename": "TypeError",
     "evalue": "unhashable type: 'list'",
     "output_type": "error",
     "traceback": [
      "\u001b[0;31m---------------------------------------------------------------------------\u001b[0m",
      "\u001b[0;31mTypeError\u001b[0m                                 Traceback (most recent call last)",
      "Cell \u001b[0;32mIn [28], line 1\u001b[0m\n\u001b[0;32m----> 1\u001b[0m \u001b[43ms2\u001b[49m\u001b[38;5;241;43m.\u001b[39;49m\u001b[43madd\u001b[49m\u001b[43m(\u001b[49m\u001b[43m[\u001b[49m\u001b[38;5;241;43m5\u001b[39;49m\u001b[43m,\u001b[49m\u001b[38;5;241;43m6\u001b[39;49m\u001b[43m,\u001b[49m\u001b[38;5;241;43m7\u001b[39;49m\u001b[43m,\u001b[49m\u001b[38;5;241;43m8\u001b[39;49m\u001b[43m]\u001b[49m\u001b[43m)\u001b[49m\n",
      "\u001b[0;31mTypeError\u001b[0m: unhashable type: 'list'"
     ]
    }
   ],
   "source": [
    "s2.add([5,6,7,8])\n",
    "#set holdes unoredered collection of unique element\n",
    "# set collection not primitative data type"
   ]
  },
  {
   "cell_type": "code",
   "execution_count": 29,
   "id": "d254645e-513f-4bfa-aeaf-b2affd0f1cc6",
   "metadata": {},
   "outputs": [
    {
     "data": {
      "text/plain": [
       "{(4, 54, 7), 3, 34, 5, 7}"
      ]
     },
     "execution_count": 29,
     "metadata": {},
     "output_type": "execute_result"
    }
   ],
   "source": [
    "{3,5,7,(4,54,7),34}"
   ]
  },
  {
   "cell_type": "code",
   "execution_count": 30,
   "id": "ab3fa1ce-10ff-4894-80e0-810b8053260a",
   "metadata": {},
   "outputs": [
    {
     "data": {
      "text/plain": [
       "{(4, 54, 7), 3, 34, 5, 7}"
      ]
     },
     "execution_count": 30,
     "metadata": {},
     "output_type": "execute_result"
    }
   ],
   "source": [
    "{3,5,7,(4,54,7),34,(4,54,7)}"
   ]
  },
  {
   "cell_type": "code",
   "execution_count": 31,
   "id": "6e000e2b-73bc-452e-b28b-cb6097f833e9",
   "metadata": {},
   "outputs": [
    {
     "ename": "NameError",
     "evalue": "name 's' is not defined",
     "output_type": "error",
     "traceback": [
      "\u001b[0;31m---------------------------------------------------------------------------\u001b[0m",
      "\u001b[0;31mNameError\u001b[0m                                 Traceback (most recent call last)",
      "Cell \u001b[0;32mIn [31], line 1\u001b[0m\n\u001b[0;32m----> 1\u001b[0m \u001b[43ms\u001b[49m\u001b[38;5;241m.\u001b[39mremove(\u001b[38;5;241m4\u001b[39m)\n",
      "\u001b[0;31mNameError\u001b[0m: name 's' is not defined"
     ]
    }
   ],
   "source": [
    "s.remove(4)"
   ]
  },
  {
   "cell_type": "code",
   "execution_count": 32,
   "id": "0f1b2245-43cb-49aa-89b7-25d192947c6c",
   "metadata": {},
   "outputs": [],
   "source": [
    "s2 = {4,5,3,5,87,99,9,9,9,9,9,9,9,10}\n"
   ]
  },
  {
   "cell_type": "code",
   "execution_count": 33,
   "id": "dcb7eefd-2326-4ee3-9c8b-99aca51685b5",
   "metadata": {},
   "outputs": [],
   "source": [
    "s2.add(246)"
   ]
  },
  {
   "cell_type": "code",
   "execution_count": 34,
   "id": "34546bf8-adb3-41b9-a13c-76162c43b796",
   "metadata": {},
   "outputs": [
    {
     "data": {
      "text/plain": [
       "{3, 4, 5, 9, 10, 87, 99, 246}"
      ]
     },
     "execution_count": 34,
     "metadata": {},
     "output_type": "execute_result"
    }
   ],
   "source": [
    "s2"
   ]
  },
  {
   "cell_type": "code",
   "execution_count": 35,
   "id": "10b3294c-1942-483e-9120-d19355402358",
   "metadata": {},
   "outputs": [],
   "source": [
    "s2.remove(5) # it removes that nubmer\n"
   ]
  },
  {
   "cell_type": "code",
   "execution_count": 36,
   "id": "5f55ea25-9102-4a86-a52f-5b516c3dc868",
   "metadata": {},
   "outputs": [
    {
     "data": {
      "text/plain": [
       "{3, 4, 9, 10, 87, 99, 246}"
      ]
     },
     "execution_count": 36,
     "metadata": {},
     "output_type": "execute_result"
    }
   ],
   "source": [
    "s2"
   ]
  },
  {
   "cell_type": "code",
   "execution_count": 37,
   "id": "4902c4c7-04ce-4347-a45f-62ae359f2299",
   "metadata": {},
   "outputs": [],
   "source": [
    "s2.discard(5)"
   ]
  },
  {
   "cell_type": "code",
   "execution_count": 38,
   "id": "db74d233-e7fe-4566-b37d-def7bfd2d470",
   "metadata": {},
   "outputs": [
    {
     "data": {
      "text/plain": [
       "{3, 4, 9, 10, 87, 99, 246}"
      ]
     },
     "execution_count": 38,
     "metadata": {},
     "output_type": "execute_result"
    }
   ],
   "source": [
    "s2\n"
   ]
  },
  {
   "cell_type": "code",
   "execution_count": 39,
   "id": "ceecbec6-71c8-4542-bfad-0de3b10c5cca",
   "metadata": {},
   "outputs": [
    {
     "data": {
      "text/plain": [
       "{'ABHI', 'Abhi'}"
      ]
     },
     "execution_count": 39,
     "metadata": {},
     "output_type": "execute_result"
    }
   ],
   "source": [
    "{\"Abhi\" , \"ABHI\"}"
   ]
  },
  {
   "cell_type": "code",
   "execution_count": 5,
   "id": "9842edf9-762d-459e-bbe8-1556ab52d42a",
   "metadata": {},
   "outputs": [],
   "source": [
    "l = [3,5,7,89]"
   ]
  },
  {
   "cell_type": "code",
   "execution_count": 6,
   "id": "98406ec0-fdf5-4147-b031-463cae72b799",
   "metadata": {},
   "outputs": [
    {
     "data": {
      "text/plain": [
       "{3, 5, 7, 89}"
      ]
     },
     "execution_count": 6,
     "metadata": {},
     "output_type": "execute_result"
    }
   ],
   "source": [
    "set(l)"
   ]
  },
  {
   "cell_type": "code",
   "execution_count": 11,
   "id": "95a9461f-bb95-4054-98b3-449339b8d44b",
   "metadata": {},
   "outputs": [],
   "source": [
    "#dictonary\n",
    "d = {4 : \"Abhisek\", 5 : \"Sakhare\", \"i\": \"neuron\"}"
   ]
  },
  {
   "cell_type": "code",
   "execution_count": 12,
   "id": "d5bdbbb9-2018-476f-9a72-4c4298539e24",
   "metadata": {},
   "outputs": [
    {
     "data": {
      "text/plain": [
       "'Abhisek'"
      ]
     },
     "execution_count": 12,
     "metadata": {},
     "output_type": "execute_result"
    }
   ],
   "source": [
    "d[4]"
   ]
  },
  {
   "cell_type": "code",
   "execution_count": 14,
   "id": "6e12139d-947d-40d5-8ce5-3199ffe0927f",
   "metadata": {},
   "outputs": [
    {
     "data": {
      "text/plain": [
       "'Sakhare'"
      ]
     },
     "execution_count": 14,
     "metadata": {},
     "output_type": "execute_result"
    }
   ],
   "source": [
    "d[5]"
   ]
  },
  {
   "cell_type": "code",
   "execution_count": 16,
   "id": "8c0eab95-5645-46a0-8715-54853d3b633c",
   "metadata": {},
   "outputs": [],
   "source": [
    "s = {1: {34:\"hi\"}, 2: (3,4,6,7),3 : [45,367,54]}"
   ]
  },
  {
   "cell_type": "code",
   "execution_count": 17,
   "id": "680c5bbc-4d16-4eba-886e-b68a67708246",
   "metadata": {},
   "outputs": [
    {
     "data": {
      "text/plain": [
       "{34: 'hi'}"
      ]
     },
     "execution_count": 17,
     "metadata": {},
     "output_type": "execute_result"
    }
   ],
   "source": [
    "s[1]"
   ]
  },
  {
   "cell_type": "code",
   "execution_count": 18,
   "id": "abf1c0b8-9bdd-4275-b17f-aa1181310513",
   "metadata": {},
   "outputs": [
    {
     "data": {
      "text/plain": [
       "7"
      ]
     },
     "execution_count": 18,
     "metadata": {},
     "output_type": "execute_result"
    }
   ],
   "source": [
    "s[2][3]"
   ]
  },
  {
   "cell_type": "code",
   "execution_count": 19,
   "id": "079a933f-c8e9-4113-a2c7-2b7f922d309c",
   "metadata": {},
   "outputs": [
    {
     "data": {
      "text/plain": [
       "dict_keys([4, 5, 'i'])"
      ]
     },
     "execution_count": 19,
     "metadata": {},
     "output_type": "execute_result"
    }
   ],
   "source": [
    "d.keys()"
   ]
  },
  {
   "cell_type": "code",
   "execution_count": 20,
   "id": "6ec73c6f-cc43-4ad2-be0c-903bc0ac1714",
   "metadata": {},
   "outputs": [
    {
     "data": {
      "text/plain": [
       "dict_values(['Abhisek', 'Sakhare', 'neuron'])"
      ]
     },
     "execution_count": 20,
     "metadata": {},
     "output_type": "execute_result"
    }
   ],
   "source": [
    "d.values()"
   ]
  },
  {
   "cell_type": "code",
   "execution_count": 21,
   "id": "3f0d8cb4-6107-41fb-b487-bcce93a09435",
   "metadata": {},
   "outputs": [
    {
     "data": {
      "text/plain": [
       "dict_items([(4, 'Abhisek'), (5, 'Sakhare'), ('i', 'neuron')])"
      ]
     },
     "execution_count": 21,
     "metadata": {},
     "output_type": "execute_result"
    }
   ],
   "source": [
    "d.items() # it reterns dictonary items"
   ]
  },
  {
   "cell_type": "code",
   "execution_count": 22,
   "id": "abee395a-70e6-43d6-b945-429539ef7626",
   "metadata": {},
   "outputs": [
    {
     "data": {
      "text/plain": [
       "dict_items"
      ]
     },
     "execution_count": 22,
     "metadata": {},
     "output_type": "execute_result"
    }
   ],
   "source": [
    " type(d.items())"
   ]
  },
  {
   "cell_type": "code",
   "execution_count": 23,
   "id": "cc7a715d-b24b-4173-8d46-a23c240fa2a6",
   "metadata": {},
   "outputs": [
    {
     "data": {
      "text/plain": [
       "{4: 'Abhisek', 5: 'Sakhare', 'i': 'neuron'}"
      ]
     },
     "execution_count": 23,
     "metadata": {},
     "output_type": "execute_result"
    }
   ],
   "source": [
    "d"
   ]
  },
  {
   "cell_type": "code",
   "execution_count": 24,
   "id": "255d730a-e742-4076-bb9f-464eb900868f",
   "metadata": {},
   "outputs": [],
   "source": [
    "d [ \"keys\" ] : \"Kumar\""
   ]
  },
  {
   "cell_type": "code",
   "execution_count": 25,
   "id": "9076e44d-7ef9-4be1-9166-306b31a32f0b",
   "metadata": {},
   "outputs": [
    {
     "data": {
      "text/plain": [
       "{4: 'Abhisek', 5: 'Sakhare', 'i': 'neuron'}"
      ]
     },
     "execution_count": 25,
     "metadata": {},
     "output_type": "execute_result"
    }
   ],
   "source": [
    "d"
   ]
  },
  {
   "cell_type": "code",
   "execution_count": 26,
   "id": "76c1ebe6-53ab-4fe8-921a-cbda6d9f19e9",
   "metadata": {},
   "outputs": [],
   "source": [
    "del d[4]"
   ]
  },
  {
   "cell_type": "code",
   "execution_count": 27,
   "id": "5c804d48-f300-4971-8a18-97d33fa5a635",
   "metadata": {},
   "outputs": [
    {
     "data": {
      "text/plain": [
       "{5: 'Sakhare', 'i': 'neuron'}"
      ]
     },
     "execution_count": 27,
     "metadata": {},
     "output_type": "execute_result"
    }
   ],
   "source": [
    "d"
   ]
  },
  {
   "cell_type": "code",
   "execution_count": 29,
   "id": "64b91b6c-aeed-4cf6-a94e-084ef9bcd624",
   "metadata": {},
   "outputs": [],
   "source": [
    "del  d"
   ]
  },
  {
   "cell_type": "code",
   "execution_count": 53,
   "id": "bfb9a384-caff-415e-a7d1-62c430d49204",
   "metadata": {},
   "outputs": [],
   "source": [
    "d1   = {\"key1\": \"abhishek\", \"key2\": \"sakahre\"}"
   ]
  },
  {
   "cell_type": "code",
   "execution_count": 54,
   "id": "8e32e242-851a-483c-9e4a-cf3e506b495b",
   "metadata": {},
   "outputs": [
    {
     "data": {
      "text/plain": [
       "{'key1': 'abhishek', 'key2': 'sakahre'}"
      ]
     },
     "execution_count": 54,
     "metadata": {},
     "output_type": "execute_result"
    }
   ],
   "source": [
    "d1"
   ]
  },
  {
   "cell_type": "code",
   "execution_count": 55,
   "id": "15fc2211-0fd7-454c-9673-6944ec6a4a54",
   "metadata": {},
   "outputs": [
    {
     "data": {
      "text/plain": [
       "'abhishek'"
      ]
     },
     "execution_count": 55,
     "metadata": {},
     "output_type": "execute_result"
    }
   ],
   "source": [
    "d1.get(\"key1\")"
   ]
  },
  {
   "cell_type": "code",
   "execution_count": 56,
   "id": "95685d11-bc50-4d70-becf-a4ed4254ce6c",
   "metadata": {},
   "outputs": [],
   "source": [
    "d2 = {\"key5\" : \"ineron\" , 2 : 355}"
   ]
  },
  {
   "cell_type": "code",
   "execution_count": 57,
   "id": "653643fd-c11d-4302-8f4c-6b1896a43689",
   "metadata": {},
   "outputs": [
    {
     "data": {
      "text/plain": [
       "{'key5': 'ineron', 2: 355}"
      ]
     },
     "execution_count": 57,
     "metadata": {},
     "output_type": "execute_result"
    }
   ],
   "source": [
    "d2"
   ]
  },
  {
   "cell_type": "code",
   "execution_count": 58,
   "id": "420e77b1-b7d2-4871-b173-57ca94afc0a6",
   "metadata": {},
   "outputs": [],
   "source": [
    "d1.update(d2) # it just update inbuilt function of"
   ]
  },
  {
   "cell_type": "code",
   "execution_count": 59,
   "id": "cc0cc946-2c10-4436-aaab-5a01c7a22716",
   "metadata": {},
   "outputs": [
    {
     "data": {
      "text/plain": [
       "{'key1': 'abhishek', 'key2': 'sakahre', 'key5': 'ineron', 2: 355}"
      ]
     },
     "execution_count": 59,
     "metadata": {},
     "output_type": "execute_result"
    }
   ],
   "source": [
    "d1"
   ]
  },
  {
   "cell_type": "code",
   "execution_count": 60,
   "id": "d2295009-5f6b-41d9-bab4-56bb5e6f4278",
   "metadata": {},
   "outputs": [
    {
     "ename": "TypeError",
     "evalue": "unsupported operand type(s) for +: 'dict' and 'dict'",
     "output_type": "error",
     "traceback": [
      "\u001b[0;31m---------------------------------------------------------------------------\u001b[0m",
      "\u001b[0;31mTypeError\u001b[0m                                 Traceback (most recent call last)",
      "Cell \u001b[0;32mIn [60], line 1\u001b[0m\n\u001b[0;32m----> 1\u001b[0m \u001b[43md1\u001b[49m\u001b[38;5;241;43m+\u001b[39;49m\u001b[43m \u001b[49m\u001b[43md2\u001b[49m\n",
      "\u001b[0;31mTypeError\u001b[0m: unsupported operand type(s) for +: 'dict' and 'dict'"
     ]
    }
   ],
   "source": [
    "d1+ d2 # not support"
   ]
  },
  {
   "cell_type": "code",
   "execution_count": 62,
   "id": "1993f59e-8fce-412c-a314-d30f27b910c8",
   "metadata": {},
   "outputs": [
    {
     "data": {
      "text/plain": [
       "{'key1': 'abhishek', 'key2': 'sakahre', 'key5': 'ineron', 2: 355}"
      ]
     },
     "execution_count": 62,
     "metadata": {},
     "output_type": "execute_result"
    }
   ],
   "source": [
    "d1"
   ]
  },
  {
   "cell_type": "code",
   "execution_count": 69,
   "id": "204b8fe1-a5da-4ea7-85dd-bd649683a5ce",
   "metadata": {},
   "outputs": [],
   "source": [
    "key  = (\"name \" , \"mobile_no\", \"email_id\")\n",
    "value = \"sakhare\" \"abhi\""
   ]
  },
  {
   "cell_type": "code",
   "execution_count": 72,
   "id": "9e4c0e0d-ca56-4424-8d34-9b17fb58d0a5",
   "metadata": {},
   "outputs": [],
   "source": [
    "d = d.fromkeys(key,value)"
   ]
  },
  {
   "cell_type": "code",
   "execution_count": 73,
   "id": "1af3159b-f46e-4f28-abff-6ecbf10745f2",
   "metadata": {},
   "outputs": [
    {
     "data": {
      "text/plain": [
       "{'name ': 'sakhareabhi', 'mobile_no': 'sakhareabhi', 'email_id': 'sakhareabhi'}"
      ]
     },
     "execution_count": 73,
     "metadata": {},
     "output_type": "execute_result"
    }
   ],
   "source": [
    "d"
   ]
  },
  {
   "cell_type": "code",
   "execution_count": null,
   "id": "fb9aa05b-f04d-4304-883d-93521517458e",
   "metadata": {},
   "outputs": [],
   "source": []
  }
 ],
 "metadata": {
  "kernelspec": {
   "display_name": "Python 3 (ipykernel)",
   "language": "python",
   "name": "python3"
  },
  "language_info": {
   "codemirror_mode": {
    "name": "ipython",
    "version": 3
   },
   "file_extension": ".py",
   "mimetype": "text/x-python",
   "name": "python",
   "nbconvert_exporter": "python",
   "pygments_lexer": "ipython3",
   "version": "3.10.6"
  }
 },
 "nbformat": 4,
 "nbformat_minor": 5
}
