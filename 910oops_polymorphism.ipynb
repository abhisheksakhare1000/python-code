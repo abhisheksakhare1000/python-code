{
 "cells": [
  {
   "cell_type": "code",
   "execution_count": 8,
   "id": "81c81b71-6d06-4dbd-9b30-ebe29750377b",
   "metadata": {},
   "outputs": [],
   "source": [
    "class social_media:\n",
    "    def share_story(self):\n",
    "        print(\"social media story\")\n",
    "class facebook(social_media):\n",
    "    def share_story(self):\n",
    "        print(\"facebook media story\")\n",
    "class insta(facebook):\n",
    "    def share_story(self):\n",
    "        print(\"insta story\")"
   ]
  },
  {
   "cell_type": "code",
   "execution_count": 9,
   "id": "4e99b698-6317-414c-80d2-0bfebc50b446",
   "metadata": {},
   "outputs": [
    {
     "name": "stdout",
     "output_type": "stream",
     "text": [
      "insta story\n"
     ]
    }
   ],
   "source": [
    "c = insta()\n",
    "c.share_story()"
   ]
  },
  {
   "cell_type": "code",
   "execution_count": 10,
   "id": "eafbeee1-1806-42ff-93f8-a2378056e459",
   "metadata": {},
   "outputs": [
    {
     "name": "stdout",
     "output_type": "stream",
     "text": [
      "facebook media story\n"
     ]
    }
   ],
   "source": [
    "c = facebook()\n",
    "c.share_story()"
   ]
  },
  {
   "cell_type": "code",
   "execution_count": 11,
   "id": "21fc5f6d-787f-44dc-9f15-047007460c36",
   "metadata": {},
   "outputs": [],
   "source": [
    "#own exception class\n",
    "class test(Exception):\n",
    "    def __init__(self,msg):\n",
    "        self.msg = msg\n",
    "        \n"
   ]
  },
  {
   "cell_type": "code",
   "execution_count": 12,
   "id": "63ca8057-247c-4a13-801a-409c9a879829",
   "metadata": {},
   "outputs": [
    {
     "name": "stdout",
     "output_type": "stream",
     "text": [
      "This is my own exception class\n"
     ]
    }
   ],
   "source": [
    "try:\n",
    "    raise(test(\"This is my own exception class\"))\n",
    "except test as t:\n",
    "    print(t)"
   ]
  },
  {
   "cell_type": "code",
   "execution_count": 13,
   "id": "0ced0d07-c56c-459c-90eb-80f7a718496c",
   "metadata": {},
   "outputs": [
    {
     "ename": "SyntaxError",
     "evalue": "invalid syntax (2424291987.py, line 1)",
     "output_type": "error",
     "traceback": [
      "\u001b[0;36m  Cell \u001b[0;32mIn [13], line 1\u001b[0;36m\u001b[0m\n\u001b[0;31m    create own your class  for multiple , multilevel inheritance\u001b[0m\n\u001b[0m           ^\u001b[0m\n\u001b[0;31mSyntaxError\u001b[0m\u001b[0;31m:\u001b[0m invalid syntax\n"
     ]
    }
   ],
   "source": [
    "\"\"\"create own your class  for multiple , multilevel inheritance\n",
    "create own your class for to represent polymorphism\n",
    "create own your class for custom exceptionn\n",
    "create own your class for achive encapsuation\n",
    "create own your class for achive method overloadinng and overriding\"\"\""
   ]
  },
  {
   "cell_type": "code",
   "execution_count": null,
   "id": "cd005ce9-7e44-4aeb-b4c0-7990cbc118c5",
   "metadata": {},
   "outputs": [],
   "source": [
    "try:\n",
    "    "
   ]
  }
 ],
 "metadata": {
  "kernelspec": {
   "display_name": "Python 3 (ipykernel)",
   "language": "python",
   "name": "python3"
  },
  "language_info": {
   "codemirror_mode": {
    "name": "ipython",
    "version": 3
   },
   "file_extension": ".py",
   "mimetype": "text/x-python",
   "name": "python",
   "nbconvert_exporter": "python",
   "pygments_lexer": "ipython3",
   "version": "3.10.6"
  }
 },
 "nbformat": 4,
 "nbformat_minor": 5
}
