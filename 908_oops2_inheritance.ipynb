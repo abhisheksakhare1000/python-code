{
 "cells": [
  {
   "cell_type": "code",
   "execution_count": 40,
   "id": "dacc3d6f-58b6-4477-aa4e-46f0172dc2e3",
   "metadata": {},
   "outputs": [],
   "source": [
    "class xyz:\n",
    "    def __init__ (self,a,b,c):\n",
    "        self.a = a\n",
    "        self.b = b\n",
    "        self.c = c\n",
    "    \n",
    "    def test(self):\n",
    "        print(\"This is method for xyz class\")\n",
    "    \n",
    "class xyz1(xyz):\n",
    "    def __init__ (self, p,q,v):\n",
    "        self.p = p\n",
    "        self.q = q\n",
    "        self.v = v\n",
    "    \n",
    "    def test(self):\n",
    "        print(\"This is method for xyz1 class\")\n",
    "\n",
    "\n",
    "    "
   ]
  },
  {
   "cell_type": "code",
   "execution_count": 41,
   "id": "aaa8b998-7b5e-40a8-b672-06c0e69a1c1d",
   "metadata": {},
   "outputs": [],
   "source": [
    "q = xyz1(3,4,5)"
   ]
  },
  {
   "cell_type": "code",
   "execution_count": 42,
   "id": "2081e7e2-14e4-4f8f-85c4-de5c79679413",
   "metadata": {},
   "outputs": [
    {
     "name": "stdout",
     "output_type": "stream",
     "text": [
      "This is method for xyz1 class\n"
     ]
    }
   ],
   "source": [
    "q.test()  # it will override and it will call child class function\n"
   ]
  },
  {
   "cell_type": "code",
   "execution_count": 43,
   "id": "51991e44-7ceb-45db-856d-214721a9ab8a",
   "metadata": {},
   "outputs": [],
   "source": [
    "# Multilevel class\n",
    "class xyz:\n",
    "    def __init__ (self,a,b,c):\n",
    "        self.a = a\n",
    "        self.b = b\n",
    "        self.c = c\n",
    "    \n",
    "    def test(self):\n",
    "        print(\"This is method for xyz class\")\n",
    "    \n",
    "class xyz1():\n",
    "    def __init__ (self, p,q,v):\n",
    "        self.p = p\n",
    "        self.q = q\n",
    "        self.v = v\n",
    "    \n",
    "    def test(self):\n",
    "        print(\"This is method for xyz1 class\")\n",
    "        \n",
    "class child(xyz,xyz1):\n",
    "    pass"
   ]
  },
  {
   "cell_type": "code",
   "execution_count": 25,
   "id": "c8a54f46-10ad-44eb-aff4-fd1ed36db16d",
   "metadata": {},
   "outputs": [
    {
     "ename": "TypeError",
     "evalue": "xyz.__init__() missing 3 required positional arguments: 'a', 'b', and 'c'",
     "output_type": "error",
     "traceback": [
      "\u001b[0;31m---------------------------------------------------------------------------\u001b[0m",
      "\u001b[0;31mTypeError\u001b[0m                                 Traceback (most recent call last)",
      "Cell \u001b[0;32mIn [25], line 1\u001b[0m\n\u001b[0;32m----> 1\u001b[0m c \u001b[38;5;241m=\u001b[39m \u001b[43mchild\u001b[49m\u001b[43m(\u001b[49m\u001b[43m)\u001b[49m\n",
      "\u001b[0;31mTypeError\u001b[0m: xyz.__init__() missing 3 required positional arguments: 'a', 'b', and 'c'"
     ]
    }
   ],
   "source": [
    "c = child()  # it will ask for a,b,c arguments\n",
    "\n",
    "#class child(xyz1, xyz): # if interchange xyz and xyz1\n",
    "#    pass\n",
    "#now it will ask for arguments p,q,v"
   ]
  },
  {
   "cell_type": "code",
   "execution_count": 26,
   "id": "81702ac1-2482-4d76-834e-56514ed36416",
   "metadata": {},
   "outputs": [],
   "source": [
    "# if you want both arguments then use *args\n"
   ]
  },
  {
   "cell_type": "code",
   "execution_count": 50,
   "id": "1a7b3a18-357d-4d69-bd6d-93ef261bac4d",
   "metadata": {},
   "outputs": [],
   "source": [
    "# Multilevel class\n",
    "class xyz:\n",
    "    def __init__ (self,a,b,c):\n",
    "        self.a = a\n",
    "        self.b = b\n",
    "        self.c = c\n",
    "    \n",
    "    def test(self):\n",
    "        print(\"This is method for xyz class\")\n",
    "    \n",
    "class xyz1():\n",
    "    def __init__ (self, p,q,v):\n",
    "        self.p = p\n",
    "        self.q = q\n",
    "        self.v = v\n",
    "    \n",
    "    def test(self):\n",
    "        print(\"This is method for xyz1 class\")\n",
    "        \n",
    "class child(xyz1,xyz):\n",
    "    def __init__(self,*args, **kwgs):\n",
    "        xyz.__init__(self, *args)\n",
    "        xyz1.__init__(self,**kwgs)"
   ]
  },
  {
   "cell_type": "code",
   "execution_count": 51,
   "id": "b645ceeb-8fa6-4d28-ad3b-680a16e288a0",
   "metadata": {},
   "outputs": [],
   "source": [
    "d = child(2,3,4,p= 4,q= 5, v= 2)"
   ]
  },
  {
   "cell_type": "code",
   "execution_count": 52,
   "id": "c9173d7d-4012-486d-8951-df5b002743d5",
   "metadata": {},
   "outputs": [
    {
     "name": "stdout",
     "output_type": "stream",
     "text": [
      "This is method for xyz1 class\n"
     ]
    }
   ],
   "source": [
    "d.test()"
   ]
  },
  {
   "cell_type": "code",
   "execution_count": 54,
   "id": "602be1c6-63f5-4bc2-bebb-47d1c526ebf9",
   "metadata": {},
   "outputs": [],
   "source": [
    "# Q1 create a file class for reading data from respective file with a method name read and write\n",
    "# q2 try to inherite read and write method form parent class to child class to perform read and write operation"
   ]
  },
  {
   "cell_type": "code",
   "execution_count": 2,
   "id": "639b3984-142f-40a3-94ca-55967bc2fa4d",
   "metadata": {},
   "outputs": [],
   "source": [
    "class filetask: \n",
    "    def __init__(self, filename,filepath):\n",
    "        self.filename = filename\n",
    "        self.filepath = filepath\n",
    "    \n",
    "    def file_write(self):\n",
    "        f  = open(filename , \"w\")\n",
    "        f.write(\"this is my class task\")\n",
    "        f.close()\n",
    "    \n",
    "    def file_read(self):\n",
    "        f = open(filename , \"r\")\n",
    "        print(f.read())\n",
    "        f.close()\n",
    "        \n",
    "class child(filetask):\n",
    "    pass\n",
    "\n",
    "\n",
    "test1 = filetask(\"testingclass\", \".txt\")\n",
    "test2 = child(\"testchild\", '.txt')"
   ]
  },
  {
   "cell_type": "code",
   "execution_count": null,
   "id": "0c47ec27-f819-4c3a-b376-c99ff0d407ce",
   "metadata": {},
   "outputs": [],
   "source": [
    "        \n",
    "        \n",
    "        "
   ]
  }
 ],
 "metadata": {
  "kernelspec": {
   "display_name": "Python 3 (ipykernel)",
   "language": "python",
   "name": "python3"
  },
  "language_info": {
   "codemirror_mode": {
    "name": "ipython",
    "version": 3
   },
   "file_extension": ".py",
   "mimetype": "text/x-python",
   "name": "python",
   "nbconvert_exporter": "python",
   "pygments_lexer": "ipython3",
   "version": "3.10.6"
  }
 },
 "nbformat": 4,
 "nbformat_minor": 5
}
