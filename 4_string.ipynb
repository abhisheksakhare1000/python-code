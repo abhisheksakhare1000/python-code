{
 "cells": [
  {
   "cell_type": "code",
   "execution_count": 3,
   "id": "d7235fad-ca64-4913-90e9-46012d724d10",
   "metadata": {},
   "outputs": [],
   "source": [
    "#string index\n",
    "#       01234\n",
    "#       -5-4-3-2-1\n",
    "name = \"sunny\""
   ]
  },
  {
   "cell_type": "code",
   "execution_count": 5,
   "id": "c8d65a38-9146-45ec-a7f6-40aad5340064",
   "metadata": {},
   "outputs": [
    {
     "data": {
      "text/plain": [
       "'n'"
      ]
     },
     "execution_count": 5,
     "metadata": {},
     "output_type": "execute_result"
    }
   ],
   "source": [
    "name[3]"
   ]
  },
  {
   "cell_type": "code",
   "execution_count": 7,
   "id": "93a3ea9a-2f78-4acb-a112-e98cf46acb5d",
   "metadata": {},
   "outputs": [
    {
     "data": {
      "text/plain": [
       "'s'"
      ]
     },
     "execution_count": 7,
     "metadata": {},
     "output_type": "execute_result"
    }
   ],
   "source": [
    "name[-5]"
   ]
  },
  {
   "cell_type": "code",
   "execution_count": 8,
   "id": "05954ea2-1396-44eb-9d16-6d4f255d16a3",
   "metadata": {},
   "outputs": [
    {
     "data": {
      "text/plain": [
       "'n'"
      ]
     },
     "execution_count": 8,
     "metadata": {},
     "output_type": "execute_result"
    }
   ],
   "source": [
    "name[2]"
   ]
  },
  {
   "cell_type": "code",
   "execution_count": 9,
   "id": "d5d0b7c6-56c3-496e-a575-4b083186f0b8",
   "metadata": {},
   "outputs": [
    {
     "data": {
      "text/plain": [
       "'u'"
      ]
     },
     "execution_count": 9,
     "metadata": {},
     "output_type": "execute_result"
    }
   ],
   "source": [
    "# string slicing\n",
    "name = \"sunny\"\n"
   ]
  },
  {
   "cell_type": "code",
   "execution_count": 10,
   "id": "4bfb4f79-fb54-4309-8b6a-c78e502c9bfe",
   "metadata": {},
   "outputs": [
    {
     "data": {
      "text/plain": [
       "'unny'"
      ]
     },
     "execution_count": 10,
     "metadata": {},
     "output_type": "execute_result"
    }
   ],
   "source": [
    "name [1:]"
   ]
  },
  {
   "cell_type": "code",
   "execution_count": 11,
   "id": "34a3cd11-1c85-4311-b043-764b6661598b",
   "metadata": {},
   "outputs": [
    {
     "data": {
      "text/plain": [
       "'unn'"
      ]
     },
     "execution_count": 11,
     "metadata": {},
     "output_type": "execute_result"
    }
   ],
   "source": [
    "name [1:4]"
   ]
  },
  {
   "cell_type": "code",
   "execution_count": 12,
   "id": "47031760-a8ba-4f54-9197-d76157a30d0c",
   "metadata": {},
   "outputs": [
    {
     "data": {
      "text/plain": [
       "'un'"
      ]
     },
     "execution_count": 12,
     "metadata": {},
     "output_type": "execute_result"
    }
   ],
   "source": [
    "name [1:3]"
   ]
  },
  {
   "cell_type": "code",
   "execution_count": 13,
   "id": "3ca18a26-d8a1-4835-b3a2-271238f9312e",
   "metadata": {},
   "outputs": [
    {
     "data": {
      "text/plain": [
       "'s'"
      ]
     },
     "execution_count": 13,
     "metadata": {},
     "output_type": "execute_result"
    }
   ],
   "source": [
    "#neagative slicing\n",
    "name [-5:-4]"
   ]
  },
  {
   "cell_type": "code",
   "execution_count": 19,
   "id": "337c81e2-af83-4019-857d-6cf76f6a4f7c",
   "metadata": {},
   "outputs": [
    {
     "name": "stdout",
     "output_type": "stream",
     "text": [
      "todays day is 07 of month: 01 of this year 2022\n"
     ]
    }
   ],
   "source": [
    "date = \"07/01/2022\"\n",
    "\n",
    "today_day = date[0:2]\n",
    "this_month = date[3:5]\n",
    "this_year = date[6:12]\n",
    "\n",
    "print(f\"todays day is {today_day} of month: {this_month} of this year {this_year}\")"
   ]
  },
  {
   "cell_type": "code",
   "execution_count": 20,
   "id": "73c43d5c-ebe8-454f-bc1f-5fc1bcc1f67a",
   "metadata": {},
   "outputs": [
    {
     "name": "stdin",
     "output_type": "stream",
     "text": [
      "enter your birth date format DD/MM/YYYY 10/02/202251\n"
     ]
    },
    {
     "name": "stdout",
     "output_type": "stream",
     "text": [
      "todays day is 10 of month: 02 of this year 202251\n"
     ]
    }
   ],
   "source": [
    "date =input(\"enter your birth date format DD/MM/YYYY\")\n",
    "\n",
    "today_day = date[0:2]\n",
    "this_month = date[3:5]\n",
    "this_year = date[6:12]\n",
    "\n",
    "print(f\"todays day is {today_day} of month: {this_month} of this year {this_year}\")"
   ]
  },
  {
   "cell_type": "code",
   "execution_count": 23,
   "id": "035e2494-c67a-41fc-95d5-22d646b16d0c",
   "metadata": {},
   "outputs": [
    {
     "data": {
      "text/plain": [
       "'sny'"
      ]
     },
     "execution_count": 23,
     "metadata": {},
     "output_type": "execute_result"
    }
   ],
   "source": [
    "#palimdrom example mom , madam, nayan\n",
    "name = \"sunny\"\n",
    "name [0:5:2]  # start : end : step"
   ]
  },
  {
   "cell_type": "code",
   "execution_count": 24,
   "id": "ce64e46e-9829-46a6-b991-71bd69c94f57",
   "metadata": {},
   "outputs": [
    {
     "data": {
      "text/plain": [
       "'sn'"
      ]
     },
     "execution_count": 24,
     "metadata": {},
     "output_type": "execute_result"
    }
   ],
   "source": [
    "#palimdrom example mom , madam, nayan\n",
    "name = \"sunny\"\n",
    "name [0:5:3]  # start : end : step"
   ]
  },
  {
   "cell_type": "code",
   "execution_count": 26,
   "id": "b13f87f2-ad3b-4245-a7c9-310308ba0922",
   "metadata": {},
   "outputs": [
    {
     "data": {
      "text/plain": [
       "'sunny'"
      ]
     },
     "execution_count": 26,
     "metadata": {},
     "output_type": "execute_result"
    }
   ],
   "source": [
    "name = \"sunny\"\n",
    "name [::1] "
   ]
  },
  {
   "cell_type": "code",
   "execution_count": 32,
   "id": "5fdb376f-1fce-44a3-9ce4-557a23dee0fb",
   "metadata": {},
   "outputs": [
    {
     "data": {
      "text/plain": [
       "'ynnus'"
      ]
     },
     "execution_count": 32,
     "metadata": {},
     "output_type": "execute_result"
    }
   ],
   "source": [
    "name = \"sunny\"\n",
    "name [::-1]  # it start in reverse order"
   ]
  },
  {
   "cell_type": "code",
   "execution_count": 42,
   "id": "cee6cc3c-2914-4e4d-8d87-2a4fa764002f",
   "metadata": {},
   "outputs": [
    {
     "data": {
      "text/plain": [
       "'yns'"
      ]
     },
     "execution_count": 42,
     "metadata": {},
     "output_type": "execute_result"
    }
   ],
   "source": [
    "name = \"sunny\"\n",
    "name [::-2]  # reverse order with 2 steps"
   ]
  },
  {
   "cell_type": "code",
   "execution_count": 1,
   "id": "9eef648f-66c7-4c63-a690-3b89e2e3c0bc",
   "metadata": {},
   "outputs": [
    {
     "data": {
      "text/plain": [
       "'yns'"
      ]
     },
     "execution_count": 1,
     "metadata": {},
     "output_type": "execute_result"
    }
   ],
   "source": [
    "name = \"sunny\"\n",
    "name [-1:-6:-2]  # reverse order with 2 steps and -1 now become start and -6 become end 3"
   ]
  },
  {
   "cell_type": "code",
   "execution_count": 4,
   "id": "36e09fcd-c29a-465f-a217-b1d2311a721d",
   "metadata": {},
   "outputs": [
    {
     "data": {
      "text/plain": [
       "'Funny'"
      ]
     },
     "execution_count": 4,
     "metadata": {},
     "output_type": "execute_result"
    }
   ],
   "source": [
    "name = \"F\" + name[1:] \n",
    "name"
   ]
  },
  {
   "cell_type": "code",
   "execution_count": 5,
   "id": "027216a0-b448-40bb-a90e-7176cd2d8ab5",
   "metadata": {},
   "outputs": [
    {
     "data": {
      "text/plain": [
       "'SYunny'"
      ]
     },
     "execution_count": 5,
     "metadata": {},
     "output_type": "execute_result"
    }
   ],
   "source": [
    "#other methods\n",
    "name.replace(\"F\", \"SY\")"
   ]
  },
  {
   "cell_type": "code",
   "execution_count": 6,
   "id": "33da40cc-60de-42b3-9e34-4ebcf01a1332",
   "metadata": {},
   "outputs": [
    {
     "data": {
      "text/plain": [
       "'Abhishek_sakhare'"
      ]
     },
     "execution_count": 6,
     "metadata": {},
     "output_type": "execute_result"
    }
   ],
   "source": [
    "name = \"Abhishek sakhare\"\n",
    "name = name.replace(\" \" , \"_\")\n",
    "name"
   ]
  },
  {
   "cell_type": "code",
   "execution_count": 7,
   "id": "60247f32-ba4a-4c1b-a8fb-9cb791f0bb40",
   "metadata": {},
   "outputs": [
    {
     "data": {
      "text/plain": [
       "16"
      ]
     },
     "execution_count": 7,
     "metadata": {},
     "output_type": "execute_result"
    }
   ],
   "source": [
    "#length of string. Lenght also count spaces \n",
    "len(name)"
   ]
  },
  {
   "cell_type": "code",
   "execution_count": 8,
   "id": "6b0fe00b-8580-40ca-b917-e20d7d7f3876",
   "metadata": {},
   "outputs": [
    {
     "data": {
      "text/plain": [
       "8"
      ]
     },
     "execution_count": 8,
     "metadata": {},
     "output_type": "execute_result"
    }
   ],
   "source": [
    "len(\"sunny   \")"
   ]
  },
  {
   "cell_type": "code",
   "execution_count": 9,
   "id": "7889c075-7391-422b-9d56-361cf00210e2",
   "metadata": {},
   "outputs": [
    {
     "data": {
      "text/plain": [
       "'sunny'"
      ]
     },
     "execution_count": 9,
     "metadata": {},
     "output_type": "execute_result"
    }
   ],
   "source": [
    "name = \"   sunny  \"\n",
    "name.replace(\" \", \"\")"
   ]
  },
  {
   "cell_type": "code",
   "execution_count": 18,
   "id": "11118f76-05a4-41e0-b4bc-2b94b43deb2f",
   "metadata": {},
   "outputs": [
    {
     "ename": "TypeError",
     "evalue": "'str' object does not support item assignment",
     "output_type": "error",
     "traceback": [
      "\u001b[0;31m---------------------------------------------------------------------------\u001b[0m",
      "\u001b[0;31mTypeError\u001b[0m                                 Traceback (most recent call last)",
      "Cell \u001b[0;32mIn [18], line 2\u001b[0m\n\u001b[1;32m      1\u001b[0m \u001b[38;5;66;03m#strings are immutable \u001b[39;00m\n\u001b[0;32m----> 2\u001b[0m \u001b[43mname\u001b[49m\u001b[43m[\u001b[49m\u001b[38;5;241;43m0\u001b[39;49m\u001b[43m]\u001b[49m \u001b[38;5;241m=\u001b[39m \u001b[38;5;124m\"\u001b[39m\u001b[38;5;124mF\u001b[39m\u001b[38;5;124m\"\u001b[39m\n",
      "\u001b[0;31mTypeError\u001b[0m: 'str' object does not support item assignment"
     ]
    }
   ],
   "source": [
    "#strings are immutable \n",
    "name[0] = \"F\"\n",
    "# it will throw error you can not add directly"
   ]
  },
  {
   "cell_type": "code",
   "execution_count": 20,
   "id": "af18ff83-1cff-43d6-9e22-da281fffc190",
   "metadata": {},
   "outputs": [
    {
     "data": {
      "text/plain": [
       "2"
      ]
     },
     "execution_count": 20,
     "metadata": {},
     "output_type": "execute_result"
    }
   ],
   "source": [
    "#count specifications\n",
    "name = \"sunny\"\n",
    "name.count(\"n\")"
   ]
  },
  {
   "cell_type": "code",
   "execution_count": 10,
   "id": "61332fad-c22c-4db8-9830-f61f07fb4dd0",
   "metadata": {},
   "outputs": [
    {
     "data": {
      "text/plain": [
       "['Abhihsek', 'Eknath', 'Sakhare']"
      ]
     },
     "execution_count": 10,
     "metadata": {},
     "output_type": "execute_result"
    }
   ],
   "source": [
    "# split operation\n",
    "name = \"Abhihsek Eknath Sakhare\"\n",
    "name.split(\" \")"
   ]
  },
  {
   "cell_type": "code",
   "execution_count": 24,
   "id": "ce76c455-029f-40af-8dd1-7d5baf61476a",
   "metadata": {},
   "outputs": [
    {
     "name": "stdout",
     "output_type": "stream",
     "text": [
      "first name: Abhihsek\n",
      "            second name: Eknath\n",
      "            last name : Sakhare\n",
      "\n"
     ]
    }
   ],
   "source": [
    "first_name, middle_name, last_name = name.split(\" \")\n",
    "print(f\"\"\"first name: {first_name}\n",
    "            second name: {middle_name}\n",
    "            last name : {last_name}\n",
    "\"\"\")"
   ]
  },
  {
   "cell_type": "code",
   "execution_count": 26,
   "id": "beeddc61-ab60-43b8-94a8-1ad7e42e7d9c",
   "metadata": {},
   "outputs": [
    {
     "name": "stdout",
     "output_type": "stream",
     "text": [
      "todays day is 07 of month: 01 of this year 2022\n"
     ]
    }
   ],
   "source": [
    "date = \"07/01/2022\"\n",
    "today_day, this_month , this_year = date.split(\"/\")\n",
    "\n",
    "\n",
    "print(f\"todays day is {today_day} of month: {this_month} of this year {this_year}\")"
   ]
  },
  {
   "cell_type": "code",
   "execution_count": 28,
   "id": "24bda9da-7e0a-4f5d-abec-b296a25bff2a",
   "metadata": {},
   "outputs": [
    {
     "name": "stdin",
     "output_type": "stream",
     "text": [
      "dd/mm/yyyy 10/25/1045\n"
     ]
    },
    {
     "name": "stdout",
     "output_type": "stream",
     "text": [
      "10 25 1045\n"
     ]
    }
   ],
   "source": [
    "#after spliting\n",
    "#now \"07\" has zero index \n",
    "# \"01\" has 1 index\n",
    "# \"2022\" has 2nd index\n",
    "date = input(\"dd/mm/yyyy\")\n",
    "a,b,c = date.split(\"/\")\n",
    "print(a,b,c)"
   ]
  },
  {
   "cell_type": "code",
   "execution_count": 30,
   "id": "35f645e6-f701-4935-91fc-bbbbae5f8bbe",
   "metadata": {},
   "outputs": [
    {
     "name": "stdin",
     "output_type": "stream",
     "text": [
      "dd/mm/yyyy 10/10/2022\n"
     ]
    },
    {
     "data": {
      "text/plain": [
       "'10'"
      ]
     },
     "execution_count": 30,
     "metadata": {},
     "output_type": "execute_result"
    }
   ],
   "source": [
    "# if we store in one varible after spliting\n",
    "date = input(\"dd/mm/yyyy\")\n",
    "a = date.split(\"/\")\n",
    "a[0]\n",
    "a[1]"
   ]
  },
  {
   "cell_type": "code",
   "execution_count": 31,
   "id": "faf49008-9289-4cde-a471-418e41020bb9",
   "metadata": {},
   "outputs": [
    {
     "data": {
      "text/plain": [
       "2"
      ]
     },
     "execution_count": 31,
     "metadata": {},
     "output_type": "execute_result"
    }
   ],
   "source": [
    "len(a[0])"
   ]
  },
  {
   "cell_type": "code",
   "execution_count": 32,
   "id": "0e8b90c9-57eb-4b39-bf5b-f3e1351b2cc4",
   "metadata": {},
   "outputs": [
    {
     "data": {
      "text/plain": [
       "4"
      ]
     },
     "execution_count": 32,
     "metadata": {},
     "output_type": "execute_result"
    }
   ],
   "source": [
    "len(a[2])"
   ]
  },
  {
   "cell_type": "code",
   "execution_count": 33,
   "id": "f134d043-f97d-4628-99a7-23e29591b8cd",
   "metadata": {},
   "outputs": [
    {
     "data": {
      "text/plain": [
       "'ABHISHEK'"
      ]
     },
     "execution_count": 33,
     "metadata": {},
     "output_type": "execute_result"
    }
   ],
   "source": [
    " # uppper and lower case  \n",
    "name = \"abhishek\"\n",
    "name.upper()"
   ]
  },
  {
   "cell_type": "code",
   "execution_count": 34,
   "id": "617e40ac-ab5f-4f61-9f32-b926006b3b69",
   "metadata": {},
   "outputs": [
    {
     "data": {
      "text/plain": [
       "'abhishek'"
      ]
     },
     "execution_count": 34,
     "metadata": {},
     "output_type": "execute_result"
    }
   ],
   "source": [
    "name.lower()"
   ]
  },
  {
   "cell_type": "code",
   "execution_count": 40,
   "id": "5f1fd9f1-38f7-459b-93bf-bf78942474e7",
   "metadata": {},
   "outputs": [
    {
     "name": "stdin",
     "output_type": "stream",
     "text": [
      "enter your name abhishke SAKHARE\n"
     ]
    },
    {
     "name": "stdout",
     "output_type": "stream",
     "text": [
      "name is abhishke sakhare\n",
      "name is ABHISHKE SAKHARE\n",
      "name is title make first letter capital Abhishke Sakhare\n",
      "name is capitalize Abhishke sakhare\n",
      "name is swap ABHISHKE sakhare\n"
     ]
    }
   ],
   "source": [
    "name = input(\"enter your name\")\n",
    "print(f\"name is {name.lower()}\")\n",
    "print(f\"name is {name.upper()}\")\n",
    "print(f\"name is title make first letter capital {name.title()}\")\n",
    "print(f\"name is capitalize {name.capitalize ()}\") # its take first letter capital and rest things take as smaller\n",
    "print(f\"name is swap {name.swapcase ()}\") # it make upper case to lower and lower to upper"
   ]
  },
  {
   "cell_type": "code",
   "execution_count": 47,
   "id": "9d16de91-a120-4fcd-8ecc-fa24b2959434",
   "metadata": {},
   "outputs": [
    {
     "data": {
      "text/plain": [
       "'A_b_h_i_s_h_e_k_ _S_a_k_h_a_r_e'"
      ]
     },
     "execution_count": 47,
     "metadata": {},
     "output_type": "execute_result"
    }
   ],
   "source": [
    "#join method\n",
    "name = \"Abhishek Sakhare\"\n",
    "\"_\".join(name)"
   ]
  },
  {
   "cell_type": "code",
   "execution_count": 48,
   "id": "6be4b849-b80f-43ee-b734-948cac7681f9",
   "metadata": {},
   "outputs": [
    {
     "data": {
      "text/plain": [
       "16"
      ]
     },
     "execution_count": 48,
     "metadata": {},
     "output_type": "execute_result"
    }
   ],
   "source": [
    "len(name)"
   ]
  },
  {
   "cell_type": "code",
   "execution_count": 49,
   "id": "d0f3d035-0bfa-4de8-8451-0b42c2d92ebd",
   "metadata": {},
   "outputs": [
    {
     "data": {
      "text/plain": [
       "'erahkaS kehsihbA'"
      ]
     },
     "execution_count": 49,
     "metadata": {},
     "output_type": "execute_result"
    }
   ],
   "source": [
    "\"\".join(reversed(name))"
   ]
  },
  {
   "cell_type": "code",
   "execution_count": 50,
   "id": "d895211e-6889-4e60-a590-fc2aff6018be",
   "metadata": {},
   "outputs": [
    {
     "data": {
      "text/plain": [
       "'erahkaS kehsihbA'"
      ]
     },
     "execution_count": 50,
     "metadata": {},
     "output_type": "execute_result"
    }
   ],
   "source": [
    "name[::-1] # easy method"
   ]
  },
  {
   "cell_type": "code",
   "execution_count": 65,
   "id": "036317c7-eb66-43a3-a4af-3f2999b8c8a6",
   "metadata": {},
   "outputs": [
    {
     "data": {
      "text/plain": [
       "' = Abhishe sakhare'"
      ]
     },
     "execution_count": 65,
     "metadata": {},
     "output_type": "execute_result"
    }
   ],
   "source": [
    "name = \" = Abhishe sakhare=\"\n",
    "name.strip(\" \") # used to remove spaces from front and back not in between\n",
    "name.lstrip(\" \")                  # to remove left spaces\n",
    "name.rstrip(\"=\") # to remove right spaces"
   ]
  },
  {
   "cell_type": "code",
   "execution_count": 68,
   "id": "59d3dad2-5c55-49e5-bd5e-163462ab0ef9",
   "metadata": {},
   "outputs": [
    {
     "data": {
      "text/plain": [
       "'##sunny###'"
      ]
     },
     "execution_count": 68,
     "metadata": {},
     "output_type": "execute_result"
    }
   ],
   "source": [
    "#formatting\n",
    "name = \"sunny\"\n",
    "name.center(10, \"#\")"
   ]
  },
  {
   "cell_type": "code",
   "execution_count": 70,
   "id": "8414faef-1c01-490c-a1be-5936649f6b84",
   "metadata": {},
   "outputs": [
    {
     "data": {
      "text/plain": [
       "False"
      ]
     },
     "execution_count": 70,
     "metadata": {},
     "output_type": "execute_result"
    }
   ],
   "source": [
    "#checking string cases \n",
    "name = \"abhishek\"\n",
    "name.isupper()"
   ]
  },
  {
   "cell_type": "code",
   "execution_count": 71,
   "id": "2255ee89-4a10-4f61-a4d9-115001349529",
   "metadata": {},
   "outputs": [
    {
     "data": {
      "text/plain": [
       "True"
      ]
     },
     "execution_count": 71,
     "metadata": {},
     "output_type": "execute_result"
    }
   ],
   "source": [
    "name.islower()"
   ]
  },
  {
   "cell_type": "code",
   "execution_count": 73,
   "id": "861ea05b-2588-41bd-bc57-b92e0ac3ead1",
   "metadata": {},
   "outputs": [
    {
     "data": {
      "text/plain": [
       "False"
      ]
     },
     "execution_count": 73,
     "metadata": {},
     "output_type": "execute_result"
    }
   ],
   "source": [
    "name.isspace()"
   ]
  },
  {
   "cell_type": "code",
   "execution_count": 74,
   "id": "c86759ba-a62a-4c84-84d5-7e6e2fa5961a",
   "metadata": {},
   "outputs": [
    {
     "data": {
      "text/plain": [
       "False"
      ]
     },
     "execution_count": 74,
     "metadata": {},
     "output_type": "execute_result"
    }
   ],
   "source": [
    "name.istitle()"
   ]
  },
  {
   "cell_type": "code",
   "execution_count": 80,
   "id": "ce2954a4-b698-40e1-b244-54b4014313bd",
   "metadata": {},
   "outputs": [
    {
     "name": "stdin",
     "output_type": "stream",
     "text": [
      "Enter your name:  abhishek\n"
     ]
    },
    {
     "name": "stdout",
     "output_type": "stream",
     "text": [
      "user input: abhishek\n",
      "wrong input we need to autocorrect it\n",
      "correct outpu is Abhishek\n"
     ]
    }
   ],
   "source": [
    "name = input(\"Enter your name: \")\n",
    "print(f\"user input: {name}\")\n",
    "if name.istitle():\n",
    "    print(\"user has given correct input\")\n",
    "elif name.isspace():\n",
    "    print(\"Wrong input please try again\")\n",
    "else:\n",
    "    print(f\"wrong input we need to autocorrect it\")\n",
    "    name= name.title()\n",
    "    print(f\"correct outpu is {name}\")"
   ]
  },
  {
   "cell_type": "code",
   "execution_count": 85,
   "id": "78f70666-c0bd-4517-8a8e-7b2e31255bf8",
   "metadata": {},
   "outputs": [
    {
     "name": "stdin",
     "output_type": "stream",
     "text": [
      "Enter your phone number 0000000000\n"
     ]
    },
    {
     "name": "stdout",
     "output_type": "stream",
     "text": [
      "Invalid input\n"
     ]
    }
   ],
   "source": [
    "phone_no = input(\"Enter your phone number\")\n",
    "if phone_no.isdigit() and len(phone_no) == 10 and phone_no !=\"0000000000\":\n",
    "    print(f\"user input is correct : {phone_no}\")\n",
    "else:\n",
    "    print(\"Invalid input\")"
   ]
  },
  {
   "cell_type": "code",
   "execution_count": 86,
   "id": "50b9670a-822c-4b3f-b929-d3f5d5c2ec87",
   "metadata": {},
   "outputs": [
    {
     "data": {
      "text/plain": [
       "True"
      ]
     },
     "execution_count": 86,
     "metadata": {},
     "output_type": "execute_result"
    }
   ],
   "source": [
    "phone_no.startswith(\"0\")"
   ]
  },
  {
   "cell_type": "code",
   "execution_count": 88,
   "id": "2fdbe529-62b7-4a99-8808-5ab0467cefcb",
   "metadata": {},
   "outputs": [
    {
     "data": {
      "text/plain": [
       "True"
      ]
     },
     "execution_count": 88,
     "metadata": {},
     "output_type": "execute_result"
    }
   ],
   "source": [
    "phone_no.endswith(\"0\")"
   ]
  },
  {
   "cell_type": "code",
   "execution_count": 90,
   "id": "ee3fd8cc-e448-40d2-93c3-e8b16d21e833",
   "metadata": {},
   "outputs": [
    {
     "name": "stdin",
     "output_type": "stream",
     "text": [
      "Enter your phone numbert +911234567890\n"
     ]
    },
    {
     "name": "stdout",
     "output_type": "stream",
     "text": [
      "correct phone number\n"
     ]
    }
   ],
   "source": [
    "phone_no = input(\"Enter your phone numbert\")\n",
    "if phone_no.startswith(\"+91\") and phone_no[1:].isdigit() and len(phone_no):\n",
    "    print(\"correct phone number\")\n",
    "else:\n",
    "    print(\"invalid number\")"
   ]
  },
  {
   "cell_type": "code",
   "execution_count": 94,
   "id": "261242cb-f558-4b8c-b6d1-81989168c686",
   "metadata": {},
   "outputs": [
    {
     "data": {
      "text/plain": [
       "True"
      ]
     },
     "execution_count": 94,
     "metadata": {},
     "output_type": "execute_result"
    }
   ],
   "source": [
    "#do for pan number\n",
    "pan_number = \"ALDKX6466X\" # it checks alphabate and numeric\n",
    "pan_number.isalnum() # do slicing and use "
   ]
  },
  {
   "cell_type": "code",
   "execution_count": 5,
   "id": "f9339bd1-98dc-4566-8ec6-5970dd8698ba",
   "metadata": {},
   "outputs": [
    {
     "data": {
      "text/plain": [
       "<reversed at 0x7fb0fc4dd810>"
      ]
     },
     "execution_count": 5,
     "metadata": {},
     "output_type": "execute_result"
    }
   ],
   "source": [
    "str1 = \"abhishek\"\n",
    "reversed(str1)"
   ]
  },
  {
   "cell_type": "code",
   "execution_count": 7,
   "id": "a3c66170-1551-4bb0-b2a1-db5a894d8db9",
   "metadata": {},
   "outputs": [
    {
     "data": {
      "text/plain": [
       "'abhishek'"
      ]
     },
     "execution_count": 7,
     "metadata": {},
     "output_type": "execute_result"
    }
   ],
   "source": [
    "for i in str1()"
   ]
  },
  {
   "cell_type": "code",
   "execution_count": null,
   "id": "b35a8987-fc7b-45e4-b90d-72441424f027",
   "metadata": {},
   "outputs": [],
   "source": []
  }
 ],
 "metadata": {
  "kernelspec": {
   "display_name": "Python 3 (ipykernel)",
   "language": "python",
   "name": "python3"
  },
  "language_info": {
   "codemirror_mode": {
    "name": "ipython",
    "version": 3
   },
   "file_extension": ".py",
   "mimetype": "text/x-python",
   "name": "python",
   "nbconvert_exporter": "python",
   "pygments_lexer": "ipython3",
   "version": "3.10.6"
  }
 },
 "nbformat": 4,
 "nbformat_minor": 5
}
