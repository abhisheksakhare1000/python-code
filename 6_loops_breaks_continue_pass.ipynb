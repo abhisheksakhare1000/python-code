{
 "cells": [
  {
   "cell_type": "code",
   "execution_count": 9,
   "id": "eeec60e4-99bf-48a5-9fc5-a916e3f6fdbc",
   "metadata": {},
   "outputs": [
    {
     "name": "stdout",
     "output_type": "stream",
     "text": [
      "Your score is 100\n",
      "Your score is 355\n",
      "Your score is 399\n",
      "Congratulation you are qualified with score 600\n"
     ]
    }
   ],
   "source": [
    "# while loop\n",
    "\n",
    "total_marks = 1000\n",
    "cut_off_marks = 400\n",
    "scores = [100,355,399,600]\n",
    "year = 0\n",
    "while scores[year] <= cut_off_marks:\n",
    "    print(f\"Your score is {scores[year]}\")\n",
    "    year = year+1\n",
    "if scores[year] >= cut_off_marks:\n",
    "    print(f\"Congratulation you are qualified with score {scores[year]}\")"
   ]
  },
  {
   "cell_type": "code",
   "execution_count": 16,
   "id": "95d432c1-b398-4ac9-9c3f-9434fbf55f5c",
   "metadata": {},
   "outputs": [
    {
     "name": "stdout",
     "output_type": "stream",
     "text": [
      "current sum 10\n",
      "current sum 20\n",
      "current sum 30\n",
      "current sum 40\n",
      "current sum 50\n"
     ]
    }
   ],
   "source": [
    "\"\"\"\"\n",
    "counting 10 ruppee money\n",
    "\"\"\"\n",
    "notes = 5\n",
    "i  = 1\n",
    "while i<= notes:\n",
    "    print(f\"current sum {i*10}\")\n",
    "    i = i+1"
   ]
  },
  {
   "cell_type": "code",
   "execution_count": 19,
   "id": "993a1c9f-8b18-41db-80f5-5d1aff55d46e",
   "metadata": {},
   "outputs": [
    {
     "name": "stdout",
     "output_type": "stream",
     "text": [
      "10 x 1=1\n",
      "10 x 2=2\n",
      "10 x 3=3\n",
      "10 x 4=4\n",
      "10 x 5=5\n",
      "10 x 6=6\n",
      "10 x 7=7\n",
      "10 x 8=8\n",
      "10 x 9=9\n",
      "10 x 10=10\n"
     ]
    }
   ],
   "source": [
    "# for loop\n",
    "for i in  range (0,10): # here 10 is out of bond\n",
    "    print(f\"10 x {i+1}={(i*1)+1}\")"
   ]
  },
  {
   "cell_type": "code",
   "execution_count": 20,
   "id": "7478bf30-d9c4-4082-aa44-cb80a3491df6",
   "metadata": {},
   "outputs": [
    {
     "name": "stdout",
     "output_type": "stream",
     "text": [
      "10 x 0=0\n",
      "10 x 1=1\n",
      "10 x 2=2\n",
      "10 x 3=3\n",
      "10 x 4=4\n",
      "10 x 5=5\n",
      "10 x 6=6\n",
      "10 x 7=7\n",
      "10 x 8=8\n",
      "10 x 9=9\n",
      "10 x 10=10\n"
     ]
    }
   ],
   "source": [
    "# for loop\n",
    "for i in  range (0,11): # here 10 is out of bond\n",
    "    print(f\"10 x {i}={i*1}\")"
   ]
  },
  {
   "cell_type": "code",
   "execution_count": 21,
   "id": "b43c79b8-bc2f-4f42-9047-d4adb05573c6",
   "metadata": {},
   "outputs": [
    {
     "name": "stdout",
     "output_type": "stream",
     "text": [
      "\n",
      "*\n",
      "**\n",
      "***\n",
      "****\n",
      "*****\n",
      "******\n",
      "*******\n",
      "********\n",
      "*********\n"
     ]
    }
   ],
   "source": [
    "for i in range (0,11): # 11 is out of bound\n",
    "    print(\"*\"*i)"
   ]
  },
  {
   "cell_type": "code",
   "execution_count": 23,
   "id": "5aafb7dc-1aef-4eb7-b816-8c32bb3733f0",
   "metadata": {},
   "outputs": [
    {
     "data": {
      "text/plain": [
       "'abhishkabhishkabhishkabhishkabhishkabhishkabhishkabhishkabhishkabhishk'"
      ]
     },
     "execution_count": 23,
     "metadata": {},
     "output_type": "execute_result"
    }
   ],
   "source": [
    "\"abhishk\"*10"
   ]
  },
  {
   "cell_type": "code",
   "execution_count": 29,
   "id": "80c0e2a0-e255-4bfc-9bf2-32024a1a3816",
   "metadata": {},
   "outputs": [
    {
     "name": "stdout",
     "output_type": "stream",
     "text": [
      "1000\n"
     ]
    }
   ],
   "source": [
    "# calculating total cost\n",
    "cost_of_items = [100,200,300,400]\n",
    "total_sum = 0\n",
    "N = len(cost_of_items)\n",
    "for i in range (0,N):\n",
    "    total_sum = total_sum + cost_of_items[i]\n",
    "print(total_sum)"
   ]
  },
  {
   "cell_type": "code",
   "execution_count": 41,
   "id": "d4b7c84a-7b3d-415e-afa3-cb861eff94bd",
   "metadata": {},
   "outputs": [
    {
     "name": "stdout",
     "output_type": "stream",
     "text": [
      "1000\n"
     ]
    }
   ],
   "source": [
    "# other ways also\n",
    "cost_of_items = [100,200,300,400]\n",
    "total_sum = 0\n",
    "for cost in  cost_of_items:\n",
    "     total_sum = total_sum + cost\n",
    "print(total_sum)"
   ]
  },
  {
   "cell_type": "code",
   "execution_count": 42,
   "id": "55982648-70c0-4a0d-bd4a-bdb629f3307d",
   "metadata": {},
   "outputs": [
    {
     "name": "stdout",
     "output_type": "stream",
     "text": [
      "Current station is : station 01\n",
      "Current station is : station 02\n",
      "Current station is : station 03\n",
      "Current station is : station 04\n"
     ]
    }
   ],
   "source": [
    "# train journey\n",
    "stations  = [\"station 01\", \"station 02\",\"station 03\",\"station 04\"]\n",
    "for current_stations in stations:\n",
    "    print(f\"Current station is : {current_stations}\")"
   ]
  },
  {
   "cell_type": "code",
   "execution_count": 60,
   "id": "21479dbe-1311-4a0d-8f8c-bb221a4509be",
   "metadata": {},
   "outputs": [
    {
     "name": "stdout",
     "output_type": "stream",
     "text": [
      "Current total is more than my budget: 400\n",
      "Please remove the last item\n",
      "300\n"
     ]
    }
   ],
   "source": [
    "#breaks & continue .\n",
    "# break : exit the loop..dont proceed at all\n",
    "\n",
    "# other ways also\n",
    "cost_of_items = [100,200,300,400]\n",
    "total_sum = 0\n",
    "budget  = 400\n",
    "for cost in  cost_of_items:\n",
    "     total_sum = total_sum + cost\n",
    "     if total_sum > budget:\n",
    "        print(f\"Current total is more than my budget: {budget}\")\n",
    "        print(\"Please remove the last item\")\n",
    "        total_sum = total_sum - cost\n",
    "        break\n",
    "    \n",
    "       \n",
    "print(total_sum)\n"
   ]
  },
  {
   "cell_type": "code",
   "execution_count": 66,
   "id": "5c22bc29-7f29-4e9e-adf0-a2097691d3e7",
   "metadata": {},
   "outputs": [
    {
     "name": "stdout",
     "output_type": "stream",
     "text": [
      "50\n"
     ]
    }
   ],
   "source": [
    "for i in  range (0,100):\n",
    "    if i >= 50:\n",
    "        print(i)\n",
    "        break\n",
    "        "
   ]
  },
  {
   "cell_type": "code",
   "execution_count": 67,
   "id": "53480783-fe8e-4238-b4f6-f8425c33ad20",
   "metadata": {},
   "outputs": [
    {
     "name": "stdout",
     "output_type": "stream",
     "text": [
      "1\n",
      "3\n",
      "5\n",
      "7\n",
      "9\n",
      "11\n",
      "13\n",
      "15\n",
      "17\n",
      "19\n"
     ]
    }
   ],
   "source": [
    "#continue... means start the loop again\n",
    "for i in range(0,20):\n",
    "    if i %2==0: # if number is even then start the loop again\n",
    "        continue\n",
    "    print(i)"
   ]
  },
  {
   "cell_type": "code",
   "execution_count": 72,
   "id": "88e477af-410d-46c4-94c6-36f58a4a9264",
   "metadata": {},
   "outputs": [],
   "source": [
    "#continue... means start the loop again\n",
    "for i in range(1,20):\n",
    "    if i %2!=0: # if number is even then start the loop again\n",
    "        break\n",
    "    print(i)"
   ]
  },
  {
   "cell_type": "code",
   "execution_count": 73,
   "id": "196b2de3-6d5b-4bbd-a0e1-cb4eff8c5f3c",
   "metadata": {},
   "outputs": [],
   "source": [
    "# break -- completely stop the loop \n",
    "# continue -- skips the current loop. it skip statements after \n",
    "            # contine keyword"
   ]
  },
  {
   "cell_type": "code",
   "execution_count": 75,
   "id": "a299be15-630e-4b77-9d17-8b25a6c9960d",
   "metadata": {},
   "outputs": [],
   "source": [
    "# pass\n",
    "for i in range(1,10):\n",
    "    pass # writing code later"
   ]
  },
  {
   "cell_type": "code",
   "execution_count": 76,
   "id": "8a594f61-a909-4730-a77a-2e420b6cc136",
   "metadata": {},
   "outputs": [
    {
     "name": "stdout",
     "output_type": "stream",
     "text": [
      "0\n",
      "1\n",
      "2\n",
      "3\n",
      "4\n",
      "5\n",
      "6\n",
      "7\n",
      "8\n",
      "9\n",
      "10\n",
      "11\n",
      "12\n",
      "13\n",
      "14\n",
      "15\n",
      "16\n",
      "17\n",
      "18\n",
      "19\n"
     ]
    }
   ],
   "source": [
    "#continue... means start the loop again\n",
    "for i in range(0,20):\n",
    "    if i %2==0: # if number is even then start the loop again\n",
    "        pass\n",
    "    print(i)"
   ]
  },
  {
   "cell_type": "code",
   "execution_count": null,
   "id": "d3b37272-0f2b-44c0-b734-7d0d1a08df9d",
   "metadata": {},
   "outputs": [],
   "source": [
    "    "
   ]
  }
 ],
 "metadata": {
  "kernelspec": {
   "display_name": "Python 3 (ipykernel)",
   "language": "python",
   "name": "python3"
  },
  "language_info": {
   "codemirror_mode": {
    "name": "ipython",
    "version": 3
   },
   "file_extension": ".py",
   "mimetype": "text/x-python",
   "name": "python",
   "nbconvert_exporter": "python",
   "pygments_lexer": "ipython3",
   "version": "3.10.6"
  }
 },
 "nbformat": 4,
 "nbformat_minor": 5
}
